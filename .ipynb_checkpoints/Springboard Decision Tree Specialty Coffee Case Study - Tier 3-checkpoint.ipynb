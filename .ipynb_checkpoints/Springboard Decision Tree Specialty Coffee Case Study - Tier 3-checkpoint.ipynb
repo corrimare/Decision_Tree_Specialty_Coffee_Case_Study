{
 "cells": [
  {
   "cell_type": "markdown",
   "metadata": {
    "colab_type": "text",
    "id": "Jm0w3zN4DuVK"
   },
   "source": [
    "# **Springboard Decision Tree Specialty Coffee Case Study - Tier 3**\n",
    "\n",
    "\n"
   ]
  },
  {
   "cell_type": "markdown",
   "metadata": {
    "colab_type": "text",
    "id": "BhqpAY7GDuVN"
   },
   "source": [
    "# The Scenario\n",
    "\n",
    "Imagine you've just finished the Springboard Data Science Career Track course, and have been hired by a rising popular specialty coffee company - RR Diner Coffee - as a data scientist. Congratulations!\n",
    "\n",
    "RR Diner Coffee sells two types of thing:\n",
    "- specialty coffee beans, in bulk (by the kilogram only) \n",
    "- coffee equipment and merchandise (grinders, brewing equipment, mugs, books, t-shirts).\n",
    "\n",
    "RR Diner Coffee has three stores, two in Europe and one in the USA. The flagshap store is in the USA, and everything is quality assessed there, before being shipped out. Customers further away from the USA flagship store have higher shipping charges. \n",
    "\n",
    "You've been taken on at RR Diner Coffee because the company are turning towards using data science and machine learning to systematically make decisions about which coffee farmers they should strike deals with. \n",
    "\n",
    "RR Diner Coffee typically buys coffee from farmers, processes it on site, brings it back to the USA, roasts it, packages it, markets it, and ships it (only in bulk, and after quality assurance) to customers internationally. These customers all own coffee shops in major cities like New York, Paris, London, Hong Kong, Tokyo, and Berlin. \n",
    "\n",
    "Now, RR Diner Coffee has a decision about whether to strike a deal with a legendary coffee farm (known as the **Hidden Farm**) in rural China: there are rumours their coffee tastes of lychee and dark chocolate, while also being as sweet as apple juice. \n",
    "\n",
    "It's a risky decision, as the deal will be expensive, and the coffee might not be bought by customers. The stakes are high: times are tough, stocks are low, farmers are reverting to old deals with the larger enterprises and the publicity of selling *Hidden Farm* coffee could save the RR Diner Coffee business. \n",
    "\n",
    "Your first job, then, is ***to build a decision tree to predict how many units of the Hidden Farm Chinese coffee will be purchased by RR Diner Coffee's most loyal customers.*** \n",
    "\n",
    "To this end, you and your team have conducted a survey of 710 of the most loyal RR Diner Coffee customers, collecting data on the customers':\n",
    "- age\n",
    "- gender \n",
    "- salary \n",
    "- whether they have bought at least one RR Diner Coffee product online\n",
    "- their distance from the flagship store in the USA (standardized to a number between 0 and 11) \n",
    "- how much they spent on RR Diner Coffee products on the week of the survey \n",
    "- how much they spent on RR Diner Coffee products in the month preeding the survey\n",
    "- the number of RR Diner coffee bean shipments each customer has ordered over the preceding year. \n",
    "\n",
    "You also asked each customer participating in the survey whether they would buy the Hidden Farm coffee, and some (but not all) of the customers gave responses to that question. \n",
    "\n",
    "You sit back and think: if more than 70% of the interviewed customers are likely to buy the Hidden Farm coffee, you will strike the deal with the local Hidden Farm farmers and sell the coffee. Otherwise, you won't strike the deal and the Hidden Farm coffee will remain in legends only. There's some doubt in your mind about whether 70% is a reasonable threshold, but it'll do for the moment. \n",
    "\n",
    "To solve the problem, then, you will build a decision tree to implement a classification solution. \n",
    "\n",
    "\n",
    "-------------------------------\n",
    "As ever, this notebook is **tiered**, meaning you can elect that tier that is right for your confidence and skill level. There are 3 tiers, with tier 1 being the easiest and tier 3 being the hardest. This is ***tier 3***, so it will be challenging. \n",
    "\n",
    "**1. Sourcing and loading** \n",
    "- Import packages\n",
    "- Load data\n",
    "- Explore the data\n",
    "\n",
    " \n",
    "**2. Cleaning, transforming and visualizing**\n",
    "- Cleaning the data\n",
    "- Train/test split\n",
    "  \n",
    "  \n",
    "**3. Modelling** \n",
    "- Model 1: Entropy model - no max_depth\n",
    "- Model 2: Gini impurity model - no max_depth\n",
    "- Model 3: Entropy model - max depth 3\n",
    "- Model 4: Gini impurity model - max depth 3\n",
    "\n",
    "\n",
    "**4. Evaluating and concluding** \n",
    "- How many customers will buy Hidden Farm coffee?\n",
    "- Decision\n",
    "\n",
    "**5. Random Forest** \n",
    "- Import necessary modules\n",
    "- Model\n",
    "- Revise conclusion\n",
    "    "
   ]
  },
  {
   "cell_type": "markdown",
   "metadata": {
    "colab_type": "text",
    "id": "nciXGXtCDuVO"
   },
   "source": [
    "# 0. Overview\n",
    "\n",
    "This notebook uses decision trees to determine whether the factors of salary, gender, age, how much money the customer spent last week and during the preceding month on RR Diner Coffee products, how many kilogram coffee bags the customer bought over the last year, whether they have bought at least one RR Diner Coffee product online, and their distance from the flagship store in the USA, could predict whether customers would purchase the Hidden Farm coffee if a deal with its farmers were struck. "
   ]
  },
  {
   "cell_type": "markdown",
   "metadata": {
    "colab_type": "text",
    "id": "5fSgD2h9DuVP"
   },
   "source": [
    "# 1. Sourcing and loading\n",
    "## 1a. Import Packages"
   ]
  },
  {
   "cell_type": "code",
   "execution_count": 51,
   "metadata": {
    "colab": {},
    "colab_type": "code",
    "id": "CfGkTcLvDuVQ"
   },
   "outputs": [],
   "source": [
    "import pandas as pd\n",
    "import numpy as np\n",
    "from sklearn import tree, metrics\n",
    "from sklearn.model_selection import train_test_split\n",
    "import seaborn as sns\n",
    "import matplotlib.pyplot as plt\n",
    "from io import StringIO  \n",
    "from IPython.display import Image  \n",
    "import pydotplus"
   ]
  },
  {
   "cell_type": "markdown",
   "metadata": {
    "colab_type": "text",
    "id": "ZLgxyhNrDuVT"
   },
   "source": [
    "## 1b. Load data "
   ]
  },
  {
   "cell_type": "code",
   "execution_count": 52,
   "metadata": {
    "colab": {},
    "colab_type": "code",
    "id": "chW2ozlnDuVU"
   },
   "outputs": [],
   "source": [
    "# Read in the data to a variable called coffeeData\n",
    "coffeeData=pd.read_csv('.\\\\data\\\\RRDinerCoffeeData.csv')"
   ]
  },
  {
   "cell_type": "markdown",
   "metadata": {
    "colab_type": "text",
    "id": "qnMVYf2NDuVW"
   },
   "source": [
    "## 1c. Explore the data"
   ]
  },
  {
   "cell_type": "markdown",
   "metadata": {
    "colab_type": "text",
    "id": "U5Qm4obyDuVX"
   },
   "source": [
    "As we've seen, exploration entails doing things like checking out the **initial appearance** of the data with head(), the **dimensions** of our data with .shape, the **data types** of the variables with .info(), the **number of non-null values**, how much **memory** is being used to store the data, and finally the major summary statistcs capturing **central tendancy, dispersion and the null-excluding shape of the dataset's distribution**. \n",
    "\n",
    "How much of this can you do yourself by this point in the course? Have a real go. "
   ]
  },
  {
   "cell_type": "code",
   "execution_count": 53,
   "metadata": {
    "colab": {},
    "colab_type": "code",
    "id": "cHEKFT4SDuVY"
   },
   "outputs": [
    {
     "data": {
      "text/html": [
       "<div>\n",
       "<style scoped>\n",
       "    .dataframe tbody tr th:only-of-type {\n",
       "        vertical-align: middle;\n",
       "    }\n",
       "\n",
       "    .dataframe tbody tr th {\n",
       "        vertical-align: top;\n",
       "    }\n",
       "\n",
       "    .dataframe thead th {\n",
       "        text-align: right;\n",
       "    }\n",
       "</style>\n",
       "<table border=\"1\" class=\"dataframe\">\n",
       "  <thead>\n",
       "    <tr style=\"text-align: right;\">\n",
       "      <th></th>\n",
       "      <th>Age</th>\n",
       "      <th>Gender</th>\n",
       "      <th>num_coffeeBags_per_year</th>\n",
       "      <th>spent_week</th>\n",
       "      <th>spent_month</th>\n",
       "      <th>SlrAY</th>\n",
       "      <th>Distance</th>\n",
       "      <th>Online</th>\n",
       "      <th>Decision</th>\n",
       "    </tr>\n",
       "  </thead>\n",
       "  <tbody>\n",
       "    <tr>\n",
       "      <th>0</th>\n",
       "      <td>36</td>\n",
       "      <td>Female</td>\n",
       "      <td>0</td>\n",
       "      <td>24</td>\n",
       "      <td>73</td>\n",
       "      <td>42789</td>\n",
       "      <td>0.003168</td>\n",
       "      <td>0</td>\n",
       "      <td>1.0</td>\n",
       "    </tr>\n",
       "    <tr>\n",
       "      <th>1</th>\n",
       "      <td>24</td>\n",
       "      <td>Male</td>\n",
       "      <td>0</td>\n",
       "      <td>44</td>\n",
       "      <td>164</td>\n",
       "      <td>74035</td>\n",
       "      <td>0.520906</td>\n",
       "      <td>0</td>\n",
       "      <td>NaN</td>\n",
       "    </tr>\n",
       "    <tr>\n",
       "      <th>2</th>\n",
       "      <td>24</td>\n",
       "      <td>Male</td>\n",
       "      <td>0</td>\n",
       "      <td>39</td>\n",
       "      <td>119</td>\n",
       "      <td>30563</td>\n",
       "      <td>0.916005</td>\n",
       "      <td>1</td>\n",
       "      <td>1.0</td>\n",
       "    </tr>\n",
       "    <tr>\n",
       "      <th>3</th>\n",
       "      <td>20</td>\n",
       "      <td>Male</td>\n",
       "      <td>0</td>\n",
       "      <td>30</td>\n",
       "      <td>107</td>\n",
       "      <td>13166</td>\n",
       "      <td>0.932098</td>\n",
       "      <td>1</td>\n",
       "      <td>NaN</td>\n",
       "    </tr>\n",
       "    <tr>\n",
       "      <th>4</th>\n",
       "      <td>24</td>\n",
       "      <td>Female</td>\n",
       "      <td>0</td>\n",
       "      <td>20</td>\n",
       "      <td>36</td>\n",
       "      <td>14244</td>\n",
       "      <td>0.965881</td>\n",
       "      <td>0</td>\n",
       "      <td>1.0</td>\n",
       "    </tr>\n",
       "  </tbody>\n",
       "</table>\n",
       "</div>"
      ],
      "text/plain": [
       "   Age  Gender  num_coffeeBags_per_year  spent_week  spent_month  SlrAY  \\\n",
       "0   36  Female                        0          24           73  42789   \n",
       "1   24    Male                        0          44          164  74035   \n",
       "2   24    Male                        0          39          119  30563   \n",
       "3   20    Male                        0          30          107  13166   \n",
       "4   24  Female                        0          20           36  14244   \n",
       "\n",
       "   Distance  Online  Decision  \n",
       "0  0.003168       0       1.0  \n",
       "1  0.520906       0       NaN  \n",
       "2  0.916005       1       1.0  \n",
       "3  0.932098       1       NaN  \n",
       "4  0.965881       0       1.0  "
      ]
     },
     "execution_count": 53,
     "metadata": {},
     "output_type": "execute_result"
    }
   ],
   "source": [
    "# Call head() on your data \n",
    "coffeeData.head()"
   ]
  },
  {
   "cell_type": "code",
   "execution_count": 54,
   "metadata": {
    "colab": {},
    "colab_type": "code",
    "id": "rDshwA7tDuVa"
   },
   "outputs": [
    {
     "data": {
      "text/plain": [
       "(702, 9)"
      ]
     },
     "execution_count": 54,
     "metadata": {},
     "output_type": "execute_result"
    }
   ],
   "source": [
    "# Call .shape on your data\n",
    "coffeeData.shape"
   ]
  },
  {
   "cell_type": "code",
   "execution_count": 55,
   "metadata": {
    "colab": {},
    "colab_type": "code",
    "id": "iCxo0tomDuVc"
   },
   "outputs": [
    {
     "name": "stdout",
     "output_type": "stream",
     "text": [
      "<class 'pandas.core.frame.DataFrame'>\n",
      "RangeIndex: 702 entries, 0 to 701\n",
      "Data columns (total 9 columns):\n",
      " #   Column                   Non-Null Count  Dtype  \n",
      "---  ------                   --------------  -----  \n",
      " 0   Age                      702 non-null    int64  \n",
      " 1   Gender                   702 non-null    object \n",
      " 2   num_coffeeBags_per_year  702 non-null    int64  \n",
      " 3   spent_week               702 non-null    int64  \n",
      " 4   spent_month              702 non-null    int64  \n",
      " 5   SlrAY                    702 non-null    int64  \n",
      " 6   Distance                 702 non-null    float64\n",
      " 7   Online                   702 non-null    int64  \n",
      " 8   Decision                 474 non-null    float64\n",
      "dtypes: float64(2), int64(6), object(1)\n",
      "memory usage: 49.5+ KB\n"
     ]
    }
   ],
   "source": [
    "# Call info() on your data\n",
    "coffeeData.info()"
   ]
  },
  {
   "cell_type": "code",
   "execution_count": 56,
   "metadata": {
    "colab": {},
    "colab_type": "code",
    "id": "t0ZdmaUeDuVe"
   },
   "outputs": [
    {
     "data": {
      "text/html": [
       "<div>\n",
       "<style scoped>\n",
       "    .dataframe tbody tr th:only-of-type {\n",
       "        vertical-align: middle;\n",
       "    }\n",
       "\n",
       "    .dataframe tbody tr th {\n",
       "        vertical-align: top;\n",
       "    }\n",
       "\n",
       "    .dataframe thead th {\n",
       "        text-align: right;\n",
       "    }\n",
       "</style>\n",
       "<table border=\"1\" class=\"dataframe\">\n",
       "  <thead>\n",
       "    <tr style=\"text-align: right;\">\n",
       "      <th></th>\n",
       "      <th>Age</th>\n",
       "      <th>num_coffeeBags_per_year</th>\n",
       "      <th>spent_week</th>\n",
       "      <th>spent_month</th>\n",
       "      <th>SlrAY</th>\n",
       "      <th>Distance</th>\n",
       "      <th>Online</th>\n",
       "      <th>Decision</th>\n",
       "    </tr>\n",
       "  </thead>\n",
       "  <tbody>\n",
       "    <tr>\n",
       "      <th>count</th>\n",
       "      <td>702.000000</td>\n",
       "      <td>702.000000</td>\n",
       "      <td>702.000000</td>\n",
       "      <td>702.000000</td>\n",
       "      <td>702.000000</td>\n",
       "      <td>702.000000</td>\n",
       "      <td>702.000000</td>\n",
       "      <td>474.000000</td>\n",
       "    </tr>\n",
       "    <tr>\n",
       "      <th>mean</th>\n",
       "      <td>34.243590</td>\n",
       "      <td>2.710826</td>\n",
       "      <td>32.853276</td>\n",
       "      <td>107.923077</td>\n",
       "      <td>43819.843305</td>\n",
       "      <td>4.559186</td>\n",
       "      <td>0.531339</td>\n",
       "      <td>0.639241</td>\n",
       "    </tr>\n",
       "    <tr>\n",
       "      <th>std</th>\n",
       "      <td>13.927945</td>\n",
       "      <td>1.593629</td>\n",
       "      <td>15.731878</td>\n",
       "      <td>55.348485</td>\n",
       "      <td>26192.626943</td>\n",
       "      <td>3.116275</td>\n",
       "      <td>0.499373</td>\n",
       "      <td>0.480728</td>\n",
       "    </tr>\n",
       "    <tr>\n",
       "      <th>min</th>\n",
       "      <td>16.000000</td>\n",
       "      <td>0.000000</td>\n",
       "      <td>0.000000</td>\n",
       "      <td>0.000000</td>\n",
       "      <td>1617.000000</td>\n",
       "      <td>0.003168</td>\n",
       "      <td>0.000000</td>\n",
       "      <td>0.000000</td>\n",
       "    </tr>\n",
       "    <tr>\n",
       "      <th>25%</th>\n",
       "      <td>23.000000</td>\n",
       "      <td>1.000000</td>\n",
       "      <td>24.250000</td>\n",
       "      <td>62.000000</td>\n",
       "      <td>22812.250000</td>\n",
       "      <td>1.877812</td>\n",
       "      <td>0.000000</td>\n",
       "      <td>0.000000</td>\n",
       "    </tr>\n",
       "    <tr>\n",
       "      <th>50%</th>\n",
       "      <td>28.000000</td>\n",
       "      <td>3.000000</td>\n",
       "      <td>36.000000</td>\n",
       "      <td>113.500000</td>\n",
       "      <td>41975.000000</td>\n",
       "      <td>4.196167</td>\n",
       "      <td>1.000000</td>\n",
       "      <td>1.000000</td>\n",
       "    </tr>\n",
       "    <tr>\n",
       "      <th>75%</th>\n",
       "      <td>46.000000</td>\n",
       "      <td>4.000000</td>\n",
       "      <td>43.000000</td>\n",
       "      <td>150.750000</td>\n",
       "      <td>60223.000000</td>\n",
       "      <td>6.712022</td>\n",
       "      <td>1.000000</td>\n",
       "      <td>1.000000</td>\n",
       "    </tr>\n",
       "    <tr>\n",
       "      <th>max</th>\n",
       "      <td>90.000000</td>\n",
       "      <td>5.000000</td>\n",
       "      <td>62.000000</td>\n",
       "      <td>210.000000</td>\n",
       "      <td>182058.000000</td>\n",
       "      <td>10.986203</td>\n",
       "      <td>1.000000</td>\n",
       "      <td>1.000000</td>\n",
       "    </tr>\n",
       "  </tbody>\n",
       "</table>\n",
       "</div>"
      ],
      "text/plain": [
       "              Age  num_coffeeBags_per_year  spent_week  spent_month  \\\n",
       "count  702.000000               702.000000  702.000000   702.000000   \n",
       "mean    34.243590                 2.710826   32.853276   107.923077   \n",
       "std     13.927945                 1.593629   15.731878    55.348485   \n",
       "min     16.000000                 0.000000    0.000000     0.000000   \n",
       "25%     23.000000                 1.000000   24.250000    62.000000   \n",
       "50%     28.000000                 3.000000   36.000000   113.500000   \n",
       "75%     46.000000                 4.000000   43.000000   150.750000   \n",
       "max     90.000000                 5.000000   62.000000   210.000000   \n",
       "\n",
       "               SlrAY    Distance      Online    Decision  \n",
       "count     702.000000  702.000000  702.000000  474.000000  \n",
       "mean    43819.843305    4.559186    0.531339    0.639241  \n",
       "std     26192.626943    3.116275    0.499373    0.480728  \n",
       "min      1617.000000    0.003168    0.000000    0.000000  \n",
       "25%     22812.250000    1.877812    0.000000    0.000000  \n",
       "50%     41975.000000    4.196167    1.000000    1.000000  \n",
       "75%     60223.000000    6.712022    1.000000    1.000000  \n",
       "max    182058.000000   10.986203    1.000000    1.000000  "
      ]
     },
     "execution_count": 56,
     "metadata": {},
     "output_type": "execute_result"
    }
   ],
   "source": [
    "# Call describe() on your data to get the relevant summary statistics for your data \n",
    "coffeeData.describe()"
   ]
  },
  {
   "cell_type": "markdown",
   "metadata": {
    "colab_type": "text",
    "id": "INkujJ6QDuVg"
   },
   "source": [
    "# 2. Cleaning, transforming and visualizing\n",
    "## 2a. Cleaning the data"
   ]
  },
  {
   "cell_type": "markdown",
   "metadata": {
    "colab_type": "text",
    "id": "wIMW_rbdDuVh"
   },
   "source": [
    "Some datasets don't require any cleaning, but almost all do. This one does. We need to replace '1.0' and '0.0' in the 'Decision' column by 'YES' and 'NO' respectively, clean up the values of the 'gender' column, and change the column names to words which maximize meaning and clarity. "
   ]
  },
  {
   "cell_type": "markdown",
   "metadata": {
    "colab_type": "text",
    "id": "EEXdBALeDuVi"
   },
   "source": [
    "First, let's change the name of `spent_week`, `spent_month`, and `SlrAY` to `spent_last_week` and `spent_last_month` and `salary` respectively."
   ]
  },
  {
   "cell_type": "code",
   "execution_count": 57,
   "metadata": {
    "colab": {},
    "colab_type": "code",
    "id": "rhxy23pbDuVi"
   },
   "outputs": [
    {
     "data": {
      "text/plain": [
       "Index(['Age', 'Gender', 'num_coffeeBags_per_year', 'spent_week', 'spent_month',\n",
       "       'SlrAY', 'Distance', 'Online', 'Decision'],\n",
       "      dtype='object')"
      ]
     },
     "execution_count": 57,
     "metadata": {},
     "output_type": "execute_result"
    }
   ],
   "source": [
    "# Check out the names of our data's columns \n",
    "coffeeData.columns"
   ]
  },
  {
   "cell_type": "code",
   "execution_count": 58,
   "metadata": {
    "colab": {},
    "colab_type": "code",
    "id": "C_D1m6ryDuVk"
   },
   "outputs": [],
   "source": [
    "# Make the relevant name changes to spent_week and spent_per_week.\n",
    "coffeeData.rename(columns={'spent_week': 'spent_last_week', \n",
    "                          'spent_month': 'spent_last_month',\n",
    "                          'SlrAY': 'salary'}, inplace=True)"
   ]
  },
  {
   "cell_type": "code",
   "execution_count": 59,
   "metadata": {
    "colab": {},
    "colab_type": "code",
    "id": "3cmdaeg8DuVm"
   },
   "outputs": [
    {
     "data": {
      "text/plain": [
       "Index(['Age', 'Gender', 'num_coffeeBags_per_year', 'spent_last_week',\n",
       "       'spent_last_month', 'salary', 'Distance', 'Online', 'Decision'],\n",
       "      dtype='object')"
      ]
     },
     "execution_count": 59,
     "metadata": {},
     "output_type": "execute_result"
    }
   ],
   "source": [
    "# Check out the column names\n",
    "coffeeData.columns"
   ]
  },
  {
   "cell_type": "code",
   "execution_count": 60,
   "metadata": {
    "colab": {},
    "colab_type": "code",
    "id": "XJK-wbfODuVp"
   },
   "outputs": [
    {
     "data": {
      "text/html": [
       "<div>\n",
       "<style scoped>\n",
       "    .dataframe tbody tr th:only-of-type {\n",
       "        vertical-align: middle;\n",
       "    }\n",
       "\n",
       "    .dataframe tbody tr th {\n",
       "        vertical-align: top;\n",
       "    }\n",
       "\n",
       "    .dataframe thead th {\n",
       "        text-align: right;\n",
       "    }\n",
       "</style>\n",
       "<table border=\"1\" class=\"dataframe\">\n",
       "  <thead>\n",
       "    <tr style=\"text-align: right;\">\n",
       "      <th></th>\n",
       "      <th>Gender</th>\n",
       "    </tr>\n",
       "  </thead>\n",
       "  <tbody>\n",
       "    <tr>\n",
       "      <th>0</th>\n",
       "      <td>Female</td>\n",
       "    </tr>\n",
       "    <tr>\n",
       "      <th>1</th>\n",
       "      <td>Male</td>\n",
       "    </tr>\n",
       "    <tr>\n",
       "      <th>2</th>\n",
       "      <td>Male</td>\n",
       "    </tr>\n",
       "    <tr>\n",
       "      <th>3</th>\n",
       "      <td>Male</td>\n",
       "    </tr>\n",
       "    <tr>\n",
       "      <th>4</th>\n",
       "      <td>Female</td>\n",
       "    </tr>\n",
       "    <tr>\n",
       "      <th>...</th>\n",
       "      <td>...</td>\n",
       "    </tr>\n",
       "    <tr>\n",
       "      <th>697</th>\n",
       "      <td>Female</td>\n",
       "    </tr>\n",
       "    <tr>\n",
       "      <th>698</th>\n",
       "      <td>Male</td>\n",
       "    </tr>\n",
       "    <tr>\n",
       "      <th>699</th>\n",
       "      <td>Male</td>\n",
       "    </tr>\n",
       "    <tr>\n",
       "      <th>700</th>\n",
       "      <td>Female</td>\n",
       "    </tr>\n",
       "    <tr>\n",
       "      <th>701</th>\n",
       "      <td>Male</td>\n",
       "    </tr>\n",
       "  </tbody>\n",
       "</table>\n",
       "<p>702 rows × 1 columns</p>\n",
       "</div>"
      ],
      "text/plain": [
       "     Gender\n",
       "0    Female\n",
       "1      Male\n",
       "2      Male\n",
       "3      Male\n",
       "4    Female\n",
       "..      ...\n",
       "697  Female\n",
       "698    Male\n",
       "699    Male\n",
       "700  Female\n",
       "701    Male\n",
       "\n",
       "[702 rows x 1 columns]"
      ]
     },
     "execution_count": 60,
     "metadata": {},
     "output_type": "execute_result"
    }
   ],
   "source": [
    "# Let's have a closer look at the gender column. Its values need cleaning.\n",
    "coffeeData[['Gender']] "
   ]
  },
  {
   "cell_type": "code",
   "execution_count": 61,
   "metadata": {
    "colab": {},
    "colab_type": "code",
    "id": "88bITtgzDuVr"
   },
   "outputs": [
    {
     "data": {
      "text/plain": [
       "array(['Female', 'Male', 'female', 'F', 'f ', 'FEMALE', 'MALE', 'male',\n",
       "       'M'], dtype=object)"
      ]
     },
     "execution_count": 61,
     "metadata": {},
     "output_type": "execute_result"
    }
   ],
   "source": [
    "# See the gender column's unique values \n",
    "coffeeData['Gender'].unique()"
   ]
  },
  {
   "cell_type": "markdown",
   "metadata": {
    "colab_type": "text",
    "id": "-eGzgGR1DuVt"
   },
   "source": [
    "We can see a bunch of inconsistency here.\n",
    "\n",
    "Use replace() to make the values of the `gender` column just `Female` and `Male`."
   ]
  },
  {
   "cell_type": "code",
   "execution_count": 62,
   "metadata": {
    "colab": {},
    "colab_type": "code",
    "id": "h0FOX3I3DuVu"
   },
   "outputs": [],
   "source": [
    "# Replace all alternate values for the Female entry with 'Female'\n",
    "coffeeData['Gender'].replace({'female': 'Female', 'F': 'Female', 'f ': 'Female', 'FEMALE': 'Female'}, inplace=True)"
   ]
  },
  {
   "cell_type": "code",
   "execution_count": 63,
   "metadata": {
    "colab": {},
    "colab_type": "code",
    "id": "5TThfHgCDuVw"
   },
   "outputs": [
    {
     "data": {
      "text/plain": [
       "array(['Female', 'Male', 'MALE', 'male', 'M'], dtype=object)"
      ]
     },
     "execution_count": 63,
     "metadata": {},
     "output_type": "execute_result"
    }
   ],
   "source": [
    "# Check out the unique values for the 'gender' column\n",
    "coffeeData['Gender'].unique()"
   ]
  },
  {
   "cell_type": "code",
   "execution_count": 64,
   "metadata": {
    "colab": {},
    "colab_type": "code",
    "id": "4wRKBvSHDuVy"
   },
   "outputs": [],
   "source": [
    "# Replace all alternate values with \"Male\"\n",
    "coffeeData['Gender'].replace({'MALE': 'Male', 'male': 'Male', 'M': 'Male'}, inplace=True)"
   ]
  },
  {
   "cell_type": "code",
   "execution_count": 65,
   "metadata": {
    "colab": {},
    "colab_type": "code",
    "id": "nhBUkXIADuV0"
   },
   "outputs": [
    {
     "data": {
      "text/plain": [
       "array(['Female', 'Male'], dtype=object)"
      ]
     },
     "execution_count": 65,
     "metadata": {},
     "output_type": "execute_result"
    }
   ],
   "source": [
    "# Let's check the unique values of the column \"gender\"\n",
    "coffeeData['Gender'].unique() "
   ]
  },
  {
   "cell_type": "code",
   "execution_count": 66,
   "metadata": {
    "colab": {},
    "colab_type": "code",
    "id": "AdhhO4WHDuV2"
   },
   "outputs": [
    {
     "data": {
      "text/plain": [
       "array([ 1., nan,  0.])"
      ]
     },
     "execution_count": 66,
     "metadata": {},
     "output_type": "execute_result"
    }
   ],
   "source": [
    "# Check out the unique values of the column 'Decision'\n",
    "coffeeData['Decision'].unique() "
   ]
  },
  {
   "cell_type": "markdown",
   "metadata": {
    "colab_type": "text",
    "id": "m1JuiY-iDuV5"
   },
   "source": [
    "We now want to replace `1.0` and `0.0` in the `Decision` column by `YES` and `NO` respectively."
   ]
  },
  {
   "cell_type": "code",
   "execution_count": 67,
   "metadata": {
    "colab": {},
    "colab_type": "code",
    "id": "QsK6gYPgDuV5"
   },
   "outputs": [],
   "source": [
    "# Replace 1.0 and 0.0 by 'Yes' and 'No'\n",
    "coffeeData['Decision'].replace({1.0: 'YES', 0.0: 'NO'}, inplace=True) "
   ]
  },
  {
   "cell_type": "code",
   "execution_count": 68,
   "metadata": {
    "colab": {},
    "colab_type": "code",
    "id": "YtHnTZuWDuV9"
   },
   "outputs": [
    {
     "data": {
      "text/plain": [
       "array(['YES', nan, 'NO'], dtype=object)"
      ]
     },
     "execution_count": 68,
     "metadata": {},
     "output_type": "execute_result"
    }
   ],
   "source": [
    "# Check that our replacing those values with 'YES' and 'NO' worked, with unique()\n",
    "coffeeData['Decision'].unique()"
   ]
  },
  {
   "cell_type": "markdown",
   "metadata": {
    "colab_type": "text",
    "id": "CKCt-fBlDuWB"
   },
   "source": [
    "## 2b. Train/test split\n",
    "To execute the train/test split properly, we need to do five things: \n",
    "1. Drop all rows with a null value in the `Decision` column, and save the result as NOPrediction: a dataset that will contain all known values for the decision \n",
    "2. Visualize the data using scatter and boxplots of several variables in the y-axis and the decision on the x-axis\n",
    "3. Get the subset of coffeeData with null values in the `Decision` column, and save that subset as Prediction\n",
    "4. Divide the NOPrediction subset into X and y, and then further divide those subsets into train and test subsets for X and y respectively\n",
    "5. Create dummy variables to deal with categorical inputs"
   ]
  },
  {
   "cell_type": "markdown",
   "metadata": {
    "colab_type": "text",
    "id": "ysHdkIaQDuWB"
   },
   "source": [
    "### 1. Drop all null values within the `Decision` column, and save the result as NoPrediction"
   ]
  },
  {
   "cell_type": "code",
   "execution_count": 69,
   "metadata": {
    "colab": {},
    "colab_type": "code",
    "id": "pvgH6SM4DuWC"
   },
   "outputs": [
    {
     "data": {
      "text/plain": [
       "count     474\n",
       "unique      2\n",
       "top       YES\n",
       "freq      303\n",
       "Name: Decision, dtype: object"
      ]
     },
     "execution_count": 69,
     "metadata": {},
     "output_type": "execute_result"
    }
   ],
   "source": [
    "# NoPrediction will contain all known values for the decision\n",
    "# Call dropna() on coffeeData, and store the result in a variable NOPrediction \n",
    "# Call describe() on the Decision column of NoPrediction after calling dropna() on coffeeData\n",
    "NOPrediction=coffeeData.dropna()\n",
    "NOPrediction['Decision'].describe()"
   ]
  },
  {
   "cell_type": "markdown",
   "metadata": {
    "colab_type": "text",
    "id": "XfTK5Ec6DuWE"
   },
   "source": [
    "### 2. Visualize the data using scatter and boxplots of several variables in the y-axis and the decision on the x-axis"
   ]
  },
  {
   "cell_type": "code",
   "execution_count": 70,
   "metadata": {
    "colab": {},
    "colab_type": "code",
    "id": "5O-M-t3tDuWE"
   },
   "outputs": [
    {
     "data": {
      "image/png": "[encoded data removed]",
      "text/plain": [
       "<Figure size 432x288 with 1 Axes>"
      ]
     },
     "metadata": {
      "needs_background": "light"
     },
     "output_type": "display_data"
    }
   ],
   "source": [
    "# Exploring our new NOPrediction dataset\n",
    "# Make a boxplot on NOPrediction where the x axis is Decision, and the y axis is spent_last_week\n",
    "_=sns.boxplot(x='Decision', y='spent_last_week', data=NOPrediction) \n",
    "plt.show()"
   ]
  },
  {
   "cell_type": "markdown",
   "metadata": {
    "colab_type": "text",
    "id": "mVqg_HI7DuWG"
   },
   "source": [
    "Can you admissibly conclude anything from this boxplot? Write your answer here:\n",
    "It can be seen that in average people spent more money on last week are more likely to answer YES to the quesiton about whether they will buy the new coffee."
   ]
  },
  {
   "cell_type": "code",
   "execution_count": 71,
   "metadata": {
    "colab": {},
    "colab_type": "code",
    "id": "q-AyXWSxDuWH"
   },
   "outputs": [
    {
     "data": {
      "image/png": "[encoded data removed]",
      "text/plain": [
       "<Figure size 432x288 with 1 Axes>"
      ]
     },
     "metadata": {
      "needs_background": "light"
     },
     "output_type": "display_data"
    }
   ],
   "source": [
    "# Make a scatterplot on NOPrediction, where x is distance, y is spent_last_month and hue is Decision \n",
    "_=sns.scatterplot(x='Distance', y='spent_last_month', hue='Decision', data=NOPrediction)\n",
    "plt.show()"
   ]
  },
  {
   "cell_type": "markdown",
   "metadata": {
    "colab_type": "text",
    "id": "I_nr36yZDuWJ"
   },
   "source": [
    "Can you admissibly conclude anything from this scatterplot? Remember: we are trying to build a tree to classify unseen examples. Write your answer here:\n",
    "\n",
    "It can be seen that people are closer to the USA shop and who spent more money are more likely to answer YES to the question, and the groups of people saying YES and saying NO are basically well separated on the plot. "
   ]
  },
  {
   "cell_type": "markdown",
   "metadata": {
    "colab_type": "text",
    "id": "oQBPyvehDuWK"
   },
   "source": [
    "### 3. Get the subset of coffeeData with null values in the Decision column, and save that subset as Prediction"
   ]
  },
  {
   "cell_type": "code",
   "execution_count": 72,
   "metadata": {
    "colab": {},
    "colab_type": "code",
    "id": "vcCednqUDuWL"
   },
   "outputs": [],
   "source": [
    "# Get just those rows whose value for the Decision column is null  \n",
    "Prediction=coffeeData[coffeeData['Decision'].isnull()]"
   ]
  },
  {
   "cell_type": "code",
   "execution_count": 73,
   "metadata": {
    "colab": {},
    "colab_type": "code",
    "id": "aenlmp9NDuWM"
   },
   "outputs": [
    {
     "data": {
      "text/html": [
       "<div>\n",
       "<style scoped>\n",
       "    .dataframe tbody tr th:only-of-type {\n",
       "        vertical-align: middle;\n",
       "    }\n",
       "\n",
       "    .dataframe tbody tr th {\n",
       "        vertical-align: top;\n",
       "    }\n",
       "\n",
       "    .dataframe thead th {\n",
       "        text-align: right;\n",
       "    }\n",
       "</style>\n",
       "<table border=\"1\" class=\"dataframe\">\n",
       "  <thead>\n",
       "    <tr style=\"text-align: right;\">\n",
       "      <th></th>\n",
       "      <th>Age</th>\n",
       "      <th>num_coffeeBags_per_year</th>\n",
       "      <th>spent_last_week</th>\n",
       "      <th>spent_last_month</th>\n",
       "      <th>salary</th>\n",
       "      <th>Distance</th>\n",
       "      <th>Online</th>\n",
       "    </tr>\n",
       "  </thead>\n",
       "  <tbody>\n",
       "    <tr>\n",
       "      <th>count</th>\n",
       "      <td>228.000000</td>\n",
       "      <td>228.000000</td>\n",
       "      <td>228.000000</td>\n",
       "      <td>228.000000</td>\n",
       "      <td>228.000000</td>\n",
       "      <td>228.000000</td>\n",
       "      <td>228.000000</td>\n",
       "    </tr>\n",
       "    <tr>\n",
       "      <th>mean</th>\n",
       "      <td>31.802632</td>\n",
       "      <td>2.960526</td>\n",
       "      <td>33.394737</td>\n",
       "      <td>110.407895</td>\n",
       "      <td>41923.741228</td>\n",
       "      <td>3.428836</td>\n",
       "      <td>0.570175</td>\n",
       "    </tr>\n",
       "    <tr>\n",
       "      <th>std</th>\n",
       "      <td>14.302293</td>\n",
       "      <td>1.585514</td>\n",
       "      <td>15.697930</td>\n",
       "      <td>53.786536</td>\n",
       "      <td>27406.768360</td>\n",
       "      <td>2.153102</td>\n",
       "      <td>0.496140</td>\n",
       "    </tr>\n",
       "    <tr>\n",
       "      <th>min</th>\n",
       "      <td>16.000000</td>\n",
       "      <td>0.000000</td>\n",
       "      <td>0.000000</td>\n",
       "      <td>0.000000</td>\n",
       "      <td>1617.000000</td>\n",
       "      <td>0.010048</td>\n",
       "      <td>0.000000</td>\n",
       "    </tr>\n",
       "    <tr>\n",
       "      <th>25%</th>\n",
       "      <td>22.000000</td>\n",
       "      <td>2.000000</td>\n",
       "      <td>25.750000</td>\n",
       "      <td>65.000000</td>\n",
       "      <td>15911.500000</td>\n",
       "      <td>1.699408</td>\n",
       "      <td>0.000000</td>\n",
       "    </tr>\n",
       "    <tr>\n",
       "      <th>50%</th>\n",
       "      <td>25.000000</td>\n",
       "      <td>3.000000</td>\n",
       "      <td>37.000000</td>\n",
       "      <td>113.500000</td>\n",
       "      <td>40987.500000</td>\n",
       "      <td>3.208673</td>\n",
       "      <td>1.000000</td>\n",
       "    </tr>\n",
       "    <tr>\n",
       "      <th>75%</th>\n",
       "      <td>39.000000</td>\n",
       "      <td>4.000000</td>\n",
       "      <td>44.000000</td>\n",
       "      <td>151.250000</td>\n",
       "      <td>58537.000000</td>\n",
       "      <td>5.261184</td>\n",
       "      <td>1.000000</td>\n",
       "    </tr>\n",
       "    <tr>\n",
       "      <th>max</th>\n",
       "      <td>67.000000</td>\n",
       "      <td>5.000000</td>\n",
       "      <td>62.000000</td>\n",
       "      <td>210.000000</td>\n",
       "      <td>182058.000000</td>\n",
       "      <td>10.871566</td>\n",
       "      <td>1.000000</td>\n",
       "    </tr>\n",
       "  </tbody>\n",
       "</table>\n",
       "</div>"
      ],
      "text/plain": [
       "              Age  num_coffeeBags_per_year  spent_last_week  spent_last_month  \\\n",
       "count  228.000000               228.000000       228.000000        228.000000   \n",
       "mean    31.802632                 2.960526        33.394737        110.407895   \n",
       "std     14.302293                 1.585514        15.697930         53.786536   \n",
       "min     16.000000                 0.000000         0.000000          0.000000   \n",
       "25%     22.000000                 2.000000        25.750000         65.000000   \n",
       "50%     25.000000                 3.000000        37.000000        113.500000   \n",
       "75%     39.000000                 4.000000        44.000000        151.250000   \n",
       "max     67.000000                 5.000000        62.000000        210.000000   \n",
       "\n",
       "              salary    Distance      Online  \n",
       "count     228.000000  228.000000  228.000000  \n",
       "mean    41923.741228    3.428836    0.570175  \n",
       "std     27406.768360    2.153102    0.496140  \n",
       "min      1617.000000    0.010048    0.000000  \n",
       "25%     15911.500000    1.699408    0.000000  \n",
       "50%     40987.500000    3.208673    1.000000  \n",
       "75%     58537.000000    5.261184    1.000000  \n",
       "max    182058.000000   10.871566    1.000000  "
      ]
     },
     "execution_count": 73,
     "metadata": {},
     "output_type": "execute_result"
    }
   ],
   "source": [
    "# Call describe() on Prediction\n",
    "Prediction.describe()"
   ]
  },
  {
   "cell_type": "markdown",
   "metadata": {
    "colab_type": "text",
    "id": "zmN_BPwFDuWO"
   },
   "source": [
    "### 4. Divide the NOPrediction subset into X and y"
   ]
  },
  {
   "cell_type": "code",
   "execution_count": 74,
   "metadata": {
    "colab": {},
    "colab_type": "code",
    "id": "00WtPVYSDuWP"
   },
   "outputs": [
    {
     "data": {
      "text/plain": [
       "Index(['Age', 'Gender', 'num_coffeeBags_per_year', 'spent_last_week',\n",
       "       'spent_last_month', 'salary', 'Distance', 'Online', 'Decision'],\n",
       "      dtype='object')"
      ]
     },
     "execution_count": 74,
     "metadata": {},
     "output_type": "execute_result"
    }
   ],
   "source": [
    "# Check the names of the columns of NOPrediction\n",
    "NOPrediction.columns"
   ]
  },
  {
   "cell_type": "code",
   "execution_count": 75,
   "metadata": {
    "colab": {},
    "colab_type": "code",
    "id": "oPi2gMLfDuWQ"
   },
   "outputs": [],
   "source": [
    "# Let's do our feature selection.\n",
    "# Make a variable called 'features', and a list containing the strings of every column except \"Decision\"\n",
    "features=NOPrediction.columns.drop('Decision')\n",
    "# Make an explanatory variable called X, and assign it: NoPrediction[features]\n",
    "X=NOPrediction[features]\n",
    "# Make a dependent variable called y, and assign it: NoPrediction.Decision\n",
    "y=NOPrediction.Decision"
   ]
  },
  {
   "cell_type": "markdown",
   "metadata": {
    "colab_type": "text",
    "id": "R-d3XOv8DuWW"
   },
   "source": [
    "### 5. Create dummy variables to deal with categorical inputs\n",
    "One-hot encoding replaces each unique value of a given column with a new column, and puts a 1 in the new column for a given row just if its initial value for the original column matches the new column. Check out [this resource](https://hackernoon.com/what-is-one-hot-encoding-why-and-when-do-you-have-to-use-it-e3c6186d008f) if you haven't seen one-hot-encoding before. \n",
    "\n",
    "**Note**: We will do this before we do our train/test split as to do it after could mean that some categories only end up in the train or test split of our data by chance and this would then lead to different shapes of data for our `X_train` and `X_test` which could/would cause downstream issues when fitting or predicting using a trained model."
   ]
  },
  {
   "cell_type": "code",
   "execution_count": 76,
   "metadata": {
    "colab": {},
    "colab_type": "code",
    "id": "xXHGDZkZDuWW"
   },
   "outputs": [],
   "source": [
    "# One-hot encode all features in X.\n",
    "X=pd.get_dummies(X)"
   ]
  },
  {
   "cell_type": "markdown",
   "metadata": {
    "colab_type": "text",
    "id": "Jdn_dHlkDuWS"
   },
   "source": [
    "### 6. Further divide those subsets into train and test subsets for X and y respectively: X_train, X_test, y_train, y_test"
   ]
  },
  {
   "cell_type": "code",
   "execution_count": 77,
   "metadata": {
    "colab": {},
    "colab_type": "code",
    "id": "RqbHQza-DuWT"
   },
   "outputs": [],
   "source": [
    "# Call train_test_split on X, y. Make the test_size = 0.25, and random_state = 246\n",
    "X_train, X_test, y_train, y_test=train_test_split(X, y, test_size=0.25, random_state=246)"
   ]
  },
  {
   "cell_type": "markdown",
   "metadata": {
    "colab_type": "text",
    "id": "nqvyCX-6DuWb"
   },
   "source": [
    "# 3. Modelling\n",
    "It's useful to look at the scikit-learn documentation on decision trees https://scikit-learn.org/stable/modules/tree.html before launching into applying them. If you haven't seen them before, take a look at that link, in particular the section `1.10.5.` "
   ]
  },
  {
   "cell_type": "markdown",
   "metadata": {
    "colab_type": "text",
    "id": "RIm9IN5HDuWc"
   },
   "source": [
    "## Model 1: Entropy model - no max_depth\n",
    "\n",
    "We'll give you a little more guidance here, as the Python is hard to deduce, and scikitlearn takes some getting used to.\n",
    "\n",
    "Theoretically, let's remind ourselves of what's going on with a decision tree implementing an entropy model.\n",
    "\n",
    "Ross Quinlan's **ID3 Algorithm** was one of the first, and one of the most basic, to use entropy as a metric.\n",
    "\n",
    "**Entropy** is a measure of how uncertain we are about which category the data-points fall into at a given point in the tree. The **Information gain** of a specific feature with a threshold (such as 'spent_last_month <= 138.0') is the difference in entropy that exists before and after splitting on that feature; i.e., the information we gain about the categories of the data-points by splitting on that feature and that threshold. \n",
    "\n",
    "Naturally, we want to minimize entropy and maximize information gain. Quinlan's ID3 algorithm is designed to output a tree such that the features at each node, starting from the root, and going all the way down to the leaves, have maximial information gain. We want a tree whose leaves have elements that are *homogeneous*, that is, all of the same category. \n",
    "\n",
    "The first model will be the hardest. Persevere and you'll reap the rewards: you can use almost exactly the same code for the other models. "
   ]
  },
  {
   "cell_type": "code",
   "execution_count": 78,
   "metadata": {
    "colab": {},
    "colab_type": "code",
    "id": "8-gelLDgDuWc"
   },
   "outputs": [
    {
     "data": {
      "text/plain": [
       "DecisionTreeClassifier(criterion='entropy', random_state=1234)"
      ]
     },
     "execution_count": 78,
     "metadata": {},
     "output_type": "execute_result"
    }
   ],
   "source": [
    "# Declare a variable called entr_model and use tree.DecisionTreeClassifier. \n",
    "entr_model=tree.DecisionTreeClassifier(criterion='entropy', random_state=1234)\n",
    "\n",
    "# Call fit() on entr_model\n",
    "entr_model.fit(X_train, y_train)\n",
    "\n",
    "# Call predict() on entr_model with X_test passed to it, and assign the result to a variable y_pred \n",
    "y_pred=entr_model.predict(X_test) \n",
    "\n",
    "# Call Series on our y_pred variable with the following: pd.Series(y_pred)\n",
    "y_pred=pd.Series(y_pred)\n",
    "\n",
    "# Check out entr_model\n",
    "entr_model"
   ]
  },
  {
   "cell_type": "code",
   "execution_count": 79,
   "metadata": {
    "colab": {},
    "colab_type": "code",
    "id": "S4FbHfWnDuWe"
   },
   "outputs": [
    {
     "data": {
      "image/png": "[encoded data removed]",
      "text/plain": [
       "<Figure size 432x288 with 1 Axes>"
      ]
     },
     "metadata": {
      "needs_background": "light"
     },
     "output_type": "display_data"
    }
   ],
   "source": [
    "# Now we want to visualize the tree\n",
    "_=tree.plot_tree(entr_model)\n",
    "plt.show()"
   ]
  },
  {
   "cell_type": "code",
   "execution_count": 80,
   "metadata": {},
   "outputs": [
    {
     "data": {
      "image/svg+xml": [
       "<?xml version=\"1.0\" encoding=\"UTF-8\" standalone=\"no\"?>\r\n",
       "<!DOCTYPE svg PUBLIC \"-//W3C//DTD SVG 1.1//EN\"\r\n",
       " \"http://www.w3.org/Graphics/SVG/1.1/DTD/svg11.dtd\">\r\n",
       "<!-- Generated by graphviz version 2.38.0 (20140413.2041)\r\n",
       " -->\r\n",
       "<!-- Title: Tree Pages: 1 -->\r\n",
       "<svg width=\"689pt\" height=\"581pt\"\r\n",
       " viewBox=\"0.00 0.00 689.00 581.00\" xmlns=\"http://www.w3.org/2000/svg\" xmlns:xlink=\"http://www.w3.org/1999/xlink\">\r\n",
       "<g id=\"graph0\" class=\"graph\" transform=\"scale(1 1) rotate(0) translate(4 577)\">\r\n",
       "<title>Tree</title>\r\n",
       "<polygon fill=\"white\" stroke=\"none\" points=\"-4,4 -4,-577 685,-577 685,4 -4,4\"/>\r\n",
       "<!-- 0 -->\r\n",
       "<g id=\"node1\" class=\"node\"><title>0</title>\r\n",
       "<polygon fill=\"none\" stroke=\"black\" points=\"375,-573 257,-573 257,-505 375,-505 375,-573\"/>\r\n",
       "<text text-anchor=\"middle\" x=\"316\" y=\"-557.8\" font-family=\"Times New Roman,serif\" font-size=\"14.00\">X[3] &lt;= 138.0</text>\r\n",
       "<text text-anchor=\"middle\" x=\"316\" y=\"-542.8\" font-family=\"Times New Roman,serif\" font-size=\"14.00\">entropy = 0.948</text>\r\n",
       "<text text-anchor=\"middle\" x=\"316\" y=\"-527.8\" font-family=\"Times New Roman,serif\" font-size=\"14.00\">samples = 355</text>\r\n",
       "<text text-anchor=\"middle\" x=\"316\" y=\"-512.8\" font-family=\"Times New Roman,serif\" font-size=\"14.00\">value = [130, 225]</text>\r\n",
       "</g>\r\n",
       "<!-- 1 -->\r\n",
       "<g id=\"node2\" class=\"node\"><title>1</title>\r\n",
       "<polygon fill=\"none\" stroke=\"black\" points=\"311,-469 193,-469 193,-401 311,-401 311,-469\"/>\r\n",
       "<text text-anchor=\"middle\" x=\"252\" y=\"-453.8\" font-family=\"Times New Roman,serif\" font-size=\"14.00\">X[5] &lt;= 3.524</text>\r\n",
       "<text text-anchor=\"middle\" x=\"252\" y=\"-438.8\" font-family=\"Times New Roman,serif\" font-size=\"14.00\">entropy = 0.991</text>\r\n",
       "<text text-anchor=\"middle\" x=\"252\" y=\"-423.8\" font-family=\"Times New Roman,serif\" font-size=\"14.00\">samples = 234</text>\r\n",
       "<text text-anchor=\"middle\" x=\"252\" y=\"-408.8\" font-family=\"Times New Roman,serif\" font-size=\"14.00\">value = [130, 104]</text>\r\n",
       "</g>\r\n",
       "<!-- 0&#45;&gt;1 -->\r\n",
       "<g id=\"edge1\" class=\"edge\"><title>0&#45;&gt;1</title>\r\n",
       "<path fill=\"none\" stroke=\"black\" d=\"M295.221,-504.884C289.8,-496.243 283.887,-486.819 278.223,-477.793\"/>\r\n",
       "<polygon fill=\"black\" stroke=\"black\" points=\"281.173,-475.91 272.894,-469.299 275.244,-479.63 281.173,-475.91\"/>\r\n",
       "<text text-anchor=\"middle\" x=\"267.315\" y=\"-489.969\" font-family=\"Times New Roman,serif\" font-size=\"14.00\">True</text>\r\n",
       "</g>\r\n",
       "<!-- 16 -->\r\n",
       "<g id=\"node17\" class=\"node\"><title>16</title>\r\n",
       "<polygon fill=\"none\" stroke=\"black\" points=\"433,-461.5 329,-461.5 329,-408.5 433,-408.5 433,-461.5\"/>\r\n",
       "<text text-anchor=\"middle\" x=\"381\" y=\"-446.3\" font-family=\"Times New Roman,serif\" font-size=\"14.00\">entropy = 0.0</text>\r\n",
       "<text text-anchor=\"middle\" x=\"381\" y=\"-431.3\" font-family=\"Times New Roman,serif\" font-size=\"14.00\">samples = 121</text>\r\n",
       "<text text-anchor=\"middle\" x=\"381\" y=\"-416.3\" font-family=\"Times New Roman,serif\" font-size=\"14.00\">value = [0, 121]</text>\r\n",
       "</g>\r\n",
       "<!-- 0&#45;&gt;16 -->\r\n",
       "<g id=\"edge16\" class=\"edge\"><title>0&#45;&gt;16</title>\r\n",
       "<path fill=\"none\" stroke=\"black\" d=\"M337.104,-504.884C344.182,-493.776 352.087,-481.372 359.216,-470.184\"/>\r\n",
       "<polygon fill=\"black\" stroke=\"black\" points=\"362.315,-471.834 364.737,-461.52 356.412,-468.072 362.315,-471.834\"/>\r\n",
       "<text text-anchor=\"middle\" x=\"370.145\" y=\"-482.228\" font-family=\"Times New Roman,serif\" font-size=\"14.00\">False</text>\r\n",
       "</g>\r\n",
       "<!-- 2 -->\r\n",
       "<g id=\"node3\" class=\"node\"><title>2</title>\r\n",
       "<polygon fill=\"none\" stroke=\"black\" points=\"216,-365 110,-365 110,-297 216,-297 216,-365\"/>\r\n",
       "<text text-anchor=\"middle\" x=\"163\" y=\"-349.8\" font-family=\"Times New Roman,serif\" font-size=\"14.00\">X[3] &lt;= 24.5</text>\r\n",
       "<text text-anchor=\"middle\" x=\"163\" y=\"-334.8\" font-family=\"Times New Roman,serif\" font-size=\"14.00\">entropy = 0.512</text>\r\n",
       "<text text-anchor=\"middle\" x=\"163\" y=\"-319.8\" font-family=\"Times New Roman,serif\" font-size=\"14.00\">samples = 79</text>\r\n",
       "<text text-anchor=\"middle\" x=\"163\" y=\"-304.8\" font-family=\"Times New Roman,serif\" font-size=\"14.00\">value = [9, 70]</text>\r\n",
       "</g>\r\n",
       "<!-- 1&#45;&gt;2 -->\r\n",
       "<g id=\"edge2\" class=\"edge\"><title>1&#45;&gt;2</title>\r\n",
       "<path fill=\"none\" stroke=\"black\" d=\"M223.104,-400.884C215.332,-391.976 206.833,-382.235 198.737,-372.957\"/>\r\n",
       "<polygon fill=\"black\" stroke=\"black\" points=\"201.267,-370.533 192.055,-365.299 195.993,-375.135 201.267,-370.533\"/>\r\n",
       "</g>\r\n",
       "<!-- 7 -->\r\n",
       "<g id=\"node8\" class=\"node\"><title>7</title>\r\n",
       "<polygon fill=\"none\" stroke=\"black\" points=\"396.5,-365 285.5,-365 285.5,-297 396.5,-297 396.5,-365\"/>\r\n",
       "<text text-anchor=\"middle\" x=\"341\" y=\"-349.8\" font-family=\"Times New Roman,serif\" font-size=\"14.00\">X[3] &lt;= 101.0</text>\r\n",
       "<text text-anchor=\"middle\" x=\"341\" y=\"-334.8\" font-family=\"Times New Roman,serif\" font-size=\"14.00\">entropy = 0.759</text>\r\n",
       "<text text-anchor=\"middle\" x=\"341\" y=\"-319.8\" font-family=\"Times New Roman,serif\" font-size=\"14.00\">samples = 155</text>\r\n",
       "<text text-anchor=\"middle\" x=\"341\" y=\"-304.8\" font-family=\"Times New Roman,serif\" font-size=\"14.00\">value = [121, 34]</text>\r\n",
       "</g>\r\n",
       "<!-- 1&#45;&gt;7 -->\r\n",
       "<g id=\"edge7\" class=\"edge\"><title>1&#45;&gt;7</title>\r\n",
       "<path fill=\"none\" stroke=\"black\" d=\"M280.896,-400.884C288.668,-391.976 297.167,-382.235 305.263,-372.957\"/>\r\n",
       "<polygon fill=\"black\" stroke=\"black\" points=\"308.007,-375.135 311.945,-365.299 302.733,-370.533 308.007,-375.135\"/>\r\n",
       "</g>\r\n",
       "<!-- 3 -->\r\n",
       "<g id=\"node4\" class=\"node\"><title>3</title>\r\n",
       "<polygon fill=\"none\" stroke=\"black\" points=\"92,-253.5 0,-253.5 0,-200.5 92,-200.5 92,-253.5\"/>\r\n",
       "<text text-anchor=\"middle\" x=\"46\" y=\"-238.3\" font-family=\"Times New Roman,serif\" font-size=\"14.00\">entropy = 0.0</text>\r\n",
       "<text text-anchor=\"middle\" x=\"46\" y=\"-223.3\" font-family=\"Times New Roman,serif\" font-size=\"14.00\">samples = 8</text>\r\n",
       "<text text-anchor=\"middle\" x=\"46\" y=\"-208.3\" font-family=\"Times New Roman,serif\" font-size=\"14.00\">value = [8, 0]</text>\r\n",
       "</g>\r\n",
       "<!-- 2&#45;&gt;3 -->\r\n",
       "<g id=\"edge3\" class=\"edge\"><title>2&#45;&gt;3</title>\r\n",
       "<path fill=\"none\" stroke=\"black\" d=\"M125.013,-296.884C111.515,-285.116 96.3485,-271.894 82.9391,-260.203\"/>\r\n",
       "<polygon fill=\"black\" stroke=\"black\" points=\"85.1106,-257.453 75.2729,-253.52 80.5106,-262.73 85.1106,-257.453\"/>\r\n",
       "</g>\r\n",
       "<!-- 4 -->\r\n",
       "<g id=\"node5\" class=\"node\"><title>4</title>\r\n",
       "<polygon fill=\"none\" stroke=\"black\" points=\"216,-261 110,-261 110,-193 216,-193 216,-261\"/>\r\n",
       "<text text-anchor=\"middle\" x=\"163\" y=\"-245.8\" font-family=\"Times New Roman,serif\" font-size=\"14.00\">X[0] &lt;= 59.0</text>\r\n",
       "<text text-anchor=\"middle\" x=\"163\" y=\"-230.8\" font-family=\"Times New Roman,serif\" font-size=\"14.00\">entropy = 0.107</text>\r\n",
       "<text text-anchor=\"middle\" x=\"163\" y=\"-215.8\" font-family=\"Times New Roman,serif\" font-size=\"14.00\">samples = 71</text>\r\n",
       "<text text-anchor=\"middle\" x=\"163\" y=\"-200.8\" font-family=\"Times New Roman,serif\" font-size=\"14.00\">value = [1, 70]</text>\r\n",
       "</g>\r\n",
       "<!-- 2&#45;&gt;4 -->\r\n",
       "<g id=\"edge4\" class=\"edge\"><title>2&#45;&gt;4</title>\r\n",
       "<path fill=\"none\" stroke=\"black\" d=\"M163,-296.884C163,-288.778 163,-279.982 163,-271.472\"/>\r\n",
       "<polygon fill=\"black\" stroke=\"black\" points=\"166.5,-271.299 163,-261.299 159.5,-271.299 166.5,-271.299\"/>\r\n",
       "</g>\r\n",
       "<!-- 5 -->\r\n",
       "<g id=\"node6\" class=\"node\"><title>5</title>\r\n",
       "<polygon fill=\"none\" stroke=\"black\" points=\"99,-149.5 1,-149.5 1,-96.5 99,-96.5 99,-149.5\"/>\r\n",
       "<text text-anchor=\"middle\" x=\"50\" y=\"-134.3\" font-family=\"Times New Roman,serif\" font-size=\"14.00\">entropy = 0.0</text>\r\n",
       "<text text-anchor=\"middle\" x=\"50\" y=\"-119.3\" font-family=\"Times New Roman,serif\" font-size=\"14.00\">samples = 70</text>\r\n",
       "<text text-anchor=\"middle\" x=\"50\" y=\"-104.3\" font-family=\"Times New Roman,serif\" font-size=\"14.00\">value = [0, 70]</text>\r\n",
       "</g>\r\n",
       "<!-- 4&#45;&gt;5 -->\r\n",
       "<g id=\"edge5\" class=\"edge\"><title>4&#45;&gt;5</title>\r\n",
       "<path fill=\"none\" stroke=\"black\" d=\"M126.312,-192.884C113.397,-181.226 98.9009,-168.141 86.0398,-156.532\"/>\r\n",
       "<polygon fill=\"black\" stroke=\"black\" points=\"88.0404,-153.622 78.2721,-149.52 83.35,-158.819 88.0404,-153.622\"/>\r\n",
       "</g>\r\n",
       "<!-- 6 -->\r\n",
       "<g id=\"node7\" class=\"node\"><title>6</title>\r\n",
       "<polygon fill=\"none\" stroke=\"black\" points=\"209,-149.5 117,-149.5 117,-96.5 209,-96.5 209,-149.5\"/>\r\n",
       "<text text-anchor=\"middle\" x=\"163\" y=\"-134.3\" font-family=\"Times New Roman,serif\" font-size=\"14.00\">entropy = 0.0</text>\r\n",
       "<text text-anchor=\"middle\" x=\"163\" y=\"-119.3\" font-family=\"Times New Roman,serif\" font-size=\"14.00\">samples = 1</text>\r\n",
       "<text text-anchor=\"middle\" x=\"163\" y=\"-104.3\" font-family=\"Times New Roman,serif\" font-size=\"14.00\">value = [1, 0]</text>\r\n",
       "</g>\r\n",
       "<!-- 4&#45;&gt;6 -->\r\n",
       "<g id=\"edge6\" class=\"edge\"><title>4&#45;&gt;6</title>\r\n",
       "<path fill=\"none\" stroke=\"black\" d=\"M163,-192.884C163,-182.326 163,-170.597 163,-159.854\"/>\r\n",
       "<polygon fill=\"black\" stroke=\"black\" points=\"166.5,-159.52 163,-149.52 159.5,-159.52 166.5,-159.52\"/>\r\n",
       "</g>\r\n",
       "<!-- 8 -->\r\n",
       "<g id=\"node9\" class=\"node\"><title>8</title>\r\n",
       "<polygon fill=\"none\" stroke=\"black\" points=\"394,-261 288,-261 288,-193 394,-193 394,-261\"/>\r\n",
       "<text text-anchor=\"middle\" x=\"341\" y=\"-245.8\" font-family=\"Times New Roman,serif\" font-size=\"14.00\">X[5] &lt;= 4.0</text>\r\n",
       "<text text-anchor=\"middle\" x=\"341\" y=\"-230.8\" font-family=\"Times New Roman,serif\" font-size=\"14.00\">entropy = 0.191</text>\r\n",
       "<text text-anchor=\"middle\" x=\"341\" y=\"-215.8\" font-family=\"Times New Roman,serif\" font-size=\"14.00\">samples = 102</text>\r\n",
       "<text text-anchor=\"middle\" x=\"341\" y=\"-200.8\" font-family=\"Times New Roman,serif\" font-size=\"14.00\">value = [99, 3]</text>\r\n",
       "</g>\r\n",
       "<!-- 7&#45;&gt;8 -->\r\n",
       "<g id=\"edge8\" class=\"edge\"><title>7&#45;&gt;8</title>\r\n",
       "<path fill=\"none\" stroke=\"black\" d=\"M341,-296.884C341,-288.778 341,-279.982 341,-271.472\"/>\r\n",
       "<polygon fill=\"black\" stroke=\"black\" points=\"344.5,-271.299 341,-261.299 337.5,-271.299 344.5,-271.299\"/>\r\n",
       "</g>\r\n",
       "<!-- 13 -->\r\n",
       "<g id=\"node14\" class=\"node\"><title>13</title>\r\n",
       "<polygon fill=\"none\" stroke=\"black\" points=\"569,-261 463,-261 463,-193 569,-193 569,-261\"/>\r\n",
       "<text text-anchor=\"middle\" x=\"516\" y=\"-245.8\" font-family=\"Times New Roman,serif\" font-size=\"14.00\">X[5] &lt;= 7.887</text>\r\n",
       "<text text-anchor=\"middle\" x=\"516\" y=\"-230.8\" font-family=\"Times New Roman,serif\" font-size=\"14.00\">entropy = 0.979</text>\r\n",
       "<text text-anchor=\"middle\" x=\"516\" y=\"-215.8\" font-family=\"Times New Roman,serif\" font-size=\"14.00\">samples = 53</text>\r\n",
       "<text text-anchor=\"middle\" x=\"516\" y=\"-200.8\" font-family=\"Times New Roman,serif\" font-size=\"14.00\">value = [22, 31]</text>\r\n",
       "</g>\r\n",
       "<!-- 7&#45;&gt;13 -->\r\n",
       "<g id=\"edge13\" class=\"edge\"><title>7&#45;&gt;13</title>\r\n",
       "<path fill=\"none\" stroke=\"black\" d=\"M396.852,-297.446C415.073,-286.826 435.409,-274.973 454.05,-264.108\"/>\r\n",
       "<polygon fill=\"black\" stroke=\"black\" points=\"455.887,-267.089 462.764,-259.029 452.362,-261.041 455.887,-267.089\"/>\r\n",
       "</g>\r\n",
       "<!-- 9 -->\r\n",
       "<g id=\"node10\" class=\"node\"><title>9</title>\r\n",
       "<polygon fill=\"none\" stroke=\"black\" points=\"333,-157 227,-157 227,-89 333,-89 333,-157\"/>\r\n",
       "<text text-anchor=\"middle\" x=\"280\" y=\"-141.8\" font-family=\"Times New Roman,serif\" font-size=\"14.00\">X[0] &lt;= 26.5</text>\r\n",
       "<text text-anchor=\"middle\" x=\"280\" y=\"-126.8\" font-family=\"Times New Roman,serif\" font-size=\"14.00\">entropy = 0.985</text>\r\n",
       "<text text-anchor=\"middle\" x=\"280\" y=\"-111.8\" font-family=\"Times New Roman,serif\" font-size=\"14.00\">samples = 7</text>\r\n",
       "<text text-anchor=\"middle\" x=\"280\" y=\"-96.8\" font-family=\"Times New Roman,serif\" font-size=\"14.00\">value = [4, 3]</text>\r\n",
       "</g>\r\n",
       "<!-- 8&#45;&gt;9 -->\r\n",
       "<g id=\"edge9\" class=\"edge\"><title>8&#45;&gt;9</title>\r\n",
       "<path fill=\"none\" stroke=\"black\" d=\"M321.195,-192.884C316.081,-184.332 310.508,-175.013 305.161,-166.072\"/>\r\n",
       "<polygon fill=\"black\" stroke=\"black\" points=\"308.051,-164.085 299.914,-157.299 302.043,-167.678 308.051,-164.085\"/>\r\n",
       "</g>\r\n",
       "<!-- 12 -->\r\n",
       "<g id=\"node13\" class=\"node\"><title>12</title>\r\n",
       "<polygon fill=\"none\" stroke=\"black\" points=\"449,-149.5 351,-149.5 351,-96.5 449,-96.5 449,-149.5\"/>\r\n",
       "<text text-anchor=\"middle\" x=\"400\" y=\"-134.3\" font-family=\"Times New Roman,serif\" font-size=\"14.00\">entropy = 0.0</text>\r\n",
       "<text text-anchor=\"middle\" x=\"400\" y=\"-119.3\" font-family=\"Times New Roman,serif\" font-size=\"14.00\">samples = 95</text>\r\n",
       "<text text-anchor=\"middle\" x=\"400\" y=\"-104.3\" font-family=\"Times New Roman,serif\" font-size=\"14.00\">value = [95, 0]</text>\r\n",
       "</g>\r\n",
       "<!-- 8&#45;&gt;12 -->\r\n",
       "<g id=\"edge12\" class=\"edge\"><title>8&#45;&gt;12</title>\r\n",
       "<path fill=\"none\" stroke=\"black\" d=\"M360.156,-192.884C366.581,-181.776 373.755,-169.372 380.227,-158.184\"/>\r\n",
       "<polygon fill=\"black\" stroke=\"black\" points=\"383.261,-159.929 385.238,-149.52 377.202,-156.424 383.261,-159.929\"/>\r\n",
       "</g>\r\n",
       "<!-- 10 -->\r\n",
       "<g id=\"node11\" class=\"node\"><title>10</title>\r\n",
       "<polygon fill=\"none\" stroke=\"black\" points=\"271,-53 179,-53 179,-0 271,-0 271,-53\"/>\r\n",
       "<text text-anchor=\"middle\" x=\"225\" y=\"-37.8\" font-family=\"Times New Roman,serif\" font-size=\"14.00\">entropy = 0.0</text>\r\n",
       "<text text-anchor=\"middle\" x=\"225\" y=\"-22.8\" font-family=\"Times New Roman,serif\" font-size=\"14.00\">samples = 3</text>\r\n",
       "<text text-anchor=\"middle\" x=\"225\" y=\"-7.8\" font-family=\"Times New Roman,serif\" font-size=\"14.00\">value = [0, 3]</text>\r\n",
       "</g>\r\n",
       "<!-- 9&#45;&gt;10 -->\r\n",
       "<g id=\"edge10\" class=\"edge\"><title>9&#45;&gt;10</title>\r\n",
       "<path fill=\"none\" stroke=\"black\" d=\"M260.764,-88.9485C255.706,-80.2579 250.236,-70.8608 245.133,-62.0917\"/>\r\n",
       "<polygon fill=\"black\" stroke=\"black\" points=\"248.034,-60.1189 239.979,-53.2367 241.984,-63.6401 248.034,-60.1189\"/>\r\n",
       "</g>\r\n",
       "<!-- 11 -->\r\n",
       "<g id=\"node12\" class=\"node\"><title>11</title>\r\n",
       "<polygon fill=\"none\" stroke=\"black\" points=\"381,-53 289,-53 289,-0 381,-0 381,-53\"/>\r\n",
       "<text text-anchor=\"middle\" x=\"335\" y=\"-37.8\" font-family=\"Times New Roman,serif\" font-size=\"14.00\">entropy = 0.0</text>\r\n",
       "<text text-anchor=\"middle\" x=\"335\" y=\"-22.8\" font-family=\"Times New Roman,serif\" font-size=\"14.00\">samples = 4</text>\r\n",
       "<text text-anchor=\"middle\" x=\"335\" y=\"-7.8\" font-family=\"Times New Roman,serif\" font-size=\"14.00\">value = [4, 0]</text>\r\n",
       "</g>\r\n",
       "<!-- 9&#45;&gt;11 -->\r\n",
       "<g id=\"edge11\" class=\"edge\"><title>9&#45;&gt;11</title>\r\n",
       "<path fill=\"none\" stroke=\"black\" d=\"M299.236,-88.9485C304.294,-80.2579 309.764,-70.8608 314.867,-62.0917\"/>\r\n",
       "<polygon fill=\"black\" stroke=\"black\" points=\"318.016,-63.6401 320.021,-53.2367 311.966,-60.1189 318.016,-63.6401\"/>\r\n",
       "</g>\r\n",
       "<!-- 14 -->\r\n",
       "<g id=\"node15\" class=\"node\"><title>14</title>\r\n",
       "<polygon fill=\"none\" stroke=\"black\" points=\"565,-149.5 467,-149.5 467,-96.5 565,-96.5 565,-149.5\"/>\r\n",
       "<text text-anchor=\"middle\" x=\"516\" y=\"-134.3\" font-family=\"Times New Roman,serif\" font-size=\"14.00\">entropy = 0.0</text>\r\n",
       "<text text-anchor=\"middle\" x=\"516\" y=\"-119.3\" font-family=\"Times New Roman,serif\" font-size=\"14.00\">samples = 31</text>\r\n",
       "<text text-anchor=\"middle\" x=\"516\" y=\"-104.3\" font-family=\"Times New Roman,serif\" font-size=\"14.00\">value = [0, 31]</text>\r\n",
       "</g>\r\n",
       "<!-- 13&#45;&gt;14 -->\r\n",
       "<g id=\"edge14\" class=\"edge\"><title>13&#45;&gt;14</title>\r\n",
       "<path fill=\"none\" stroke=\"black\" d=\"M516,-192.884C516,-182.326 516,-170.597 516,-159.854\"/>\r\n",
       "<polygon fill=\"black\" stroke=\"black\" points=\"519.5,-159.52 516,-149.52 512.5,-159.52 519.5,-159.52\"/>\r\n",
       "</g>\r\n",
       "<!-- 15 -->\r\n",
       "<g id=\"node16\" class=\"node\"><title>15</title>\r\n",
       "<polygon fill=\"none\" stroke=\"black\" points=\"681,-149.5 583,-149.5 583,-96.5 681,-96.5 681,-149.5\"/>\r\n",
       "<text text-anchor=\"middle\" x=\"632\" y=\"-134.3\" font-family=\"Times New Roman,serif\" font-size=\"14.00\">entropy = 0.0</text>\r\n",
       "<text text-anchor=\"middle\" x=\"632\" y=\"-119.3\" font-family=\"Times New Roman,serif\" font-size=\"14.00\">samples = 22</text>\r\n",
       "<text text-anchor=\"middle\" x=\"632\" y=\"-104.3\" font-family=\"Times New Roman,serif\" font-size=\"14.00\">value = [22, 0]</text>\r\n",
       "</g>\r\n",
       "<!-- 13&#45;&gt;15 -->\r\n",
       "<g id=\"edge15\" class=\"edge\"><title>13&#45;&gt;15</title>\r\n",
       "<path fill=\"none\" stroke=\"black\" d=\"M553.662,-192.884C567.045,-181.116 582.082,-167.894 595.377,-156.203\"/>\r\n",
       "<polygon fill=\"black\" stroke=\"black\" points=\"597.779,-158.752 602.977,-149.52 593.156,-153.495 597.779,-158.752\"/>\r\n",
       "</g>\r\n",
       "</g>\r\n",
       "</svg>\r\n"
      ],
      "text/plain": [
       "<graphviz.files.Source at 0x28aada134e0>"
      ]
     },
     "execution_count": 80,
     "metadata": {},
     "output_type": "execute_result"
    }
   ],
   "source": [
    "# We can do so with export_graphviz\n",
    "import graphviz\n",
    "graph=graphviz.Source(tree.export_graphviz(entr_model, out_file=None))\n",
    "graph"
   ]
  },
  {
   "cell_type": "code",
   "execution_count": 81,
   "metadata": {},
   "outputs": [
    {
     "data": {
      "image/svg+xml": [
       "<?xml version=\"1.0\" encoding=\"UTF-8\" standalone=\"no\"?>\r\n",
       "<!DOCTYPE svg PUBLIC \"-//W3C//DTD SVG 1.1//EN\"\r\n",
       " \"http://www.w3.org/Graphics/SVG/1.1/DTD/svg11.dtd\">\r\n",
       "<!-- Generated by graphviz version 2.38.0 (20140413.2041)\r\n",
       " -->\r\n",
       "<!-- Title: Tree Pages: 1 -->\r\n",
       "<svg width=\"738pt\" height=\"671pt\"\r\n",
       " viewBox=\"0.00 0.00 737.50 671.00\" xmlns=\"http://www.w3.org/2000/svg\" xmlns:xlink=\"http://www.w3.org/1999/xlink\">\r\n",
       "<g id=\"graph0\" class=\"graph\" transform=\"scale(1 1) rotate(0) translate(4 667)\">\r\n",
       "<title>Tree</title>\r\n",
       "<polygon fill=\"white\" stroke=\"none\" points=\"-4,4 -4,-667 733.5,-667 733.5,4 -4,4\"/>\r\n",
       "<!-- 0 -->\r\n",
       "<g id=\"node1\" class=\"node\"><title>0</title>\r\n",
       "<path fill=\"#abd6f4\" stroke=\"black\" d=\"M432.5,-663C432.5,-663 275.5,-663 275.5,-663 269.5,-663 263.5,-657 263.5,-651 263.5,-651 263.5,-592 263.5,-592 263.5,-586 269.5,-580 275.5,-580 275.5,-580 432.5,-580 432.5,-580 438.5,-580 444.5,-586 444.5,-592 444.5,-592 444.5,-651 444.5,-651 444.5,-657 438.5,-663 432.5,-663\"/>\r\n",
       "<text text-anchor=\"start\" x=\"271.5\" y=\"-647.8\" font-family=\"Helvetica,sans-Serif\" font-size=\"14.00\">spent_last_month ≤ 138.0</text>\r\n",
       "<text text-anchor=\"start\" x=\"304\" y=\"-632.8\" font-family=\"Helvetica,sans-Serif\" font-size=\"14.00\">entropy = 0.948</text>\r\n",
       "<text text-anchor=\"start\" x=\"306.5\" y=\"-617.8\" font-family=\"Helvetica,sans-Serif\" font-size=\"14.00\">samples = 355</text>\r\n",
       "<text text-anchor=\"start\" x=\"297\" y=\"-602.8\" font-family=\"Helvetica,sans-Serif\" font-size=\"14.00\">value = [130, 225]</text>\r\n",
       "<text text-anchor=\"start\" x=\"315\" y=\"-587.8\" font-family=\"Helvetica,sans-Serif\" font-size=\"14.00\">class = YES</text>\r\n",
       "</g>\r\n",
       "<!-- 1 -->\r\n",
       "<g id=\"node2\" class=\"node\"><title>1</title>\r\n",
       "<path fill=\"#fae6d7\" stroke=\"black\" d=\"M337,-544C337,-544 231,-544 231,-544 225,-544 219,-538 219,-532 219,-532 219,-473 219,-473 219,-467 225,-461 231,-461 231,-461 337,-461 337,-461 343,-461 349,-467 349,-473 349,-473 349,-532 349,-532 349,-538 343,-544 337,-544\"/>\r\n",
       "<text text-anchor=\"start\" x=\"230\" y=\"-528.8\" font-family=\"Helvetica,sans-Serif\" font-size=\"14.00\">Distance ≤ 3.524</text>\r\n",
       "<text text-anchor=\"start\" x=\"234\" y=\"-513.8\" font-family=\"Helvetica,sans-Serif\" font-size=\"14.00\">entropy = 0.991</text>\r\n",
       "<text text-anchor=\"start\" x=\"236.5\" y=\"-498.8\" font-family=\"Helvetica,sans-Serif\" font-size=\"14.00\">samples = 234</text>\r\n",
       "<text text-anchor=\"start\" x=\"227\" y=\"-483.8\" font-family=\"Helvetica,sans-Serif\" font-size=\"14.00\">value = [130, 104]</text>\r\n",
       "<text text-anchor=\"start\" x=\"249\" y=\"-468.8\" font-family=\"Helvetica,sans-Serif\" font-size=\"14.00\">class = NO</text>\r\n",
       "</g>\r\n",
       "<!-- 0&#45;&gt;1 -->\r\n",
       "<g id=\"edge1\" class=\"edge\"><title>0&#45;&gt;1</title>\r\n",
       "<path fill=\"none\" stroke=\"black\" d=\"M329.714,-579.907C324.447,-571.105 318.822,-561.703 313.383,-552.612\"/>\r\n",
       "<polygon fill=\"black\" stroke=\"black\" points=\"316.381,-550.805 308.243,-544.021 310.374,-554.399 316.381,-550.805\"/>\r\n",
       "<text text-anchor=\"middle\" x=\"302.149\" y=\"-564.567\" font-family=\"Helvetica,sans-Serif\" font-size=\"14.00\">True</text>\r\n",
       "</g>\r\n",
       "<!-- 16 -->\r\n",
       "<g id=\"node17\" class=\"node\"><title>16</title>\r\n",
       "<path fill=\"#399de5\" stroke=\"black\" d=\"M468.5,-536.5C468.5,-536.5 379.5,-536.5 379.5,-536.5 373.5,-536.5 367.5,-530.5 367.5,-524.5 367.5,-524.5 367.5,-480.5 367.5,-480.5 367.5,-474.5 373.5,-468.5 379.5,-468.5 379.5,-468.5 468.5,-468.5 468.5,-468.5 474.5,-468.5 480.5,-474.5 480.5,-480.5 480.5,-480.5 480.5,-524.5 480.5,-524.5 480.5,-530.5 474.5,-536.5 468.5,-536.5\"/>\r\n",
       "<text text-anchor=\"start\" x=\"382\" y=\"-521.3\" font-family=\"Helvetica,sans-Serif\" font-size=\"14.00\">entropy = 0.0</text>\r\n",
       "<text text-anchor=\"start\" x=\"376.5\" y=\"-506.3\" font-family=\"Helvetica,sans-Serif\" font-size=\"14.00\">samples = 121</text>\r\n",
       "<text text-anchor=\"start\" x=\"375.5\" y=\"-491.3\" font-family=\"Helvetica,sans-Serif\" font-size=\"14.00\">value = [0, 121]</text>\r\n",
       "<text text-anchor=\"start\" x=\"385\" y=\"-476.3\" font-family=\"Helvetica,sans-Serif\" font-size=\"14.00\">class = YES</text>\r\n",
       "</g>\r\n",
       "<!-- 0&#45;&gt;16 -->\r\n",
       "<g id=\"edge16\" class=\"edge\"><title>0&#45;&gt;16</title>\r\n",
       "<path fill=\"none\" stroke=\"black\" d=\"M378.286,-579.907C384.954,-568.763 392.196,-556.658 398.908,-545.439\"/>\r\n",
       "<polygon fill=\"black\" stroke=\"black\" points=\"402.026,-547.045 404.157,-536.667 396.019,-543.451 402.026,-547.045\"/>\r\n",
       "<text text-anchor=\"middle\" x=\"410.25\" y=\"-557.213\" font-family=\"Helvetica,sans-Serif\" font-size=\"14.00\">False</text>\r\n",
       "</g>\r\n",
       "<!-- 2 -->\r\n",
       "<g id=\"node3\" class=\"node\"><title>2</title>\r\n",
       "<path fill=\"#52aae8\" stroke=\"black\" d=\"M250.5,-425C250.5,-425 101.5,-425 101.5,-425 95.5,-425 89.5,-419 89.5,-413 89.5,-413 89.5,-354 89.5,-354 89.5,-348 95.5,-342 101.5,-342 101.5,-342 250.5,-342 250.5,-342 256.5,-342 262.5,-348 262.5,-354 262.5,-354 262.5,-413 262.5,-413 262.5,-419 256.5,-425 250.5,-425\"/>\r\n",
       "<text text-anchor=\"start\" x=\"97.5\" y=\"-409.8\" font-family=\"Helvetica,sans-Serif\" font-size=\"14.00\">spent_last_month ≤ 24.5</text>\r\n",
       "<text text-anchor=\"start\" x=\"126\" y=\"-394.8\" font-family=\"Helvetica,sans-Serif\" font-size=\"14.00\">entropy = 0.512</text>\r\n",
       "<text text-anchor=\"start\" x=\"132.5\" y=\"-379.8\" font-family=\"Helvetica,sans-Serif\" font-size=\"14.00\">samples = 79</text>\r\n",
       "<text text-anchor=\"start\" x=\"131.5\" y=\"-364.8\" font-family=\"Helvetica,sans-Serif\" font-size=\"14.00\">value = [9, 70]</text>\r\n",
       "<text text-anchor=\"start\" x=\"137\" y=\"-349.8\" font-family=\"Helvetica,sans-Serif\" font-size=\"14.00\">class = YES</text>\r\n",
       "</g>\r\n",
       "<!-- 1&#45;&gt;2 -->\r\n",
       "<g id=\"edge2\" class=\"edge\"><title>1&#45;&gt;2</title>\r\n",
       "<path fill=\"none\" stroke=\"black\" d=\"M246.53,-460.907C238.069,-451.742 229.009,-441.927 220.298,-432.489\"/>\r\n",
       "<polygon fill=\"black\" stroke=\"black\" points=\"222.758,-429.995 213.404,-425.021 217.615,-434.743 222.758,-429.995\"/>\r\n",
       "</g>\r\n",
       "<!-- 7 -->\r\n",
       "<g id=\"node8\" class=\"node\"><title>7</title>\r\n",
       "<path fill=\"#eca471\" stroke=\"black\" d=\"M471.5,-425C471.5,-425 314.5,-425 314.5,-425 308.5,-425 302.5,-419 302.5,-413 302.5,-413 302.5,-354 302.5,-354 302.5,-348 308.5,-342 314.5,-342 314.5,-342 471.5,-342 471.5,-342 477.5,-342 483.5,-348 483.5,-354 483.5,-354 483.5,-413 483.5,-413 483.5,-419 477.5,-425 471.5,-425\"/>\r\n",
       "<text text-anchor=\"start\" x=\"310.5\" y=\"-409.8\" font-family=\"Helvetica,sans-Serif\" font-size=\"14.00\">spent_last_month ≤ 101.0</text>\r\n",
       "<text text-anchor=\"start\" x=\"343\" y=\"-394.8\" font-family=\"Helvetica,sans-Serif\" font-size=\"14.00\">entropy = 0.759</text>\r\n",
       "<text text-anchor=\"start\" x=\"345.5\" y=\"-379.8\" font-family=\"Helvetica,sans-Serif\" font-size=\"14.00\">samples = 155</text>\r\n",
       "<text text-anchor=\"start\" x=\"340\" y=\"-364.8\" font-family=\"Helvetica,sans-Serif\" font-size=\"14.00\">value = [121, 34]</text>\r\n",
       "<text text-anchor=\"start\" x=\"358\" y=\"-349.8\" font-family=\"Helvetica,sans-Serif\" font-size=\"14.00\">class = NO</text>\r\n",
       "</g>\r\n",
       "<!-- 1&#45;&gt;7 -->\r\n",
       "<g id=\"edge7\" class=\"edge\"><title>1&#45;&gt;7</title>\r\n",
       "<path fill=\"none\" stroke=\"black\" d=\"M321.817,-460.907C330.356,-451.742 339.5,-441.927 348.292,-432.489\"/>\r\n",
       "<polygon fill=\"black\" stroke=\"black\" points=\"350.994,-434.723 355.25,-425.021 345.872,-429.952 350.994,-434.723\"/>\r\n",
       "</g>\r\n",
       "<!-- 3 -->\r\n",
       "<g id=\"node4\" class=\"node\"><title>3</title>\r\n",
       "<path fill=\"#e58139\" stroke=\"black\" d=\"M88,-298.5C88,-298.5 12,-298.5 12,-298.5 6,-298.5 0,-292.5 0,-286.5 0,-286.5 0,-242.5 0,-242.5 0,-236.5 6,-230.5 12,-230.5 12,-230.5 88,-230.5 88,-230.5 94,-230.5 100,-236.5 100,-242.5 100,-242.5 100,-286.5 100,-286.5 100,-292.5 94,-298.5 88,-298.5\"/>\r\n",
       "<text text-anchor=\"start\" x=\"8\" y=\"-283.3\" font-family=\"Helvetica,sans-Serif\" font-size=\"14.00\">entropy = 0.0</text>\r\n",
       "<text text-anchor=\"start\" x=\"10.5\" y=\"-268.3\" font-family=\"Helvetica,sans-Serif\" font-size=\"14.00\">samples = 8</text>\r\n",
       "<text text-anchor=\"start\" x=\"9.5\" y=\"-253.3\" font-family=\"Helvetica,sans-Serif\" font-size=\"14.00\">value = [8, 0]</text>\r\n",
       "<text text-anchor=\"start\" x=\"15\" y=\"-238.3\" font-family=\"Helvetica,sans-Serif\" font-size=\"14.00\">class = NO</text>\r\n",
       "</g>\r\n",
       "<!-- 2&#45;&gt;3 -->\r\n",
       "<g id=\"edge3\" class=\"edge\"><title>2&#45;&gt;3</title>\r\n",
       "<path fill=\"none\" stroke=\"black\" d=\"M132.285,-341.907C119.689,-330.211 105.954,-317.457 93.3782,-305.78\"/>\r\n",
       "<polygon fill=\"black\" stroke=\"black\" points=\"95.4278,-302.907 85.7182,-298.667 90.6646,-308.036 95.4278,-302.907\"/>\r\n",
       "</g>\r\n",
       "<!-- 4 -->\r\n",
       "<g id=\"node5\" class=\"node\"><title>4</title>\r\n",
       "<path fill=\"#3c9ee5\" stroke=\"black\" d=\"M222,-306C222,-306 130,-306 130,-306 124,-306 118,-300 118,-294 118,-294 118,-235 118,-235 118,-229 124,-223 130,-223 130,-223 222,-223 222,-223 228,-223 234,-229 234,-235 234,-235 234,-294 234,-294 234,-300 228,-306 222,-306\"/>\r\n",
       "<text text-anchor=\"start\" x=\"141\" y=\"-290.8\" font-family=\"Helvetica,sans-Serif\" font-size=\"14.00\">Age ≤ 59.0</text>\r\n",
       "<text text-anchor=\"start\" x=\"126\" y=\"-275.8\" font-family=\"Helvetica,sans-Serif\" font-size=\"14.00\">entropy = 0.107</text>\r\n",
       "<text text-anchor=\"start\" x=\"132.5\" y=\"-260.8\" font-family=\"Helvetica,sans-Serif\" font-size=\"14.00\">samples = 71</text>\r\n",
       "<text text-anchor=\"start\" x=\"131.5\" y=\"-245.8\" font-family=\"Helvetica,sans-Serif\" font-size=\"14.00\">value = [1, 70]</text>\r\n",
       "<text text-anchor=\"start\" x=\"137\" y=\"-230.8\" font-family=\"Helvetica,sans-Serif\" font-size=\"14.00\">class = YES</text>\r\n",
       "</g>\r\n",
       "<!-- 2&#45;&gt;4 -->\r\n",
       "<g id=\"edge4\" class=\"edge\"><title>2&#45;&gt;4</title>\r\n",
       "<path fill=\"none\" stroke=\"black\" d=\"M176,-341.907C176,-333.649 176,-324.864 176,-316.302\"/>\r\n",
       "<polygon fill=\"black\" stroke=\"black\" points=\"179.5,-316.021 176,-306.021 172.5,-316.021 179.5,-316.021\"/>\r\n",
       "</g>\r\n",
       "<!-- 5 -->\r\n",
       "<g id=\"node6\" class=\"node\"><title>5</title>\r\n",
       "<path fill=\"#399de5\" stroke=\"black\" d=\"M95.5,-179.5C95.5,-179.5 14.5,-179.5 14.5,-179.5 8.5,-179.5 2.5,-173.5 2.5,-167.5 2.5,-167.5 2.5,-123.5 2.5,-123.5 2.5,-117.5 8.5,-111.5 14.5,-111.5 14.5,-111.5 95.5,-111.5 95.5,-111.5 101.5,-111.5 107.5,-117.5 107.5,-123.5 107.5,-123.5 107.5,-167.5 107.5,-167.5 107.5,-173.5 101.5,-179.5 95.5,-179.5\"/>\r\n",
       "<text text-anchor=\"start\" x=\"13\" y=\"-164.3\" font-family=\"Helvetica,sans-Serif\" font-size=\"14.00\">entropy = 0.0</text>\r\n",
       "<text text-anchor=\"start\" x=\"11.5\" y=\"-149.3\" font-family=\"Helvetica,sans-Serif\" font-size=\"14.00\">samples = 70</text>\r\n",
       "<text text-anchor=\"start\" x=\"10.5\" y=\"-134.3\" font-family=\"Helvetica,sans-Serif\" font-size=\"14.00\">value = [0, 70]</text>\r\n",
       "<text text-anchor=\"start\" x=\"16\" y=\"-119.3\" font-family=\"Helvetica,sans-Serif\" font-size=\"14.00\">class = YES</text>\r\n",
       "</g>\r\n",
       "<!-- 4&#45;&gt;5 -->\r\n",
       "<g id=\"edge5\" class=\"edge\"><title>4&#45;&gt;5</title>\r\n",
       "<path fill=\"none\" stroke=\"black\" d=\"M134.02,-222.907C121.923,-211.211 108.734,-198.457 96.6568,-186.78\"/>\r\n",
       "<polygon fill=\"black\" stroke=\"black\" points=\"98.9227,-184.102 89.3008,-179.667 94.0568,-189.134 98.9227,-184.102\"/>\r\n",
       "</g>\r\n",
       "<!-- 6 -->\r\n",
       "<g id=\"node7\" class=\"node\"><title>6</title>\r\n",
       "<path fill=\"#e58139\" stroke=\"black\" d=\"M214,-179.5C214,-179.5 138,-179.5 138,-179.5 132,-179.5 126,-173.5 126,-167.5 126,-167.5 126,-123.5 126,-123.5 126,-117.5 132,-111.5 138,-111.5 138,-111.5 214,-111.5 214,-111.5 220,-111.5 226,-117.5 226,-123.5 226,-123.5 226,-167.5 226,-167.5 226,-173.5 220,-179.5 214,-179.5\"/>\r\n",
       "<text text-anchor=\"start\" x=\"134\" y=\"-164.3\" font-family=\"Helvetica,sans-Serif\" font-size=\"14.00\">entropy = 0.0</text>\r\n",
       "<text text-anchor=\"start\" x=\"136.5\" y=\"-149.3\" font-family=\"Helvetica,sans-Serif\" font-size=\"14.00\">samples = 1</text>\r\n",
       "<text text-anchor=\"start\" x=\"135.5\" y=\"-134.3\" font-family=\"Helvetica,sans-Serif\" font-size=\"14.00\">value = [1, 0]</text>\r\n",
       "<text text-anchor=\"start\" x=\"141\" y=\"-119.3\" font-family=\"Helvetica,sans-Serif\" font-size=\"14.00\">class = NO</text>\r\n",
       "</g>\r\n",
       "<!-- 4&#45;&gt;6 -->\r\n",
       "<g id=\"edge6\" class=\"edge\"><title>4&#45;&gt;6</title>\r\n",
       "<path fill=\"none\" stroke=\"black\" d=\"M176,-222.907C176,-212.204 176,-200.615 176,-189.776\"/>\r\n",
       "<polygon fill=\"black\" stroke=\"black\" points=\"179.5,-189.667 176,-179.667 172.5,-189.667 179.5,-189.667\"/>\r\n",
       "</g>\r\n",
       "<!-- 8 -->\r\n",
       "<g id=\"node9\" class=\"node\"><title>8</title>\r\n",
       "<path fill=\"#e6853f\" stroke=\"black\" d=\"M439,-306C439,-306 347,-306 347,-306 341,-306 335,-300 335,-294 335,-294 335,-235 335,-235 335,-229 341,-223 347,-223 347,-223 439,-223 439,-223 445,-223 451,-229 451,-235 451,-235 451,-294 451,-294 451,-300 445,-306 439,-306\"/>\r\n",
       "<text text-anchor=\"start\" x=\"347.5\" y=\"-290.8\" font-family=\"Helvetica,sans-Serif\" font-size=\"14.00\">Distance ≤ 4.0</text>\r\n",
       "<text text-anchor=\"start\" x=\"343\" y=\"-275.8\" font-family=\"Helvetica,sans-Serif\" font-size=\"14.00\">entropy = 0.191</text>\r\n",
       "<text text-anchor=\"start\" x=\"345.5\" y=\"-260.8\" font-family=\"Helvetica,sans-Serif\" font-size=\"14.00\">samples = 102</text>\r\n",
       "<text text-anchor=\"start\" x=\"348.5\" y=\"-245.8\" font-family=\"Helvetica,sans-Serif\" font-size=\"14.00\">value = [99, 3]</text>\r\n",
       "<text text-anchor=\"start\" x=\"358\" y=\"-230.8\" font-family=\"Helvetica,sans-Serif\" font-size=\"14.00\">class = NO</text>\r\n",
       "</g>\r\n",
       "<!-- 7&#45;&gt;8 -->\r\n",
       "<g id=\"edge8\" class=\"edge\"><title>7&#45;&gt;8</title>\r\n",
       "<path fill=\"none\" stroke=\"black\" d=\"M393,-341.907C393,-333.649 393,-324.864 393,-316.302\"/>\r\n",
       "<polygon fill=\"black\" stroke=\"black\" points=\"396.5,-316.021 393,-306.021 389.5,-316.021 396.5,-316.021\"/>\r\n",
       "</g>\r\n",
       "<!-- 13 -->\r\n",
       "<g id=\"node14\" class=\"node\"><title>13</title>\r\n",
       "<path fill=\"#c6e3f7\" stroke=\"black\" d=\"M604,-306C604,-306 504,-306 504,-306 498,-306 492,-300 492,-294 492,-294 492,-235 492,-235 492,-229 498,-223 504,-223 504,-223 604,-223 604,-223 610,-223 616,-229 616,-235 616,-235 616,-294 616,-294 616,-300 610,-306 604,-306\"/>\r\n",
       "<text text-anchor=\"start\" x=\"500\" y=\"-290.8\" font-family=\"Helvetica,sans-Serif\" font-size=\"14.00\">Distance ≤ 7.887</text>\r\n",
       "<text text-anchor=\"start\" x=\"504\" y=\"-275.8\" font-family=\"Helvetica,sans-Serif\" font-size=\"14.00\">entropy = 0.979</text>\r\n",
       "<text text-anchor=\"start\" x=\"510.5\" y=\"-260.8\" font-family=\"Helvetica,sans-Serif\" font-size=\"14.00\">samples = 53</text>\r\n",
       "<text text-anchor=\"start\" x=\"505.5\" y=\"-245.8\" font-family=\"Helvetica,sans-Serif\" font-size=\"14.00\">value = [22, 31]</text>\r\n",
       "<text text-anchor=\"start\" x=\"515\" y=\"-230.8\" font-family=\"Helvetica,sans-Serif\" font-size=\"14.00\">class = YES</text>\r\n",
       "</g>\r\n",
       "<!-- 7&#45;&gt;13 -->\r\n",
       "<g id=\"edge13\" class=\"edge\"><title>7&#45;&gt;13</title>\r\n",
       "<path fill=\"none\" stroke=\"black\" d=\"M448.858,-341.907C462.095,-332.288 476.316,-321.953 489.889,-312.09\"/>\r\n",
       "<polygon fill=\"black\" stroke=\"black\" points=\"492.209,-314.731 498.241,-306.021 488.093,-309.068 492.209,-314.731\"/>\r\n",
       "</g>\r\n",
       "<!-- 9 -->\r\n",
       "<g id=\"node10\" class=\"node\"><title>9</title>\r\n",
       "<path fill=\"#f8e0ce\" stroke=\"black\" d=\"M348,-187C348,-187 256,-187 256,-187 250,-187 244,-181 244,-175 244,-175 244,-116 244,-116 244,-110 250,-104 256,-104 256,-104 348,-104 348,-104 354,-104 360,-110 360,-116 360,-116 360,-175 360,-175 360,-181 354,-187 348,-187\"/>\r\n",
       "<text text-anchor=\"start\" x=\"267\" y=\"-171.8\" font-family=\"Helvetica,sans-Serif\" font-size=\"14.00\">Age ≤ 26.5</text>\r\n",
       "<text text-anchor=\"start\" x=\"252\" y=\"-156.8\" font-family=\"Helvetica,sans-Serif\" font-size=\"14.00\">entropy = 0.985</text>\r\n",
       "<text text-anchor=\"start\" x=\"262.5\" y=\"-141.8\" font-family=\"Helvetica,sans-Serif\" font-size=\"14.00\">samples = 7</text>\r\n",
       "<text text-anchor=\"start\" x=\"261.5\" y=\"-126.8\" font-family=\"Helvetica,sans-Serif\" font-size=\"14.00\">value = [4, 3]</text>\r\n",
       "<text text-anchor=\"start\" x=\"267\" y=\"-111.8\" font-family=\"Helvetica,sans-Serif\" font-size=\"14.00\">class = NO</text>\r\n",
       "</g>\r\n",
       "<!-- 8&#45;&gt;9 -->\r\n",
       "<g id=\"edge9\" class=\"edge\"><title>8&#45;&gt;9</title>\r\n",
       "<path fill=\"none\" stroke=\"black\" d=\"M361.428,-222.907C354.44,-213.923 346.967,-204.315 339.761,-195.05\"/>\r\n",
       "<polygon fill=\"black\" stroke=\"black\" points=\"342.418,-192.766 333.516,-187.021 336.893,-197.063 342.418,-192.766\"/>\r\n",
       "</g>\r\n",
       "<!-- 12 -->\r\n",
       "<g id=\"node13\" class=\"node\"><title>12</title>\r\n",
       "<path fill=\"#e58139\" stroke=\"black\" d=\"M471.5,-179.5C471.5,-179.5 390.5,-179.5 390.5,-179.5 384.5,-179.5 378.5,-173.5 378.5,-167.5 378.5,-167.5 378.5,-123.5 378.5,-123.5 378.5,-117.5 384.5,-111.5 390.5,-111.5 390.5,-111.5 471.5,-111.5 471.5,-111.5 477.5,-111.5 483.5,-117.5 483.5,-123.5 483.5,-123.5 483.5,-167.5 483.5,-167.5 483.5,-173.5 477.5,-179.5 471.5,-179.5\"/>\r\n",
       "<text text-anchor=\"start\" x=\"389\" y=\"-164.3\" font-family=\"Helvetica,sans-Serif\" font-size=\"14.00\">entropy = 0.0</text>\r\n",
       "<text text-anchor=\"start\" x=\"387.5\" y=\"-149.3\" font-family=\"Helvetica,sans-Serif\" font-size=\"14.00\">samples = 95</text>\r\n",
       "<text text-anchor=\"start\" x=\"386.5\" y=\"-134.3\" font-family=\"Helvetica,sans-Serif\" font-size=\"14.00\">value = [95, 0]</text>\r\n",
       "<text text-anchor=\"start\" x=\"396\" y=\"-119.3\" font-family=\"Helvetica,sans-Serif\" font-size=\"14.00\">class = NO</text>\r\n",
       "</g>\r\n",
       "<!-- 8&#45;&gt;12 -->\r\n",
       "<g id=\"edge12\" class=\"edge\"><title>8&#45;&gt;12</title>\r\n",
       "<path fill=\"none\" stroke=\"black\" d=\"M406.184,-222.907C409.696,-212.094 413.502,-200.376 417.053,-189.441\"/>\r\n",
       "<polygon fill=\"black\" stroke=\"black\" points=\"420.468,-190.259 420.228,-179.667 413.81,-188.097 420.468,-190.259\"/>\r\n",
       "</g>\r\n",
       "<!-- 10 -->\r\n",
       "<g id=\"node11\" class=\"node\"><title>10</title>\r\n",
       "<path fill=\"#399de5\" stroke=\"black\" d=\"M281,-68C281,-68 205,-68 205,-68 199,-68 193,-62 193,-56 193,-56 193,-12 193,-12 193,-6 199,-0 205,-0 205,-0 281,-0 281,-0 287,-0 293,-6 293,-12 293,-12 293,-56 293,-56 293,-62 287,-68 281,-68\"/>\r\n",
       "<text text-anchor=\"start\" x=\"201\" y=\"-52.8\" font-family=\"Helvetica,sans-Serif\" font-size=\"14.00\">entropy = 0.0</text>\r\n",
       "<text text-anchor=\"start\" x=\"203.5\" y=\"-37.8\" font-family=\"Helvetica,sans-Serif\" font-size=\"14.00\">samples = 3</text>\r\n",
       "<text text-anchor=\"start\" x=\"202.5\" y=\"-22.8\" font-family=\"Helvetica,sans-Serif\" font-size=\"14.00\">value = [0, 3]</text>\r\n",
       "<text text-anchor=\"start\" x=\"204\" y=\"-7.8\" font-family=\"Helvetica,sans-Serif\" font-size=\"14.00\">class = YES</text>\r\n",
       "</g>\r\n",
       "<!-- 9&#45;&gt;10 -->\r\n",
       "<g id=\"edge10\" class=\"edge\"><title>9&#45;&gt;10</title>\r\n",
       "<path fill=\"none\" stroke=\"black\" d=\"M280.031,-103.726C275.362,-95.0615 270.424,-85.8962 265.727,-77.1802\"/>\r\n",
       "<polygon fill=\"black\" stroke=\"black\" points=\"268.767,-75.4428 260.942,-68.2996 262.604,-78.7632 268.767,-75.4428\"/>\r\n",
       "</g>\r\n",
       "<!-- 11 -->\r\n",
       "<g id=\"node12\" class=\"node\"><title>11</title>\r\n",
       "<path fill=\"#e58139\" stroke=\"black\" d=\"M399,-68C399,-68 323,-68 323,-68 317,-68 311,-62 311,-56 311,-56 311,-12 311,-12 311,-6 317,-0 323,-0 323,-0 399,-0 399,-0 405,-0 411,-6 411,-12 411,-12 411,-56 411,-56 411,-62 405,-68 399,-68\"/>\r\n",
       "<text text-anchor=\"start\" x=\"319\" y=\"-52.8\" font-family=\"Helvetica,sans-Serif\" font-size=\"14.00\">entropy = 0.0</text>\r\n",
       "<text text-anchor=\"start\" x=\"321.5\" y=\"-37.8\" font-family=\"Helvetica,sans-Serif\" font-size=\"14.00\">samples = 4</text>\r\n",
       "<text text-anchor=\"start\" x=\"320.5\" y=\"-22.8\" font-family=\"Helvetica,sans-Serif\" font-size=\"14.00\">value = [4, 0]</text>\r\n",
       "<text text-anchor=\"start\" x=\"326\" y=\"-7.8\" font-family=\"Helvetica,sans-Serif\" font-size=\"14.00\">class = NO</text>\r\n",
       "</g>\r\n",
       "<!-- 9&#45;&gt;11 -->\r\n",
       "<g id=\"edge11\" class=\"edge\"><title>9&#45;&gt;11</title>\r\n",
       "<path fill=\"none\" stroke=\"black\" d=\"M323.969,-103.726C328.638,-95.0615 333.576,-85.8962 338.273,-77.1802\"/>\r\n",
       "<polygon fill=\"black\" stroke=\"black\" points=\"341.396,-78.7632 343.058,-68.2996 335.233,-75.4428 341.396,-78.7632\"/>\r\n",
       "</g>\r\n",
       "<!-- 14 -->\r\n",
       "<g id=\"node15\" class=\"node\"><title>14</title>\r\n",
       "<path fill=\"#399de5\" stroke=\"black\" d=\"M594.5,-179.5C594.5,-179.5 513.5,-179.5 513.5,-179.5 507.5,-179.5 501.5,-173.5 501.5,-167.5 501.5,-167.5 501.5,-123.5 501.5,-123.5 501.5,-117.5 507.5,-111.5 513.5,-111.5 513.5,-111.5 594.5,-111.5 594.5,-111.5 600.5,-111.5 606.5,-117.5 606.5,-123.5 606.5,-123.5 606.5,-167.5 606.5,-167.5 606.5,-173.5 600.5,-179.5 594.5,-179.5\"/>\r\n",
       "<text text-anchor=\"start\" x=\"512\" y=\"-164.3\" font-family=\"Helvetica,sans-Serif\" font-size=\"14.00\">entropy = 0.0</text>\r\n",
       "<text text-anchor=\"start\" x=\"510.5\" y=\"-149.3\" font-family=\"Helvetica,sans-Serif\" font-size=\"14.00\">samples = 31</text>\r\n",
       "<text text-anchor=\"start\" x=\"509.5\" y=\"-134.3\" font-family=\"Helvetica,sans-Serif\" font-size=\"14.00\">value = [0, 31]</text>\r\n",
       "<text text-anchor=\"start\" x=\"515\" y=\"-119.3\" font-family=\"Helvetica,sans-Serif\" font-size=\"14.00\">class = YES</text>\r\n",
       "</g>\r\n",
       "<!-- 13&#45;&gt;14 -->\r\n",
       "<g id=\"edge14\" class=\"edge\"><title>13&#45;&gt;14</title>\r\n",
       "<path fill=\"none\" stroke=\"black\" d=\"M554,-222.907C554,-212.204 554,-200.615 554,-189.776\"/>\r\n",
       "<polygon fill=\"black\" stroke=\"black\" points=\"557.5,-189.667 554,-179.667 550.5,-189.667 557.5,-189.667\"/>\r\n",
       "</g>\r\n",
       "<!-- 15 -->\r\n",
       "<g id=\"node16\" class=\"node\"><title>15</title>\r\n",
       "<path fill=\"#e58139\" stroke=\"black\" d=\"M717.5,-179.5C717.5,-179.5 636.5,-179.5 636.5,-179.5 630.5,-179.5 624.5,-173.5 624.5,-167.5 624.5,-167.5 624.5,-123.5 624.5,-123.5 624.5,-117.5 630.5,-111.5 636.5,-111.5 636.5,-111.5 717.5,-111.5 717.5,-111.5 723.5,-111.5 729.5,-117.5 729.5,-123.5 729.5,-123.5 729.5,-167.5 729.5,-167.5 729.5,-173.5 723.5,-179.5 717.5,-179.5\"/>\r\n",
       "<text text-anchor=\"start\" x=\"635\" y=\"-164.3\" font-family=\"Helvetica,sans-Serif\" font-size=\"14.00\">entropy = 0.0</text>\r\n",
       "<text text-anchor=\"start\" x=\"633.5\" y=\"-149.3\" font-family=\"Helvetica,sans-Serif\" font-size=\"14.00\">samples = 22</text>\r\n",
       "<text text-anchor=\"start\" x=\"632.5\" y=\"-134.3\" font-family=\"Helvetica,sans-Serif\" font-size=\"14.00\">value = [22, 0]</text>\r\n",
       "<text text-anchor=\"start\" x=\"642\" y=\"-119.3\" font-family=\"Helvetica,sans-Serif\" font-size=\"14.00\">class = NO</text>\r\n",
       "</g>\r\n",
       "<!-- 13&#45;&gt;15 -->\r\n",
       "<g id=\"edge15\" class=\"edge\"><title>13&#45;&gt;15</title>\r\n",
       "<path fill=\"none\" stroke=\"black\" d=\"M596.674,-222.907C608.971,-211.211 622.378,-198.457 634.655,-186.78\"/>\r\n",
       "<polygon fill=\"black\" stroke=\"black\" points=\"637.299,-189.095 642.132,-179.667 632.474,-184.023 637.299,-189.095\"/>\r\n",
       "</g>\r\n",
       "</g>\r\n",
       "</svg>\r\n"
      ],
      "text/plain": [
       "<graphviz.files.Source at 0x28aada09978>"
      ]
     },
     "execution_count": 81,
     "metadata": {},
     "output_type": "execute_result"
    }
   ],
   "source": [
    "# Alternatively for class_names use entr_model.classes_\n",
    "graph=graphviz.Source(tree.export_graphviz(entr_model, out_file=None, \n",
    "                     feature_names=X.columns,  \n",
    "                      class_names=entr_model.classes_,  \n",
    "                      filled=True, rounded=True,  \n",
    "                      special_characters=True))\n",
    "graph"
   ]
  },
  {
   "cell_type": "markdown",
   "metadata": {
    "colab_type": "text",
    "id": "dFbii4IADuWg"
   },
   "source": [
    "## Model 1: Entropy model - no max_depth: Interpretation and evaluation"
   ]
  },
  {
   "cell_type": "code",
   "execution_count": 82,
   "metadata": {
    "colab": {},
    "colab_type": "code",
    "id": "XRL0klK4DuWh"
   },
   "outputs": [
    {
     "name": "stdout",
     "output_type": "stream",
     "text": [
      "Model Entropy - no max depth\n",
      "Accuracy: 0.9915966386554622\n",
      "Balanced accuracy: 0.9878048780487805\n",
      "Precision score for \"Yes\" 0.9873417721518988\n",
      "Precision score for \"No\" 1.0\n",
      "Recall score for \"Yes\" 1.0\n",
      "Recall score for \"No\" 0.975609756097561\n"
     ]
    }
   ],
   "source": [
    "# Run this block for model evaluation metrics \n",
    "print(\"Model Entropy - no max depth\")\n",
    "print(\"Accuracy:\", metrics.accuracy_score(y_test,y_pred))\n",
    "print(\"Balanced accuracy:\", metrics.balanced_accuracy_score(y_test,y_pred))\n",
    "print('Precision score for \"Yes\"' , metrics.precision_score(y_test,y_pred, pos_label = \"YES\"))\n",
    "print('Precision score for \"No\"' , metrics.precision_score(y_test,y_pred, pos_label = \"NO\"))\n",
    "print('Recall score for \"Yes\"' , metrics.recall_score(y_test,y_pred, pos_label = \"YES\"))\n",
    "print('Recall score for \"No\"' , metrics.recall_score(y_test,y_pred, pos_label = \"NO\"))"
   ]
  },
  {
   "cell_type": "markdown",
   "metadata": {
    "colab_type": "text",
    "id": "icGOPFQ_DuWj"
   },
   "source": [
    "What can you infer from these results? Write your conclusions here:\n",
    "\n",
    "This decision tree model works quite well. The accuracy and balanced accuracy are all about 0.99. The precision score for 'NO' is as high as 1.0 meaning no 'YES' answers are wrongly predicted as 'NO'; and the recall score for 'YES' is as high as 1.0 meaning the model predicted all the 'YES' answers correctly. However, this model might be overfitted. "
   ]
  },
  {
   "cell_type": "markdown",
   "metadata": {
    "colab_type": "text",
    "id": "MHipdpfxDuWk"
   },
   "source": [
    "## Model 2: Gini impurity model - no max_depth\n",
    "\n",
    "Gini impurity, like entropy, is a measure of how well a given feature (and threshold) splits the data into categories.\n",
    "\n",
    "Their equations are similar, but Gini impurity doesn't require logorathmic functions, which can be computationally expensive. "
   ]
  },
  {
   "cell_type": "code",
   "execution_count": 83,
   "metadata": {
    "colab": {},
    "colab_type": "code",
    "id": "FyBljeIpDuWl"
   },
   "outputs": [
    {
     "data": {
      "text/plain": [
       "DecisionTreeClassifier(random_state=1234)"
      ]
     },
     "execution_count": 83,
     "metadata": {},
     "output_type": "execute_result"
    }
   ],
   "source": [
    "# Make a variable called gini_model, and assign it exactly what you assigned entr_model with above, but with the\n",
    "# criterion changed to 'gini'\n",
    "gini_model=tree.DecisionTreeClassifier(criterion='gini', random_state=1234)\n",
    "\n",
    "# Call fit() on the gini_model as you did with the entr_model\n",
    "gini_model.fit(X_train, y_train)\n",
    "\n",
    "# Call predict() on the gini_model as you did with the entr_model \n",
    "y_pred=gini_model.predict(X_test)\n",
    "\n",
    "# Turn y_pred into a series, as before\n",
    "y_pred=pd.Series(y_pred)\n",
    "\n",
    "# Check out gini_model\n",
    "gini_model"
   ]
  },
  {
   "cell_type": "code",
   "execution_count": 84,
   "metadata": {
    "colab": {},
    "colab_type": "code",
    "id": "d20SMUmgDuWo"
   },
   "outputs": [
    {
     "data": {
      "image/png": "[encoded data removed]",
      "text/plain": [
       "<Figure size 432x288 with 1 Axes>"
      ]
     },
     "metadata": {
      "needs_background": "light"
     },
     "output_type": "display_data"
    }
   ],
   "source": [
    "# As before, but make the model name gini_model\n",
    "_=tree.plot_tree(gini_model)\n",
    "plt.show() "
   ]
  },
  {
   "cell_type": "code",
   "execution_count": 85,
   "metadata": {},
   "outputs": [
    {
     "data": {
      "image/svg+xml": [
       "<?xml version=\"1.0\" encoding=\"UTF-8\" standalone=\"no\"?>\r\n",
       "<!DOCTYPE svg PUBLIC \"-//W3C//DTD SVG 1.1//EN\"\r\n",
       " \"http://www.w3.org/Graphics/SVG/1.1/DTD/svg11.dtd\">\r\n",
       "<!-- Generated by graphviz version 2.38.0 (20140413.2041)\r\n",
       " -->\r\n",
       "<!-- Title: Tree Pages: 1 -->\r\n",
       "<svg width=\"742pt\" height=\"685pt\"\r\n",
       " viewBox=\"0.00 0.00 742.00 685.00\" xmlns=\"http://www.w3.org/2000/svg\" xmlns:xlink=\"http://www.w3.org/1999/xlink\">\r\n",
       "<g id=\"graph0\" class=\"graph\" transform=\"scale(1 1) rotate(0) translate(4 681)\">\r\n",
       "<title>Tree</title>\r\n",
       "<polygon fill=\"white\" stroke=\"none\" points=\"-4,4 -4,-681 738,-681 738,4 -4,4\"/>\r\n",
       "<!-- 0 -->\r\n",
       "<g id=\"node1\" class=\"node\"><title>0</title>\r\n",
       "<polygon fill=\"none\" stroke=\"black\" points=\"452,-677 334,-677 334,-609 452,-609 452,-677\"/>\r\n",
       "<text text-anchor=\"middle\" x=\"393\" y=\"-661.8\" font-family=\"Times New Roman,serif\" font-size=\"14.00\">X[3] &lt;= 100.5</text>\r\n",
       "<text text-anchor=\"middle\" x=\"393\" y=\"-646.8\" font-family=\"Times New Roman,serif\" font-size=\"14.00\">gini = 0.464</text>\r\n",
       "<text text-anchor=\"middle\" x=\"393\" y=\"-631.8\" font-family=\"Times New Roman,serif\" font-size=\"14.00\">samples = 355</text>\r\n",
       "<text text-anchor=\"middle\" x=\"393\" y=\"-616.8\" font-family=\"Times New Roman,serif\" font-size=\"14.00\">value = [130, 225]</text>\r\n",
       "</g>\r\n",
       "<!-- 1 -->\r\n",
       "<g id=\"node2\" class=\"node\"><title>1</title>\r\n",
       "<polygon fill=\"none\" stroke=\"black\" points=\"384.5,-573 273.5,-573 273.5,-505 384.5,-505 384.5,-573\"/>\r\n",
       "<text text-anchor=\"middle\" x=\"329\" y=\"-557.8\" font-family=\"Times New Roman,serif\" font-size=\"14.00\">X[5] &lt;= 3.754</text>\r\n",
       "<text text-anchor=\"middle\" x=\"329\" y=\"-542.8\" font-family=\"Times New Roman,serif\" font-size=\"14.00\">gini = 0.411</text>\r\n",
       "<text text-anchor=\"middle\" x=\"329\" y=\"-527.8\" font-family=\"Times New Roman,serif\" font-size=\"14.00\">samples = 152</text>\r\n",
       "<text text-anchor=\"middle\" x=\"329\" y=\"-512.8\" font-family=\"Times New Roman,serif\" font-size=\"14.00\">value = [108, 44]</text>\r\n",
       "</g>\r\n",
       "<!-- 0&#45;&gt;1 -->\r\n",
       "<g id=\"edge1\" class=\"edge\"><title>0&#45;&gt;1</title>\r\n",
       "<path fill=\"none\" stroke=\"black\" d=\"M372.221,-608.884C366.8,-600.243 360.887,-590.819 355.223,-581.793\"/>\r\n",
       "<polygon fill=\"black\" stroke=\"black\" points=\"358.173,-579.91 349.894,-573.299 352.244,-583.63 358.173,-579.91\"/>\r\n",
       "<text text-anchor=\"middle\" x=\"344.315\" y=\"-593.969\" font-family=\"Times New Roman,serif\" font-size=\"14.00\">True</text>\r\n",
       "</g>\r\n",
       "<!-- 16 -->\r\n",
       "<g id=\"node17\" class=\"node\"><title>16</title>\r\n",
       "<polygon fill=\"none\" stroke=\"black\" points=\"513.5,-573 402.5,-573 402.5,-505 513.5,-505 513.5,-573\"/>\r\n",
       "<text text-anchor=\"middle\" x=\"458\" y=\"-557.8\" font-family=\"Times New Roman,serif\" font-size=\"14.00\">X[5] &lt;= 8.047</text>\r\n",
       "<text text-anchor=\"middle\" x=\"458\" y=\"-542.8\" font-family=\"Times New Roman,serif\" font-size=\"14.00\">gini = 0.193</text>\r\n",
       "<text text-anchor=\"middle\" x=\"458\" y=\"-527.8\" font-family=\"Times New Roman,serif\" font-size=\"14.00\">samples = 203</text>\r\n",
       "<text text-anchor=\"middle\" x=\"458\" y=\"-512.8\" font-family=\"Times New Roman,serif\" font-size=\"14.00\">value = [22, 181]</text>\r\n",
       "</g>\r\n",
       "<!-- 0&#45;&gt;16 -->\r\n",
       "<g id=\"edge16\" class=\"edge\"><title>0&#45;&gt;16</title>\r\n",
       "<path fill=\"none\" stroke=\"black\" d=\"M414.104,-608.884C419.61,-600.243 425.615,-590.819 431.367,-581.793\"/>\r\n",
       "<polygon fill=\"black\" stroke=\"black\" points=\"434.357,-583.614 436.78,-573.299 428.454,-579.852 434.357,-583.614\"/>\r\n",
       "<text text-anchor=\"middle\" x=\"442.188\" y=\"-594.007\" font-family=\"Times New Roman,serif\" font-size=\"14.00\">False</text>\r\n",
       "</g>\r\n",
       "<!-- 2 -->\r\n",
       "<g id=\"node3\" class=\"node\"><title>2</title>\r\n",
       "<polygon fill=\"none\" stroke=\"black\" points=\"265,-469 161,-469 161,-401 265,-401 265,-469\"/>\r\n",
       "<text text-anchor=\"middle\" x=\"213\" y=\"-453.8\" font-family=\"Times New Roman,serif\" font-size=\"14.00\">X[3] &lt;= 24.5</text>\r\n",
       "<text text-anchor=\"middle\" x=\"213\" y=\"-438.8\" font-family=\"Times New Roman,serif\" font-size=\"14.00\">gini = 0.324</text>\r\n",
       "<text text-anchor=\"middle\" x=\"213\" y=\"-423.8\" font-family=\"Times New Roman,serif\" font-size=\"14.00\">samples = 54</text>\r\n",
       "<text text-anchor=\"middle\" x=\"213\" y=\"-408.8\" font-family=\"Times New Roman,serif\" font-size=\"14.00\">value = [11, 43]</text>\r\n",
       "</g>\r\n",
       "<!-- 1&#45;&gt;2 -->\r\n",
       "<g id=\"edge2\" class=\"edge\"><title>1&#45;&gt;2</title>\r\n",
       "<path fill=\"none\" stroke=\"black\" d=\"M291.338,-504.884C280.904,-495.709 269.465,-485.65 258.63,-476.123\"/>\r\n",
       "<polygon fill=\"black\" stroke=\"black\" points=\"260.691,-473.274 250.87,-469.299 256.068,-478.531 260.691,-473.274\"/>\r\n",
       "</g>\r\n",
       "<!-- 11 -->\r\n",
       "<g id=\"node12\" class=\"node\"><title>11</title>\r\n",
       "<polygon fill=\"none\" stroke=\"black\" points=\"381,-469 283,-469 283,-401 381,-401 381,-469\"/>\r\n",
       "<text text-anchor=\"middle\" x=\"332\" y=\"-453.8\" font-family=\"Times New Roman,serif\" font-size=\"14.00\">X[5] &lt;= 4.0</text>\r\n",
       "<text text-anchor=\"middle\" x=\"332\" y=\"-438.8\" font-family=\"Times New Roman,serif\" font-size=\"14.00\">gini = 0.02</text>\r\n",
       "<text text-anchor=\"middle\" x=\"332\" y=\"-423.8\" font-family=\"Times New Roman,serif\" font-size=\"14.00\">samples = 98</text>\r\n",
       "<text text-anchor=\"middle\" x=\"332\" y=\"-408.8\" font-family=\"Times New Roman,serif\" font-size=\"14.00\">value = [97, 1]</text>\r\n",
       "</g>\r\n",
       "<!-- 1&#45;&gt;11 -->\r\n",
       "<g id=\"edge11\" class=\"edge\"><title>1&#45;&gt;11</title>\r\n",
       "<path fill=\"none\" stroke=\"black\" d=\"M329.974,-504.884C330.212,-496.778 330.471,-487.982 330.721,-479.472\"/>\r\n",
       "<polygon fill=\"black\" stroke=\"black\" points=\"334.225,-479.398 331.021,-469.299 327.228,-479.192 334.225,-479.398\"/>\r\n",
       "</g>\r\n",
       "<!-- 3 -->\r\n",
       "<g id=\"node4\" class=\"node\"><title>3</title>\r\n",
       "<polygon fill=\"none\" stroke=\"black\" points=\"148.5,-357.5 57.5,-357.5 57.5,-304.5 148.5,-304.5 148.5,-357.5\"/>\r\n",
       "<text text-anchor=\"middle\" x=\"103\" y=\"-342.3\" font-family=\"Times New Roman,serif\" font-size=\"14.00\">gini = 0.0</text>\r\n",
       "<text text-anchor=\"middle\" x=\"103\" y=\"-327.3\" font-family=\"Times New Roman,serif\" font-size=\"14.00\">samples = 8</text>\r\n",
       "<text text-anchor=\"middle\" x=\"103\" y=\"-312.3\" font-family=\"Times New Roman,serif\" font-size=\"14.00\">value = [8, 0]</text>\r\n",
       "</g>\r\n",
       "<!-- 2&#45;&gt;3 -->\r\n",
       "<g id=\"edge3\" class=\"edge\"><title>2&#45;&gt;3</title>\r\n",
       "<path fill=\"none\" stroke=\"black\" d=\"M177.286,-400.884C164.714,-389.226 150.603,-376.141 138.083,-364.532\"/>\r\n",
       "<polygon fill=\"black\" stroke=\"black\" points=\"140.234,-361.753 130.521,-357.52 135.474,-366.886 140.234,-361.753\"/>\r\n",
       "</g>\r\n",
       "<!-- 4 -->\r\n",
       "<g id=\"node5\" class=\"node\"><title>4</title>\r\n",
       "<polygon fill=\"none\" stroke=\"black\" points=\"265,-365 167,-365 167,-297 265,-297 265,-365\"/>\r\n",
       "<text text-anchor=\"middle\" x=\"216\" y=\"-349.8\" font-family=\"Times New Roman,serif\" font-size=\"14.00\">X[0] &lt;= 57.5</text>\r\n",
       "<text text-anchor=\"middle\" x=\"216\" y=\"-334.8\" font-family=\"Times New Roman,serif\" font-size=\"14.00\">gini = 0.122</text>\r\n",
       "<text text-anchor=\"middle\" x=\"216\" y=\"-319.8\" font-family=\"Times New Roman,serif\" font-size=\"14.00\">samples = 46</text>\r\n",
       "<text text-anchor=\"middle\" x=\"216\" y=\"-304.8\" font-family=\"Times New Roman,serif\" font-size=\"14.00\">value = [3, 43]</text>\r\n",
       "</g>\r\n",
       "<!-- 2&#45;&gt;4 -->\r\n",
       "<g id=\"edge4\" class=\"edge\"><title>2&#45;&gt;4</title>\r\n",
       "<path fill=\"none\" stroke=\"black\" d=\"M213.974,-400.884C214.212,-392.778 214.471,-383.982 214.721,-375.472\"/>\r\n",
       "<polygon fill=\"black\" stroke=\"black\" points=\"218.225,-375.398 215.021,-365.299 211.228,-375.192 218.225,-375.398\"/>\r\n",
       "</g>\r\n",
       "<!-- 5 -->\r\n",
       "<g id=\"node6\" class=\"node\"><title>5</title>\r\n",
       "<polygon fill=\"none\" stroke=\"black\" points=\"154,-261 56,-261 56,-193 154,-193 154,-261\"/>\r\n",
       "<text text-anchor=\"middle\" x=\"105\" y=\"-245.8\" font-family=\"Times New Roman,serif\" font-size=\"14.00\">X[5] &lt;= 3.298</text>\r\n",
       "<text text-anchor=\"middle\" x=\"105\" y=\"-230.8\" font-family=\"Times New Roman,serif\" font-size=\"14.00\">gini = 0.044</text>\r\n",
       "<text text-anchor=\"middle\" x=\"105\" y=\"-215.8\" font-family=\"Times New Roman,serif\" font-size=\"14.00\">samples = 44</text>\r\n",
       "<text text-anchor=\"middle\" x=\"105\" y=\"-200.8\" font-family=\"Times New Roman,serif\" font-size=\"14.00\">value = [1, 43]</text>\r\n",
       "</g>\r\n",
       "<!-- 4&#45;&gt;5 -->\r\n",
       "<g id=\"edge5\" class=\"edge\"><title>4&#45;&gt;5</title>\r\n",
       "<path fill=\"none\" stroke=\"black\" d=\"M179.961,-296.884C169.977,-287.709 159.031,-277.65 148.663,-268.123\"/>\r\n",
       "<polygon fill=\"black\" stroke=\"black\" points=\"150.969,-265.488 141.238,-261.299 146.233,-270.643 150.969,-265.488\"/>\r\n",
       "</g>\r\n",
       "<!-- 10 -->\r\n",
       "<g id=\"node11\" class=\"node\"><title>10</title>\r\n",
       "<polygon fill=\"none\" stroke=\"black\" points=\"263.5,-253.5 172.5,-253.5 172.5,-200.5 263.5,-200.5 263.5,-253.5\"/>\r\n",
       "<text text-anchor=\"middle\" x=\"218\" y=\"-238.3\" font-family=\"Times New Roman,serif\" font-size=\"14.00\">gini = 0.0</text>\r\n",
       "<text text-anchor=\"middle\" x=\"218\" y=\"-223.3\" font-family=\"Times New Roman,serif\" font-size=\"14.00\">samples = 2</text>\r\n",
       "<text text-anchor=\"middle\" x=\"218\" y=\"-208.3\" font-family=\"Times New Roman,serif\" font-size=\"14.00\">value = [2, 0]</text>\r\n",
       "</g>\r\n",
       "<!-- 4&#45;&gt;10 -->\r\n",
       "<g id=\"edge10\" class=\"edge\"><title>4&#45;&gt;10</title>\r\n",
       "<path fill=\"none\" stroke=\"black\" d=\"M216.649,-296.884C216.859,-286.216 217.091,-274.352 217.304,-263.519\"/>\r\n",
       "<polygon fill=\"black\" stroke=\"black\" points=\"220.803,-263.587 217.5,-253.52 213.804,-263.449 220.803,-263.587\"/>\r\n",
       "</g>\r\n",
       "<!-- 6 -->\r\n",
       "<g id=\"node7\" class=\"node\"><title>6</title>\r\n",
       "<polygon fill=\"none\" stroke=\"black\" points=\"98,-149.5 0,-149.5 0,-96.5 98,-96.5 98,-149.5\"/>\r\n",
       "<text text-anchor=\"middle\" x=\"49\" y=\"-134.3\" font-family=\"Times New Roman,serif\" font-size=\"14.00\">gini = 0.0</text>\r\n",
       "<text text-anchor=\"middle\" x=\"49\" y=\"-119.3\" font-family=\"Times New Roman,serif\" font-size=\"14.00\">samples = 41</text>\r\n",
       "<text text-anchor=\"middle\" x=\"49\" y=\"-104.3\" font-family=\"Times New Roman,serif\" font-size=\"14.00\">value = [0, 41]</text>\r\n",
       "</g>\r\n",
       "<!-- 5&#45;&gt;6 -->\r\n",
       "<g id=\"edge6\" class=\"edge\"><title>5&#45;&gt;6</title>\r\n",
       "<path fill=\"none\" stroke=\"black\" d=\"M86.8184,-192.884C80.7804,-181.886 74.0448,-169.617 67.9503,-158.517\"/>\r\n",
       "<polygon fill=\"black\" stroke=\"black\" points=\"70.8916,-156.601 63.0109,-149.52 64.7556,-159.97 70.8916,-156.601\"/>\r\n",
       "</g>\r\n",
       "<!-- 7 -->\r\n",
       "<g id=\"node8\" class=\"node\"><title>7</title>\r\n",
       "<polygon fill=\"none\" stroke=\"black\" points=\"207.5,-157 116.5,-157 116.5,-89 207.5,-89 207.5,-157\"/>\r\n",
       "<text text-anchor=\"middle\" x=\"162\" y=\"-141.8\" font-family=\"Times New Roman,serif\" font-size=\"14.00\">X[3] &lt;= 59.5</text>\r\n",
       "<text text-anchor=\"middle\" x=\"162\" y=\"-126.8\" font-family=\"Times New Roman,serif\" font-size=\"14.00\">gini = 0.444</text>\r\n",
       "<text text-anchor=\"middle\" x=\"162\" y=\"-111.8\" font-family=\"Times New Roman,serif\" font-size=\"14.00\">samples = 3</text>\r\n",
       "<text text-anchor=\"middle\" x=\"162\" y=\"-96.8\" font-family=\"Times New Roman,serif\" font-size=\"14.00\">value = [1, 2]</text>\r\n",
       "</g>\r\n",
       "<!-- 5&#45;&gt;7 -->\r\n",
       "<g id=\"edge7\" class=\"edge\"><title>5&#45;&gt;7</title>\r\n",
       "<path fill=\"none\" stroke=\"black\" d=\"M123.506,-192.884C128.285,-184.332 133.493,-175.013 138.489,-166.072\"/>\r\n",
       "<polygon fill=\"black\" stroke=\"black\" points=\"141.569,-167.736 143.392,-157.299 135.458,-164.321 141.569,-167.736\"/>\r\n",
       "</g>\r\n",
       "<!-- 8 -->\r\n",
       "<g id=\"node9\" class=\"node\"><title>8</title>\r\n",
       "<polygon fill=\"none\" stroke=\"black\" points=\"152.5,-53 61.5,-53 61.5,-0 152.5,-0 152.5,-53\"/>\r\n",
       "<text text-anchor=\"middle\" x=\"107\" y=\"-37.8\" font-family=\"Times New Roman,serif\" font-size=\"14.00\">gini = 0.0</text>\r\n",
       "<text text-anchor=\"middle\" x=\"107\" y=\"-22.8\" font-family=\"Times New Roman,serif\" font-size=\"14.00\">samples = 1</text>\r\n",
       "<text text-anchor=\"middle\" x=\"107\" y=\"-7.8\" font-family=\"Times New Roman,serif\" font-size=\"14.00\">value = [1, 0]</text>\r\n",
       "</g>\r\n",
       "<!-- 7&#45;&gt;8 -->\r\n",
       "<g id=\"edge8\" class=\"edge\"><title>7&#45;&gt;8</title>\r\n",
       "<path fill=\"none\" stroke=\"black\" d=\"M142.764,-88.9485C137.706,-80.2579 132.236,-70.8608 127.133,-62.0917\"/>\r\n",
       "<polygon fill=\"black\" stroke=\"black\" points=\"130.034,-60.1189 121.979,-53.2367 123.984,-63.6401 130.034,-60.1189\"/>\r\n",
       "</g>\r\n",
       "<!-- 9 -->\r\n",
       "<g id=\"node10\" class=\"node\"><title>9</title>\r\n",
       "<polygon fill=\"none\" stroke=\"black\" points=\"261.5,-53 170.5,-53 170.5,-0 261.5,-0 261.5,-53\"/>\r\n",
       "<text text-anchor=\"middle\" x=\"216\" y=\"-37.8\" font-family=\"Times New Roman,serif\" font-size=\"14.00\">gini = 0.0</text>\r\n",
       "<text text-anchor=\"middle\" x=\"216\" y=\"-22.8\" font-family=\"Times New Roman,serif\" font-size=\"14.00\">samples = 2</text>\r\n",
       "<text text-anchor=\"middle\" x=\"216\" y=\"-7.8\" font-family=\"Times New Roman,serif\" font-size=\"14.00\">value = [0, 2]</text>\r\n",
       "</g>\r\n",
       "<!-- 7&#45;&gt;9 -->\r\n",
       "<g id=\"edge9\" class=\"edge\"><title>7&#45;&gt;9</title>\r\n",
       "<path fill=\"none\" stroke=\"black\" d=\"M180.887,-88.9485C185.853,-80.2579 191.222,-70.8608 196.233,-62.0917\"/>\r\n",
       "<polygon fill=\"black\" stroke=\"black\" points=\"199.371,-63.6557 201.293,-53.2367 193.293,-60.1826 199.371,-63.6557\"/>\r\n",
       "</g>\r\n",
       "<!-- 12 -->\r\n",
       "<g id=\"node13\" class=\"node\"><title>12</title>\r\n",
       "<polygon fill=\"none\" stroke=\"black\" points=\"376.5,-365 285.5,-365 285.5,-297 376.5,-297 376.5,-365\"/>\r\n",
       "<text text-anchor=\"middle\" x=\"331\" y=\"-349.8\" font-family=\"Times New Roman,serif\" font-size=\"14.00\">X[1] &lt;= 2.0</text>\r\n",
       "<text text-anchor=\"middle\" x=\"331\" y=\"-334.8\" font-family=\"Times New Roman,serif\" font-size=\"14.00\">gini = 0.444</text>\r\n",
       "<text text-anchor=\"middle\" x=\"331\" y=\"-319.8\" font-family=\"Times New Roman,serif\" font-size=\"14.00\">samples = 3</text>\r\n",
       "<text text-anchor=\"middle\" x=\"331\" y=\"-304.8\" font-family=\"Times New Roman,serif\" font-size=\"14.00\">value = [2, 1]</text>\r\n",
       "</g>\r\n",
       "<!-- 11&#45;&gt;12 -->\r\n",
       "<g id=\"edge12\" class=\"edge\"><title>11&#45;&gt;12</title>\r\n",
       "<path fill=\"none\" stroke=\"black\" d=\"M331.675,-400.884C331.596,-392.778 331.51,-383.982 331.426,-375.472\"/>\r\n",
       "<polygon fill=\"black\" stroke=\"black\" points=\"334.924,-375.265 331.326,-365.299 327.925,-375.333 334.924,-375.265\"/>\r\n",
       "</g>\r\n",
       "<!-- 15 -->\r\n",
       "<g id=\"node16\" class=\"node\"><title>15</title>\r\n",
       "<polygon fill=\"none\" stroke=\"black\" points=\"493,-357.5 395,-357.5 395,-304.5 493,-304.5 493,-357.5\"/>\r\n",
       "<text text-anchor=\"middle\" x=\"444\" y=\"-342.3\" font-family=\"Times New Roman,serif\" font-size=\"14.00\">gini = 0.0</text>\r\n",
       "<text text-anchor=\"middle\" x=\"444\" y=\"-327.3\" font-family=\"Times New Roman,serif\" font-size=\"14.00\">samples = 95</text>\r\n",
       "<text text-anchor=\"middle\" x=\"444\" y=\"-312.3\" font-family=\"Times New Roman,serif\" font-size=\"14.00\">value = [95, 0]</text>\r\n",
       "</g>\r\n",
       "<!-- 11&#45;&gt;15 -->\r\n",
       "<g id=\"edge15\" class=\"edge\"><title>11&#45;&gt;15</title>\r\n",
       "<path fill=\"none\" stroke=\"black\" d=\"M368.363,-400.884C381.164,-389.226 395.532,-376.141 408.279,-364.532\"/>\r\n",
       "<polygon fill=\"black\" stroke=\"black\" points=\"410.941,-366.841 415.978,-357.52 406.228,-361.666 410.941,-366.841\"/>\r\n",
       "</g>\r\n",
       "<!-- 13 -->\r\n",
       "<g id=\"node14\" class=\"node\"><title>13</title>\r\n",
       "<polygon fill=\"none\" stroke=\"black\" points=\"375.5,-253.5 284.5,-253.5 284.5,-200.5 375.5,-200.5 375.5,-253.5\"/>\r\n",
       "<text text-anchor=\"middle\" x=\"330\" y=\"-238.3\" font-family=\"Times New Roman,serif\" font-size=\"14.00\">gini = 0.0</text>\r\n",
       "<text text-anchor=\"middle\" x=\"330\" y=\"-223.3\" font-family=\"Times New Roman,serif\" font-size=\"14.00\">samples = 2</text>\r\n",
       "<text text-anchor=\"middle\" x=\"330\" y=\"-208.3\" font-family=\"Times New Roman,serif\" font-size=\"14.00\">value = [2, 0]</text>\r\n",
       "</g>\r\n",
       "<!-- 12&#45;&gt;13 -->\r\n",
       "<g id=\"edge13\" class=\"edge\"><title>12&#45;&gt;13</title>\r\n",
       "<path fill=\"none\" stroke=\"black\" d=\"M330.675,-296.884C330.572,-286.326 330.457,-274.597 330.352,-263.854\"/>\r\n",
       "<polygon fill=\"black\" stroke=\"black\" points=\"333.848,-263.485 330.25,-253.52 326.848,-263.554 333.848,-263.485\"/>\r\n",
       "</g>\r\n",
       "<!-- 14 -->\r\n",
       "<g id=\"node15\" class=\"node\"><title>14</title>\r\n",
       "<polygon fill=\"none\" stroke=\"black\" points=\"484.5,-253.5 393.5,-253.5 393.5,-200.5 484.5,-200.5 484.5,-253.5\"/>\r\n",
       "<text text-anchor=\"middle\" x=\"439\" y=\"-238.3\" font-family=\"Times New Roman,serif\" font-size=\"14.00\">gini = 0.0</text>\r\n",
       "<text text-anchor=\"middle\" x=\"439\" y=\"-223.3\" font-family=\"Times New Roman,serif\" font-size=\"14.00\">samples = 1</text>\r\n",
       "<text text-anchor=\"middle\" x=\"439\" y=\"-208.3\" font-family=\"Times New Roman,serif\" font-size=\"14.00\">value = [0, 1]</text>\r\n",
       "</g>\r\n",
       "<!-- 12&#45;&gt;14 -->\r\n",
       "<g id=\"edge14\" class=\"edge\"><title>12&#45;&gt;14</title>\r\n",
       "<path fill=\"none\" stroke=\"black\" d=\"M366.065,-296.884C378.408,-285.226 392.263,-272.141 404.555,-260.532\"/>\r\n",
       "<polygon fill=\"black\" stroke=\"black\" points=\"407.112,-262.931 411.979,-253.52 402.306,-257.842 407.112,-262.931\"/>\r\n",
       "</g>\r\n",
       "<!-- 17 -->\r\n",
       "<g id=\"node18\" class=\"node\"><title>17</title>\r\n",
       "<polygon fill=\"none\" stroke=\"black\" points=\"508,-461.5 404,-461.5 404,-408.5 508,-408.5 508,-461.5\"/>\r\n",
       "<text text-anchor=\"middle\" x=\"456\" y=\"-446.3\" font-family=\"Times New Roman,serif\" font-size=\"14.00\">gini = 0.0</text>\r\n",
       "<text text-anchor=\"middle\" x=\"456\" y=\"-431.3\" font-family=\"Times New Roman,serif\" font-size=\"14.00\">samples = 158</text>\r\n",
       "<text text-anchor=\"middle\" x=\"456\" y=\"-416.3\" font-family=\"Times New Roman,serif\" font-size=\"14.00\">value = [0, 158]</text>\r\n",
       "</g>\r\n",
       "<!-- 16&#45;&gt;17 -->\r\n",
       "<g id=\"edge17\" class=\"edge\"><title>16&#45;&gt;17</title>\r\n",
       "<path fill=\"none\" stroke=\"black\" d=\"M457.351,-504.884C457.141,-494.216 456.909,-482.352 456.696,-471.519\"/>\r\n",
       "<polygon fill=\"black\" stroke=\"black\" points=\"460.196,-471.449 456.5,-461.52 453.197,-471.587 460.196,-471.449\"/>\r\n",
       "</g>\r\n",
       "<!-- 18 -->\r\n",
       "<g id=\"node19\" class=\"node\"><title>18</title>\r\n",
       "<polygon fill=\"none\" stroke=\"black\" points=\"630,-469 526,-469 526,-401 630,-401 630,-469\"/>\r\n",
       "<text text-anchor=\"middle\" x=\"578\" y=\"-453.8\" font-family=\"Times New Roman,serif\" font-size=\"14.00\">X[3] &lt;= 140.5</text>\r\n",
       "<text text-anchor=\"middle\" x=\"578\" y=\"-438.8\" font-family=\"Times New Roman,serif\" font-size=\"14.00\">gini = 0.5</text>\r\n",
       "<text text-anchor=\"middle\" x=\"578\" y=\"-423.8\" font-family=\"Times New Roman,serif\" font-size=\"14.00\">samples = 45</text>\r\n",
       "<text text-anchor=\"middle\" x=\"578\" y=\"-408.8\" font-family=\"Times New Roman,serif\" font-size=\"14.00\">value = [22, 23]</text>\r\n",
       "</g>\r\n",
       "<!-- 16&#45;&gt;18 -->\r\n",
       "<g id=\"edge18\" class=\"edge\"><title>16&#45;&gt;18</title>\r\n",
       "<path fill=\"none\" stroke=\"black\" d=\"M496.961,-504.884C507.859,-495.62 519.818,-485.455 531.123,-475.845\"/>\r\n",
       "<polygon fill=\"black\" stroke=\"black\" points=\"533.472,-478.443 538.824,-469.299 528.938,-473.109 533.472,-478.443\"/>\r\n",
       "</g>\r\n",
       "<!-- 19 -->\r\n",
       "<g id=\"node20\" class=\"node\"><title>19</title>\r\n",
       "<polygon fill=\"none\" stroke=\"black\" points=\"618,-357.5 520,-357.5 520,-304.5 618,-304.5 618,-357.5\"/>\r\n",
       "<text text-anchor=\"middle\" x=\"569\" y=\"-342.3\" font-family=\"Times New Roman,serif\" font-size=\"14.00\">gini = 0.0</text>\r\n",
       "<text text-anchor=\"middle\" x=\"569\" y=\"-327.3\" font-family=\"Times New Roman,serif\" font-size=\"14.00\">samples = 22</text>\r\n",
       "<text text-anchor=\"middle\" x=\"569\" y=\"-312.3\" font-family=\"Times New Roman,serif\" font-size=\"14.00\">value = [22, 0]</text>\r\n",
       "</g>\r\n",
       "<!-- 18&#45;&gt;19 -->\r\n",
       "<g id=\"edge19\" class=\"edge\"><title>18&#45;&gt;19</title>\r\n",
       "<path fill=\"none\" stroke=\"black\" d=\"M575.078,-400.884C574.137,-390.216 573.09,-378.352 572.134,-367.519\"/>\r\n",
       "<polygon fill=\"black\" stroke=\"black\" points=\"575.617,-367.174 571.252,-357.52 568.644,-367.789 575.617,-367.174\"/>\r\n",
       "</g>\r\n",
       "<!-- 20 -->\r\n",
       "<g id=\"node21\" class=\"node\"><title>20</title>\r\n",
       "<polygon fill=\"none\" stroke=\"black\" points=\"734,-357.5 636,-357.5 636,-304.5 734,-304.5 734,-357.5\"/>\r\n",
       "<text text-anchor=\"middle\" x=\"685\" y=\"-342.3\" font-family=\"Times New Roman,serif\" font-size=\"14.00\">gini = 0.0</text>\r\n",
       "<text text-anchor=\"middle\" x=\"685\" y=\"-327.3\" font-family=\"Times New Roman,serif\" font-size=\"14.00\">samples = 23</text>\r\n",
       "<text text-anchor=\"middle\" x=\"685\" y=\"-312.3\" font-family=\"Times New Roman,serif\" font-size=\"14.00\">value = [0, 23]</text>\r\n",
       "</g>\r\n",
       "<!-- 18&#45;&gt;20 -->\r\n",
       "<g id=\"edge20\" class=\"edge\"><title>18&#45;&gt;20</title>\r\n",
       "<path fill=\"none\" stroke=\"black\" d=\"M612.74,-400.884C624.969,-389.226 638.696,-376.141 650.874,-364.532\"/>\r\n",
       "<polygon fill=\"black\" stroke=\"black\" points=\"653.406,-366.953 658.229,-357.52 648.576,-361.887 653.406,-366.953\"/>\r\n",
       "</g>\r\n",
       "</g>\r\n",
       "</svg>\r\n"
      ],
      "text/plain": [
       "<graphviz.files.Source at 0x28aada791d0>"
      ]
     },
     "execution_count": 85,
     "metadata": {},
     "output_type": "execute_result"
    }
   ],
   "source": [
    "graph=graphviz.Source(tree.export_graphviz(gini_model, out_file=None))\n",
    "graph"
   ]
  },
  {
   "cell_type": "code",
   "execution_count": 86,
   "metadata": {},
   "outputs": [
    {
     "data": {
      "image/svg+xml": [
       "<?xml version=\"1.0\" encoding=\"UTF-8\" standalone=\"no\"?>\r\n",
       "<!DOCTYPE svg PUBLIC \"-//W3C//DTD SVG 1.1//EN\"\r\n",
       " \"http://www.w3.org/Graphics/SVG/1.1/DTD/svg11.dtd\">\r\n",
       "<!-- Generated by graphviz version 2.38.0 (20140413.2041)\r\n",
       " -->\r\n",
       "<!-- Title: Tree Pages: 1 -->\r\n",
       "<svg width=\"916pt\" height=\"790pt\"\r\n",
       " viewBox=\"0.00 0.00 916.00 790.00\" xmlns=\"http://www.w3.org/2000/svg\" xmlns:xlink=\"http://www.w3.org/1999/xlink\">\r\n",
       "<g id=\"graph0\" class=\"graph\" transform=\"scale(1 1) rotate(0) translate(4 786)\">\r\n",
       "<title>Tree</title>\r\n",
       "<polygon fill=\"white\" stroke=\"none\" points=\"-4,4 -4,-786 912,-786 912,4 -4,4\"/>\r\n",
       "<!-- 0 -->\r\n",
       "<g id=\"node1\" class=\"node\"><title>0</title>\r\n",
       "<path fill=\"#abd6f4\" stroke=\"black\" d=\"M575,-782C575,-782 418,-782 418,-782 412,-782 406,-776 406,-770 406,-770 406,-711 406,-711 406,-705 412,-699 418,-699 418,-699 575,-699 575,-699 581,-699 587,-705 587,-711 587,-711 587,-770 587,-770 587,-776 581,-782 575,-782\"/>\r\n",
       "<text text-anchor=\"start\" x=\"414\" y=\"-766.8\" font-family=\"Helvetica,sans-Serif\" font-size=\"14.00\">spent_last_month ≤ 100.5</text>\r\n",
       "<text text-anchor=\"start\" x=\"459\" y=\"-751.8\" font-family=\"Helvetica,sans-Serif\" font-size=\"14.00\">gini = 0.464</text>\r\n",
       "<text text-anchor=\"start\" x=\"449\" y=\"-736.8\" font-family=\"Helvetica,sans-Serif\" font-size=\"14.00\">samples = 355</text>\r\n",
       "<text text-anchor=\"start\" x=\"439.5\" y=\"-721.8\" font-family=\"Helvetica,sans-Serif\" font-size=\"14.00\">value = [130, 225]</text>\r\n",
       "<text text-anchor=\"start\" x=\"457.5\" y=\"-706.8\" font-family=\"Helvetica,sans-Serif\" font-size=\"14.00\">class = YES</text>\r\n",
       "</g>\r\n",
       "<!-- 1 -->\r\n",
       "<g id=\"node2\" class=\"node\"><title>1</title>\r\n",
       "<path fill=\"#f0b48a\" stroke=\"black\" d=\"M475.5,-663C475.5,-663 375.5,-663 375.5,-663 369.5,-663 363.5,-657 363.5,-651 363.5,-651 363.5,-592 363.5,-592 363.5,-586 369.5,-580 375.5,-580 375.5,-580 475.5,-580 475.5,-580 481.5,-580 487.5,-586 487.5,-592 487.5,-592 487.5,-651 487.5,-651 487.5,-657 481.5,-663 475.5,-663\"/>\r\n",
       "<text text-anchor=\"start\" x=\"371.5\" y=\"-647.8\" font-family=\"Helvetica,sans-Serif\" font-size=\"14.00\">Distance ≤ 3.754</text>\r\n",
       "<text text-anchor=\"start\" x=\"388\" y=\"-632.8\" font-family=\"Helvetica,sans-Serif\" font-size=\"14.00\">gini = 0.411</text>\r\n",
       "<text text-anchor=\"start\" x=\"378\" y=\"-617.8\" font-family=\"Helvetica,sans-Serif\" font-size=\"14.00\">samples = 152</text>\r\n",
       "<text text-anchor=\"start\" x=\"372.5\" y=\"-602.8\" font-family=\"Helvetica,sans-Serif\" font-size=\"14.00\">value = [108, 44]</text>\r\n",
       "<text text-anchor=\"start\" x=\"390.5\" y=\"-587.8\" font-family=\"Helvetica,sans-Serif\" font-size=\"14.00\">class = NO</text>\r\n",
       "</g>\r\n",
       "<!-- 0&#45;&gt;1 -->\r\n",
       "<g id=\"edge1\" class=\"edge\"><title>0&#45;&gt;1</title>\r\n",
       "<path fill=\"none\" stroke=\"black\" d=\"M471.867,-698.907C466.525,-690.105 460.82,-680.703 455.303,-671.612\"/>\r\n",
       "<polygon fill=\"black\" stroke=\"black\" points=\"458.27,-669.754 450.09,-663.021 452.285,-673.386 458.27,-669.754\"/>\r\n",
       "<text text-anchor=\"middle\" x=\"444.148\" y=\"-683.604\" font-family=\"Helvetica,sans-Serif\" font-size=\"14.00\">True</text>\r\n",
       "</g>\r\n",
       "<!-- 16 -->\r\n",
       "<g id=\"node17\" class=\"node\"><title>16</title>\r\n",
       "<path fill=\"#51a9e8\" stroke=\"black\" d=\"M617.5,-663C617.5,-663 517.5,-663 517.5,-663 511.5,-663 505.5,-657 505.5,-651 505.5,-651 505.5,-592 505.5,-592 505.5,-586 511.5,-580 517.5,-580 517.5,-580 617.5,-580 617.5,-580 623.5,-580 629.5,-586 629.5,-592 629.5,-592 629.5,-651 629.5,-651 629.5,-657 623.5,-663 617.5,-663\"/>\r\n",
       "<text text-anchor=\"start\" x=\"513.5\" y=\"-647.8\" font-family=\"Helvetica,sans-Serif\" font-size=\"14.00\">Distance ≤ 8.047</text>\r\n",
       "<text text-anchor=\"start\" x=\"530\" y=\"-632.8\" font-family=\"Helvetica,sans-Serif\" font-size=\"14.00\">gini = 0.193</text>\r\n",
       "<text text-anchor=\"start\" x=\"520\" y=\"-617.8\" font-family=\"Helvetica,sans-Serif\" font-size=\"14.00\">samples = 203</text>\r\n",
       "<text text-anchor=\"start\" x=\"514.5\" y=\"-602.8\" font-family=\"Helvetica,sans-Serif\" font-size=\"14.00\">value = [22, 181]</text>\r\n",
       "<text text-anchor=\"start\" x=\"528.5\" y=\"-587.8\" font-family=\"Helvetica,sans-Serif\" font-size=\"14.00\">class = YES</text>\r\n",
       "</g>\r\n",
       "<!-- 0&#45;&gt;16 -->\r\n",
       "<g id=\"edge16\" class=\"edge\"><title>0&#45;&gt;16</title>\r\n",
       "<path fill=\"none\" stroke=\"black\" d=\"M521.133,-698.907C526.475,-690.105 532.18,-680.703 537.697,-671.612\"/>\r\n",
       "<polygon fill=\"black\" stroke=\"black\" points=\"540.715,-673.386 542.91,-663.021 534.73,-669.754 540.715,-673.386\"/>\r\n",
       "<text text-anchor=\"middle\" x=\"548.852\" y=\"-683.604\" font-family=\"Helvetica,sans-Serif\" font-size=\"14.00\">False</text>\r\n",
       "</g>\r\n",
       "<!-- 2 -->\r\n",
       "<g id=\"node3\" class=\"node\"><title>2</title>\r\n",
       "<path fill=\"#6cb6ec\" stroke=\"black\" d=\"M316,-544C316,-544 167,-544 167,-544 161,-544 155,-538 155,-532 155,-532 155,-473 155,-473 155,-467 161,-461 167,-461 167,-461 316,-461 316,-461 322,-461 328,-467 328,-473 328,-473 328,-532 328,-532 328,-538 322,-544 316,-544\"/>\r\n",
       "<text text-anchor=\"start\" x=\"163\" y=\"-528.8\" font-family=\"Helvetica,sans-Serif\" font-size=\"14.00\">spent_last_month ≤ 24.5</text>\r\n",
       "<text text-anchor=\"start\" x=\"204\" y=\"-513.8\" font-family=\"Helvetica,sans-Serif\" font-size=\"14.00\">gini = 0.324</text>\r\n",
       "<text text-anchor=\"start\" x=\"198\" y=\"-498.8\" font-family=\"Helvetica,sans-Serif\" font-size=\"14.00\">samples = 54</text>\r\n",
       "<text text-anchor=\"start\" x=\"193\" y=\"-483.8\" font-family=\"Helvetica,sans-Serif\" font-size=\"14.00\">value = [11, 43]</text>\r\n",
       "<text text-anchor=\"start\" x=\"202.5\" y=\"-468.8\" font-family=\"Helvetica,sans-Serif\" font-size=\"14.00\">class = YES</text>\r\n",
       "</g>\r\n",
       "<!-- 1&#45;&gt;2 -->\r\n",
       "<g id=\"edge2\" class=\"edge\"><title>1&#45;&gt;2</title>\r\n",
       "<path fill=\"none\" stroke=\"black\" d=\"M363.463,-581.052C347.559,-570.94 330.316,-559.975 313.939,-549.562\"/>\r\n",
       "<polygon fill=\"black\" stroke=\"black\" points=\"315.782,-546.586 305.465,-544.174 312.026,-552.493 315.782,-546.586\"/>\r\n",
       "</g>\r\n",
       "<!-- 11 -->\r\n",
       "<g id=\"node12\" class=\"node\"><title>11</title>\r\n",
       "<path fill=\"#e5823b\" stroke=\"black\" d=\"M467,-544C467,-544 384,-544 384,-544 378,-544 372,-538 372,-532 372,-532 372,-473 372,-473 372,-467 378,-461 384,-461 384,-461 467,-461 467,-461 473,-461 479,-467 479,-473 479,-473 479,-532 479,-532 479,-538 473,-544 467,-544\"/>\r\n",
       "<text text-anchor=\"start\" x=\"380\" y=\"-528.8\" font-family=\"Helvetica,sans-Serif\" font-size=\"14.00\">Distance ≤ 4.0</text>\r\n",
       "<text text-anchor=\"start\" x=\"392\" y=\"-513.8\" font-family=\"Helvetica,sans-Serif\" font-size=\"14.00\">gini = 0.02</text>\r\n",
       "<text text-anchor=\"start\" x=\"382\" y=\"-498.8\" font-family=\"Helvetica,sans-Serif\" font-size=\"14.00\">samples = 98</text>\r\n",
       "<text text-anchor=\"start\" x=\"381\" y=\"-483.8\" font-family=\"Helvetica,sans-Serif\" font-size=\"14.00\">value = [97, 1]</text>\r\n",
       "<text text-anchor=\"start\" x=\"390.5\" y=\"-468.8\" font-family=\"Helvetica,sans-Serif\" font-size=\"14.00\">class = NO</text>\r\n",
       "</g>\r\n",
       "<!-- 1&#45;&gt;11 -->\r\n",
       "<g id=\"edge11\" class=\"edge\"><title>1&#45;&gt;11</title>\r\n",
       "<path fill=\"none\" stroke=\"black\" d=\"M425.5,-579.907C425.5,-571.649 425.5,-562.864 425.5,-554.302\"/>\r\n",
       "<polygon fill=\"black\" stroke=\"black\" points=\"429,-554.021 425.5,-544.021 422,-554.021 429,-554.021\"/>\r\n",
       "</g>\r\n",
       "<!-- 3 -->\r\n",
       "<g id=\"node4\" class=\"node\"><title>3</title>\r\n",
       "<path fill=\"#e58139\" stroke=\"black\" d=\"M159,-417.5C159,-417.5 86,-417.5 86,-417.5 80,-417.5 74,-411.5 74,-405.5 74,-405.5 74,-361.5 74,-361.5 74,-355.5 80,-349.5 86,-349.5 86,-349.5 159,-349.5 159,-349.5 165,-349.5 171,-355.5 171,-361.5 171,-361.5 171,-405.5 171,-405.5 171,-411.5 165,-417.5 159,-417.5\"/>\r\n",
       "<text text-anchor=\"start\" x=\"93.5\" y=\"-402.3\" font-family=\"Helvetica,sans-Serif\" font-size=\"14.00\">gini = 0.0</text>\r\n",
       "<text text-anchor=\"start\" x=\"83\" y=\"-387.3\" font-family=\"Helvetica,sans-Serif\" font-size=\"14.00\">samples = 8</text>\r\n",
       "<text text-anchor=\"start\" x=\"82\" y=\"-372.3\" font-family=\"Helvetica,sans-Serif\" font-size=\"14.00\">value = [8, 0]</text>\r\n",
       "<text text-anchor=\"start\" x=\"87.5\" y=\"-357.3\" font-family=\"Helvetica,sans-Serif\" font-size=\"14.00\">class = NO</text>\r\n",
       "</g>\r\n",
       "<!-- 2&#45;&gt;3 -->\r\n",
       "<g id=\"edge3\" class=\"edge\"><title>2&#45;&gt;3</title>\r\n",
       "<path fill=\"none\" stroke=\"black\" d=\"M200.214,-460.907C188.317,-449.211 175.345,-436.457 163.468,-424.78\"/>\r\n",
       "<polygon fill=\"black\" stroke=\"black\" points=\"165.818,-422.182 156.234,-417.667 160.911,-427.174 165.818,-422.182\"/>\r\n",
       "</g>\r\n",
       "<!-- 4 -->\r\n",
       "<g id=\"node5\" class=\"node\"><title>4</title>\r\n",
       "<path fill=\"#47a4e7\" stroke=\"black\" d=\"M282,-425C282,-425 201,-425 201,-425 195,-425 189,-419 189,-413 189,-413 189,-354 189,-354 189,-348 195,-342 201,-342 201,-342 282,-342 282,-342 288,-342 294,-348 294,-354 294,-354 294,-413 294,-413 294,-419 288,-425 282,-425\"/>\r\n",
       "<text text-anchor=\"start\" x=\"206.5\" y=\"-409.8\" font-family=\"Helvetica,sans-Serif\" font-size=\"14.00\">Age ≤ 57.5</text>\r\n",
       "<text text-anchor=\"start\" x=\"204\" y=\"-394.8\" font-family=\"Helvetica,sans-Serif\" font-size=\"14.00\">gini = 0.122</text>\r\n",
       "<text text-anchor=\"start\" x=\"198\" y=\"-379.8\" font-family=\"Helvetica,sans-Serif\" font-size=\"14.00\">samples = 46</text>\r\n",
       "<text text-anchor=\"start\" x=\"197\" y=\"-364.8\" font-family=\"Helvetica,sans-Serif\" font-size=\"14.00\">value = [3, 43]</text>\r\n",
       "<text text-anchor=\"start\" x=\"202.5\" y=\"-349.8\" font-family=\"Helvetica,sans-Serif\" font-size=\"14.00\">class = YES</text>\r\n",
       "</g>\r\n",
       "<!-- 2&#45;&gt;4 -->\r\n",
       "<g id=\"edge4\" class=\"edge\"><title>2&#45;&gt;4</title>\r\n",
       "<path fill=\"none\" stroke=\"black\" d=\"M241.5,-460.907C241.5,-452.649 241.5,-443.864 241.5,-435.302\"/>\r\n",
       "<polygon fill=\"black\" stroke=\"black\" points=\"245,-435.021 241.5,-425.021 238,-435.021 245,-435.021\"/>\r\n",
       "</g>\r\n",
       "<!-- 5 -->\r\n",
       "<g id=\"node6\" class=\"node\"><title>5</title>\r\n",
       "<path fill=\"#3e9fe6\" stroke=\"black\" d=\"M180.5,-306C180.5,-306 80.5,-306 80.5,-306 74.5,-306 68.5,-300 68.5,-294 68.5,-294 68.5,-235 68.5,-235 68.5,-229 74.5,-223 80.5,-223 80.5,-223 180.5,-223 180.5,-223 186.5,-223 192.5,-229 192.5,-235 192.5,-235 192.5,-294 192.5,-294 192.5,-300 186.5,-306 180.5,-306\"/>\r\n",
       "<text text-anchor=\"start\" x=\"76.5\" y=\"-290.8\" font-family=\"Helvetica,sans-Serif\" font-size=\"14.00\">Distance ≤ 3.298</text>\r\n",
       "<text text-anchor=\"start\" x=\"93\" y=\"-275.8\" font-family=\"Helvetica,sans-Serif\" font-size=\"14.00\">gini = 0.044</text>\r\n",
       "<text text-anchor=\"start\" x=\"87\" y=\"-260.8\" font-family=\"Helvetica,sans-Serif\" font-size=\"14.00\">samples = 44</text>\r\n",
       "<text text-anchor=\"start\" x=\"86\" y=\"-245.8\" font-family=\"Helvetica,sans-Serif\" font-size=\"14.00\">value = [1, 43]</text>\r\n",
       "<text text-anchor=\"start\" x=\"91.5\" y=\"-230.8\" font-family=\"Helvetica,sans-Serif\" font-size=\"14.00\">class = YES</text>\r\n",
       "</g>\r\n",
       "<!-- 4&#45;&gt;5 -->\r\n",
       "<g id=\"edge5\" class=\"edge\"><title>4&#45;&gt;5</title>\r\n",
       "<path fill=\"none\" stroke=\"black\" d=\"M202.989,-341.907C194.293,-332.742 184.982,-322.927 176.028,-313.489\"/>\r\n",
       "<polygon fill=\"black\" stroke=\"black\" points=\"178.365,-310.867 168.943,-306.021 173.286,-315.684 178.365,-310.867\"/>\r\n",
       "</g>\r\n",
       "<!-- 10 -->\r\n",
       "<g id=\"node11\" class=\"node\"><title>10</title>\r\n",
       "<path fill=\"#e58139\" stroke=\"black\" d=\"M296,-298.5C296,-298.5 223,-298.5 223,-298.5 217,-298.5 211,-292.5 211,-286.5 211,-286.5 211,-242.5 211,-242.5 211,-236.5 217,-230.5 223,-230.5 223,-230.5 296,-230.5 296,-230.5 302,-230.5 308,-236.5 308,-242.5 308,-242.5 308,-286.5 308,-286.5 308,-292.5 302,-298.5 296,-298.5\"/>\r\n",
       "<text text-anchor=\"start\" x=\"230.5\" y=\"-283.3\" font-family=\"Helvetica,sans-Serif\" font-size=\"14.00\">gini = 0.0</text>\r\n",
       "<text text-anchor=\"start\" x=\"220\" y=\"-268.3\" font-family=\"Helvetica,sans-Serif\" font-size=\"14.00\">samples = 2</text>\r\n",
       "<text text-anchor=\"start\" x=\"219\" y=\"-253.3\" font-family=\"Helvetica,sans-Serif\" font-size=\"14.00\">value = [2, 0]</text>\r\n",
       "<text text-anchor=\"start\" x=\"224.5\" y=\"-238.3\" font-family=\"Helvetica,sans-Serif\" font-size=\"14.00\">class = NO</text>\r\n",
       "</g>\r\n",
       "<!-- 4&#45;&gt;10 -->\r\n",
       "<g id=\"edge10\" class=\"edge\"><title>4&#45;&gt;10</title>\r\n",
       "<path fill=\"none\" stroke=\"black\" d=\"M247.745,-341.907C249.392,-331.204 251.175,-319.615 252.842,-308.776\"/>\r\n",
       "<polygon fill=\"black\" stroke=\"black\" points=\"256.336,-309.083 254.397,-298.667 249.417,-308.018 256.336,-309.083\"/>\r\n",
       "</g>\r\n",
       "<!-- 6 -->\r\n",
       "<g id=\"node7\" class=\"node\"><title>6</title>\r\n",
       "<path fill=\"#399de5\" stroke=\"black\" d=\"M93,-179.5C93,-179.5 12,-179.5 12,-179.5 6,-179.5 0,-173.5 0,-167.5 0,-167.5 0,-123.5 0,-123.5 0,-117.5 6,-111.5 12,-111.5 12,-111.5 93,-111.5 93,-111.5 99,-111.5 105,-117.5 105,-123.5 105,-123.5 105,-167.5 105,-167.5 105,-173.5 99,-179.5 93,-179.5\"/>\r\n",
       "<text text-anchor=\"start\" x=\"23.5\" y=\"-164.3\" font-family=\"Helvetica,sans-Serif\" font-size=\"14.00\">gini = 0.0</text>\r\n",
       "<text text-anchor=\"start\" x=\"9\" y=\"-149.3\" font-family=\"Helvetica,sans-Serif\" font-size=\"14.00\">samples = 41</text>\r\n",
       "<text text-anchor=\"start\" x=\"8\" y=\"-134.3\" font-family=\"Helvetica,sans-Serif\" font-size=\"14.00\">value = [0, 41]</text>\r\n",
       "<text text-anchor=\"start\" x=\"13.5\" y=\"-119.3\" font-family=\"Helvetica,sans-Serif\" font-size=\"14.00\">class = YES</text>\r\n",
       "</g>\r\n",
       "<!-- 5&#45;&gt;6 -->\r\n",
       "<g id=\"edge6\" class=\"edge\"><title>5&#45;&gt;6</title>\r\n",
       "<path fill=\"none\" stroke=\"black\" d=\"M103.438,-222.907C95.9348,-211.652 87.7789,-199.418 80.2375,-188.106\"/>\r\n",
       "<polygon fill=\"black\" stroke=\"black\" points=\"83.0705,-186.046 74.6113,-179.667 77.2462,-189.929 83.0705,-186.046\"/>\r\n",
       "</g>\r\n",
       "<!-- 7 -->\r\n",
       "<g id=\"node8\" class=\"node\"><title>7</title>\r\n",
       "<path fill=\"#9ccef2\" stroke=\"black\" d=\"M284,-187C284,-187 135,-187 135,-187 129,-187 123,-181 123,-175 123,-175 123,-116 123,-116 123,-110 129,-104 135,-104 135,-104 284,-104 284,-104 290,-104 296,-110 296,-116 296,-116 296,-175 296,-175 296,-181 290,-187 284,-187\"/>\r\n",
       "<text text-anchor=\"start\" x=\"131\" y=\"-171.8\" font-family=\"Helvetica,sans-Serif\" font-size=\"14.00\">spent_last_month ≤ 59.5</text>\r\n",
       "<text text-anchor=\"start\" x=\"172\" y=\"-156.8\" font-family=\"Helvetica,sans-Serif\" font-size=\"14.00\">gini = 0.444</text>\r\n",
       "<text text-anchor=\"start\" x=\"170\" y=\"-141.8\" font-family=\"Helvetica,sans-Serif\" font-size=\"14.00\">samples = 3</text>\r\n",
       "<text text-anchor=\"start\" x=\"169\" y=\"-126.8\" font-family=\"Helvetica,sans-Serif\" font-size=\"14.00\">value = [1, 2]</text>\r\n",
       "<text text-anchor=\"start\" x=\"170.5\" y=\"-111.8\" font-family=\"Helvetica,sans-Serif\" font-size=\"14.00\">class = YES</text>\r\n",
       "</g>\r\n",
       "<!-- 5&#45;&gt;7 -->\r\n",
       "<g id=\"edge7\" class=\"edge\"><title>5&#45;&gt;7</title>\r\n",
       "<path fill=\"none\" stroke=\"black\" d=\"M157.909,-222.907C163.914,-214.014 170.331,-204.509 176.529,-195.331\"/>\r\n",
       "<polygon fill=\"black\" stroke=\"black\" points=\"179.444,-197.267 182.14,-187.021 173.643,-193.35 179.444,-197.267\"/>\r\n",
       "</g>\r\n",
       "<!-- 8 -->\r\n",
       "<g id=\"node9\" class=\"node\"><title>8</title>\r\n",
       "<path fill=\"#e58139\" stroke=\"black\" d=\"M188,-68C188,-68 115,-68 115,-68 109,-68 103,-62 103,-56 103,-56 103,-12 103,-12 103,-6 109,-0 115,-0 115,-0 188,-0 188,-0 194,-0 200,-6 200,-12 200,-12 200,-56 200,-56 200,-62 194,-68 188,-68\"/>\r\n",
       "<text text-anchor=\"start\" x=\"122.5\" y=\"-52.8\" font-family=\"Helvetica,sans-Serif\" font-size=\"14.00\">gini = 0.0</text>\r\n",
       "<text text-anchor=\"start\" x=\"112\" y=\"-37.8\" font-family=\"Helvetica,sans-Serif\" font-size=\"14.00\">samples = 1</text>\r\n",
       "<text text-anchor=\"start\" x=\"111\" y=\"-22.8\" font-family=\"Helvetica,sans-Serif\" font-size=\"14.00\">value = [1, 0]</text>\r\n",
       "<text text-anchor=\"start\" x=\"116.5\" y=\"-7.8\" font-family=\"Helvetica,sans-Serif\" font-size=\"14.00\">class = NO</text>\r\n",
       "</g>\r\n",
       "<!-- 7&#45;&gt;8 -->\r\n",
       "<g id=\"edge8\" class=\"edge\"><title>7&#45;&gt;8</title>\r\n",
       "<path fill=\"none\" stroke=\"black\" d=\"M187.903,-103.726C183.313,-95.0615 178.459,-85.8962 173.842,-77.1802\"/>\r\n",
       "<polygon fill=\"black\" stroke=\"black\" points=\"176.912,-75.4982 169.138,-68.2996 170.726,-78.7748 176.912,-75.4982\"/>\r\n",
       "</g>\r\n",
       "<!-- 9 -->\r\n",
       "<g id=\"node10\" class=\"node\"><title>9</title>\r\n",
       "<path fill=\"#399de5\" stroke=\"black\" d=\"M303,-68C303,-68 230,-68 230,-68 224,-68 218,-62 218,-56 218,-56 218,-12 218,-12 218,-6 224,-0 230,-0 230,-0 303,-0 303,-0 309,-0 315,-6 315,-12 315,-12 315,-56 315,-56 315,-62 309,-68 303,-68\"/>\r\n",
       "<text text-anchor=\"start\" x=\"237.5\" y=\"-52.8\" font-family=\"Helvetica,sans-Serif\" font-size=\"14.00\">gini = 0.0</text>\r\n",
       "<text text-anchor=\"start\" x=\"227\" y=\"-37.8\" font-family=\"Helvetica,sans-Serif\" font-size=\"14.00\">samples = 2</text>\r\n",
       "<text text-anchor=\"start\" x=\"226\" y=\"-22.8\" font-family=\"Helvetica,sans-Serif\" font-size=\"14.00\">value = [0, 2]</text>\r\n",
       "<text text-anchor=\"start\" x=\"227.5\" y=\"-7.8\" font-family=\"Helvetica,sans-Serif\" font-size=\"14.00\">class = YES</text>\r\n",
       "</g>\r\n",
       "<!-- 7&#45;&gt;9 -->\r\n",
       "<g id=\"edge9\" class=\"edge\"><title>7&#45;&gt;9</title>\r\n",
       "<path fill=\"none\" stroke=\"black\" d=\"M230.725,-103.726C235.235,-95.0615 240.006,-85.8962 244.543,-77.1802\"/>\r\n",
       "<polygon fill=\"black\" stroke=\"black\" points=\"247.653,-78.7859 249.166,-68.2996 241.444,-75.5537 247.653,-78.7859\"/>\r\n",
       "</g>\r\n",
       "<!-- 12 -->\r\n",
       "<g id=\"node13\" class=\"node\"><title>12</title>\r\n",
       "<path fill=\"#f2c09c\" stroke=\"black\" d=\"M526.5,-425C526.5,-425 324.5,-425 324.5,-425 318.5,-425 312.5,-419 312.5,-413 312.5,-413 312.5,-354 312.5,-354 312.5,-348 318.5,-342 324.5,-342 324.5,-342 526.5,-342 526.5,-342 532.5,-342 538.5,-348 538.5,-354 538.5,-354 538.5,-413 538.5,-413 538.5,-419 532.5,-425 526.5,-425\"/>\r\n",
       "<text text-anchor=\"start\" x=\"320.5\" y=\"-409.8\" font-family=\"Helvetica,sans-Serif\" font-size=\"14.00\">num_coffeeBags_per_year ≤ 2.0</text>\r\n",
       "<text text-anchor=\"start\" x=\"388\" y=\"-394.8\" font-family=\"Helvetica,sans-Serif\" font-size=\"14.00\">gini = 0.444</text>\r\n",
       "<text text-anchor=\"start\" x=\"386\" y=\"-379.8\" font-family=\"Helvetica,sans-Serif\" font-size=\"14.00\">samples = 3</text>\r\n",
       "<text text-anchor=\"start\" x=\"385\" y=\"-364.8\" font-family=\"Helvetica,sans-Serif\" font-size=\"14.00\">value = [2, 1]</text>\r\n",
       "<text text-anchor=\"start\" x=\"390.5\" y=\"-349.8\" font-family=\"Helvetica,sans-Serif\" font-size=\"14.00\">class = NO</text>\r\n",
       "</g>\r\n",
       "<!-- 11&#45;&gt;12 -->\r\n",
       "<g id=\"edge12\" class=\"edge\"><title>11&#45;&gt;12</title>\r\n",
       "<path fill=\"none\" stroke=\"black\" d=\"M425.5,-460.907C425.5,-452.649 425.5,-443.864 425.5,-435.302\"/>\r\n",
       "<polygon fill=\"black\" stroke=\"black\" points=\"429,-435.021 425.5,-425.021 422,-435.021 429,-435.021\"/>\r\n",
       "</g>\r\n",
       "<!-- 15 -->\r\n",
       "<g id=\"node16\" class=\"node\"><title>15</title>\r\n",
       "<path fill=\"#e58139\" stroke=\"black\" d=\"M650,-417.5C650,-417.5 569,-417.5 569,-417.5 563,-417.5 557,-411.5 557,-405.5 557,-405.5 557,-361.5 557,-361.5 557,-355.5 563,-349.5 569,-349.5 569,-349.5 650,-349.5 650,-349.5 656,-349.5 662,-355.5 662,-361.5 662,-361.5 662,-405.5 662,-405.5 662,-411.5 656,-417.5 650,-417.5\"/>\r\n",
       "<text text-anchor=\"start\" x=\"580.5\" y=\"-402.3\" font-family=\"Helvetica,sans-Serif\" font-size=\"14.00\">gini = 0.0</text>\r\n",
       "<text text-anchor=\"start\" x=\"566\" y=\"-387.3\" font-family=\"Helvetica,sans-Serif\" font-size=\"14.00\">samples = 95</text>\r\n",
       "<text text-anchor=\"start\" x=\"565\" y=\"-372.3\" font-family=\"Helvetica,sans-Serif\" font-size=\"14.00\">value = [95, 0]</text>\r\n",
       "<text text-anchor=\"start\" x=\"574.5\" y=\"-357.3\" font-family=\"Helvetica,sans-Serif\" font-size=\"14.00\">class = NO</text>\r\n",
       "</g>\r\n",
       "<!-- 11&#45;&gt;15 -->\r\n",
       "<g id=\"edge15\" class=\"edge\"><title>11&#45;&gt;15</title>\r\n",
       "<path fill=\"none\" stroke=\"black\" d=\"M479.083,-468.2C500.427,-454.857 525.18,-439.286 547.5,-425 548.566,-424.318 549.642,-423.628 550.725,-422.933\"/>\r\n",
       "<polygon fill=\"black\" stroke=\"black\" points=\"552.625,-425.872 559.133,-417.512 548.832,-419.988 552.625,-425.872\"/>\r\n",
       "</g>\r\n",
       "<!-- 13 -->\r\n",
       "<g id=\"node14\" class=\"node\"><title>13</title>\r\n",
       "<path fill=\"#e58139\" stroke=\"black\" d=\"M428,-298.5C428,-298.5 355,-298.5 355,-298.5 349,-298.5 343,-292.5 343,-286.5 343,-286.5 343,-242.5 343,-242.5 343,-236.5 349,-230.5 355,-230.5 355,-230.5 428,-230.5 428,-230.5 434,-230.5 440,-236.5 440,-242.5 440,-242.5 440,-286.5 440,-286.5 440,-292.5 434,-298.5 428,-298.5\"/>\r\n",
       "<text text-anchor=\"start\" x=\"362.5\" y=\"-283.3\" font-family=\"Helvetica,sans-Serif\" font-size=\"14.00\">gini = 0.0</text>\r\n",
       "<text text-anchor=\"start\" x=\"352\" y=\"-268.3\" font-family=\"Helvetica,sans-Serif\" font-size=\"14.00\">samples = 2</text>\r\n",
       "<text text-anchor=\"start\" x=\"351\" y=\"-253.3\" font-family=\"Helvetica,sans-Serif\" font-size=\"14.00\">value = [2, 0]</text>\r\n",
       "<text text-anchor=\"start\" x=\"356.5\" y=\"-238.3\" font-family=\"Helvetica,sans-Serif\" font-size=\"14.00\">class = NO</text>\r\n",
       "</g>\r\n",
       "<!-- 12&#45;&gt;13 -->\r\n",
       "<g id=\"edge13\" class=\"edge\"><title>12&#45;&gt;13</title>\r\n",
       "<path fill=\"none\" stroke=\"black\" d=\"M413.704,-341.907C410.561,-331.094 407.156,-319.376 403.979,-308.441\"/>\r\n",
       "<polygon fill=\"black\" stroke=\"black\" points=\"407.29,-307.293 401.138,-298.667 400.568,-309.246 407.29,-307.293\"/>\r\n",
       "</g>\r\n",
       "<!-- 14 -->\r\n",
       "<g id=\"node15\" class=\"node\"><title>14</title>\r\n",
       "<path fill=\"#399de5\" stroke=\"black\" d=\"M543,-298.5C543,-298.5 470,-298.5 470,-298.5 464,-298.5 458,-292.5 458,-286.5 458,-286.5 458,-242.5 458,-242.5 458,-236.5 464,-230.5 470,-230.5 470,-230.5 543,-230.5 543,-230.5 549,-230.5 555,-236.5 555,-242.5 555,-242.5 555,-286.5 555,-286.5 555,-292.5 549,-298.5 543,-298.5\"/>\r\n",
       "<text text-anchor=\"start\" x=\"477.5\" y=\"-283.3\" font-family=\"Helvetica,sans-Serif\" font-size=\"14.00\">gini = 0.0</text>\r\n",
       "<text text-anchor=\"start\" x=\"467\" y=\"-268.3\" font-family=\"Helvetica,sans-Serif\" font-size=\"14.00\">samples = 1</text>\r\n",
       "<text text-anchor=\"start\" x=\"466\" y=\"-253.3\" font-family=\"Helvetica,sans-Serif\" font-size=\"14.00\">value = [0, 1]</text>\r\n",
       "<text text-anchor=\"start\" x=\"467.5\" y=\"-238.3\" font-family=\"Helvetica,sans-Serif\" font-size=\"14.00\">class = YES</text>\r\n",
       "</g>\r\n",
       "<!-- 12&#45;&gt;14 -->\r\n",
       "<g id=\"edge14\" class=\"edge\"><title>12&#45;&gt;14</title>\r\n",
       "<path fill=\"none\" stroke=\"black\" d=\"M453.603,-341.907C461.395,-330.652 469.864,-318.418 477.696,-307.106\"/>\r\n",
       "<polygon fill=\"black\" stroke=\"black\" points=\"480.724,-308.881 483.538,-298.667 474.968,-304.897 480.724,-308.881\"/>\r\n",
       "</g>\r\n",
       "<!-- 17 -->\r\n",
       "<g id=\"node18\" class=\"node\"><title>17</title>\r\n",
       "<path fill=\"#399de5\" stroke=\"black\" d=\"M612,-536.5C612,-536.5 523,-536.5 523,-536.5 517,-536.5 511,-530.5 511,-524.5 511,-524.5 511,-480.5 511,-480.5 511,-474.5 517,-468.5 523,-468.5 523,-468.5 612,-468.5 612,-468.5 618,-468.5 624,-474.5 624,-480.5 624,-480.5 624,-524.5 624,-524.5 624,-530.5 618,-536.5 612,-536.5\"/>\r\n",
       "<text text-anchor=\"start\" x=\"538.5\" y=\"-521.3\" font-family=\"Helvetica,sans-Serif\" font-size=\"14.00\">gini = 0.0</text>\r\n",
       "<text text-anchor=\"start\" x=\"520\" y=\"-506.3\" font-family=\"Helvetica,sans-Serif\" font-size=\"14.00\">samples = 158</text>\r\n",
       "<text text-anchor=\"start\" x=\"519\" y=\"-491.3\" font-family=\"Helvetica,sans-Serif\" font-size=\"14.00\">value = [0, 158]</text>\r\n",
       "<text text-anchor=\"start\" x=\"528.5\" y=\"-476.3\" font-family=\"Helvetica,sans-Serif\" font-size=\"14.00\">class = YES</text>\r\n",
       "</g>\r\n",
       "<!-- 16&#45;&gt;17 -->\r\n",
       "<g id=\"edge17\" class=\"edge\"><title>16&#45;&gt;17</title>\r\n",
       "<path fill=\"none\" stroke=\"black\" d=\"M567.5,-579.907C567.5,-569.204 567.5,-557.615 567.5,-546.776\"/>\r\n",
       "<polygon fill=\"black\" stroke=\"black\" points=\"571,-546.667 567.5,-536.667 564,-546.667 571,-546.667\"/>\r\n",
       "</g>\r\n",
       "<!-- 18 -->\r\n",
       "<g id=\"node19\" class=\"node\"><title>18</title>\r\n",
       "<path fill=\"#f6fbfe\" stroke=\"black\" d=\"M811,-544C811,-544 654,-544 654,-544 648,-544 642,-538 642,-532 642,-532 642,-473 642,-473 642,-467 648,-461 654,-461 654,-461 811,-461 811,-461 817,-461 823,-467 823,-473 823,-473 823,-532 823,-532 823,-538 817,-544 811,-544\"/>\r\n",
       "<text text-anchor=\"start\" x=\"650\" y=\"-528.8\" font-family=\"Helvetica,sans-Serif\" font-size=\"14.00\">spent_last_month ≤ 140.5</text>\r\n",
       "<text text-anchor=\"start\" x=\"703.5\" y=\"-513.8\" font-family=\"Helvetica,sans-Serif\" font-size=\"14.00\">gini = 0.5</text>\r\n",
       "<text text-anchor=\"start\" x=\"689\" y=\"-498.8\" font-family=\"Helvetica,sans-Serif\" font-size=\"14.00\">samples = 45</text>\r\n",
       "<text text-anchor=\"start\" x=\"684\" y=\"-483.8\" font-family=\"Helvetica,sans-Serif\" font-size=\"14.00\">value = [22, 23]</text>\r\n",
       "<text text-anchor=\"start\" x=\"693.5\" y=\"-468.8\" font-family=\"Helvetica,sans-Serif\" font-size=\"14.00\">class = YES</text>\r\n",
       "</g>\r\n",
       "<!-- 16&#45;&gt;18 -->\r\n",
       "<g id=\"edge18\" class=\"edge\"><title>16&#45;&gt;18</title>\r\n",
       "<path fill=\"none\" stroke=\"black\" d=\"M624.746,-579.907C638.44,-570.197 653.162,-559.758 667.189,-549.811\"/>\r\n",
       "<polygon fill=\"black\" stroke=\"black\" points=\"669.222,-552.66 675.355,-544.021 665.173,-546.95 669.222,-552.66\"/>\r\n",
       "</g>\r\n",
       "<!-- 19 -->\r\n",
       "<g id=\"node20\" class=\"node\"><title>19</title>\r\n",
       "<path fill=\"#e58139\" stroke=\"black\" d=\"M773,-417.5C773,-417.5 692,-417.5 692,-417.5 686,-417.5 680,-411.5 680,-405.5 680,-405.5 680,-361.5 680,-361.5 680,-355.5 686,-349.5 692,-349.5 692,-349.5 773,-349.5 773,-349.5 779,-349.5 785,-355.5 785,-361.5 785,-361.5 785,-405.5 785,-405.5 785,-411.5 779,-417.5 773,-417.5\"/>\r\n",
       "<text text-anchor=\"start\" x=\"703.5\" y=\"-402.3\" font-family=\"Helvetica,sans-Serif\" font-size=\"14.00\">gini = 0.0</text>\r\n",
       "<text text-anchor=\"start\" x=\"689\" y=\"-387.3\" font-family=\"Helvetica,sans-Serif\" font-size=\"14.00\">samples = 22</text>\r\n",
       "<text text-anchor=\"start\" x=\"688\" y=\"-372.3\" font-family=\"Helvetica,sans-Serif\" font-size=\"14.00\">value = [22, 0]</text>\r\n",
       "<text text-anchor=\"start\" x=\"697.5\" y=\"-357.3\" font-family=\"Helvetica,sans-Serif\" font-size=\"14.00\">class = NO</text>\r\n",
       "</g>\r\n",
       "<!-- 18&#45;&gt;19 -->\r\n",
       "<g id=\"edge19\" class=\"edge\"><title>18&#45;&gt;19</title>\r\n",
       "<path fill=\"none\" stroke=\"black\" d=\"M732.5,-460.907C732.5,-450.204 732.5,-438.615 732.5,-427.776\"/>\r\n",
       "<polygon fill=\"black\" stroke=\"black\" points=\"736,-427.667 732.5,-417.667 729,-427.667 736,-427.667\"/>\r\n",
       "</g>\r\n",
       "<!-- 20 -->\r\n",
       "<g id=\"node21\" class=\"node\"><title>20</title>\r\n",
       "<path fill=\"#399de5\" stroke=\"black\" d=\"M896,-417.5C896,-417.5 815,-417.5 815,-417.5 809,-417.5 803,-411.5 803,-405.5 803,-405.5 803,-361.5 803,-361.5 803,-355.5 809,-349.5 815,-349.5 815,-349.5 896,-349.5 896,-349.5 902,-349.5 908,-355.5 908,-361.5 908,-361.5 908,-405.5 908,-405.5 908,-411.5 902,-417.5 896,-417.5\"/>\r\n",
       "<text text-anchor=\"start\" x=\"826.5\" y=\"-402.3\" font-family=\"Helvetica,sans-Serif\" font-size=\"14.00\">gini = 0.0</text>\r\n",
       "<text text-anchor=\"start\" x=\"812\" y=\"-387.3\" font-family=\"Helvetica,sans-Serif\" font-size=\"14.00\">samples = 23</text>\r\n",
       "<text text-anchor=\"start\" x=\"811\" y=\"-372.3\" font-family=\"Helvetica,sans-Serif\" font-size=\"14.00\">value = [0, 23]</text>\r\n",
       "<text text-anchor=\"start\" x=\"816.5\" y=\"-357.3\" font-family=\"Helvetica,sans-Serif\" font-size=\"14.00\">class = YES</text>\r\n",
       "</g>\r\n",
       "<!-- 18&#45;&gt;20 -->\r\n",
       "<g id=\"edge20\" class=\"edge\"><title>18&#45;&gt;20</title>\r\n",
       "<path fill=\"none\" stroke=\"black\" d=\"M775.174,-460.907C787.471,-449.211 800.878,-436.457 813.155,-424.78\"/>\r\n",
       "<polygon fill=\"black\" stroke=\"black\" points=\"815.799,-427.095 820.632,-417.667 810.974,-422.023 815.799,-427.095\"/>\r\n",
       "</g>\r\n",
       "</g>\r\n",
       "</svg>\r\n"
      ],
      "text/plain": [
       "<graphviz.files.Source at 0x28aada4c0f0>"
      ]
     },
     "execution_count": 86,
     "metadata": {},
     "output_type": "execute_result"
    }
   ],
   "source": [
    "# Alternatively for class_names use gini_model.classes_\n",
    "graph=graphviz.Source(tree.export_graphviz(gini_model, out_file=None,\n",
    "                     feature_names=X.columns,  \n",
    "                      class_names=entr_model.classes_,  \n",
    "                      filled=True, rounded=True,  \n",
    "                      special_characters=True))\n",
    "graph"
   ]
  },
  {
   "cell_type": "code",
   "execution_count": 87,
   "metadata": {
    "colab": {},
    "colab_type": "code",
    "id": "T0RadBy0DuWp"
   },
   "outputs": [
    {
     "name": "stdout",
     "output_type": "stream",
     "text": [
      "Model Gini impurity model\n",
      "Accuracy: 0.9831932773109243\n",
      "Balanced accuracy: 0.9813946216385241\n",
      "Precision score 0.9871794871794872\n",
      "Recall score 0.975609756097561\n"
     ]
    }
   ],
   "source": [
    "# Run this block for model evaluation\n",
    "print(\"Model Gini impurity model\")\n",
    "print(\"Accuracy:\", metrics.accuracy_score(y_test,y_pred))\n",
    "print(\"Balanced accuracy:\", metrics.balanced_accuracy_score(y_test,y_pred))\n",
    "print('Precision score' , metrics.precision_score(y_test,y_pred, pos_label = \"YES\"))\n",
    "print('Recall score' , metrics.recall_score(y_test,y_pred, pos_label = \"NO\"))"
   ]
  },
  {
   "cell_type": "markdown",
   "metadata": {
    "colab_type": "text",
    "id": "LR5LkC_yDuWs"
   },
   "source": [
    "How do the results here compare to the previous model? Write your judgements here:\n",
    "\n",
    "It seems that this model works not as good as the previous decision tree model with enthopy as criterion. "
   ]
  },
  {
   "cell_type": "markdown",
   "metadata": {
    "colab_type": "text",
    "id": "3PctBjTADuWs"
   },
   "source": [
    "## Model 3: Entropy model - max depth 3\n",
    "We're going to try to limit the depth of our decision tree, using entropy first.  \n",
    "\n",
    "As you know, we need to strike a balance with tree depth. \n",
    "\n",
    "Insufficiently deep, and we're not giving the tree the opportunity to spot the right patterns in the training data.\n",
    "\n",
    "Excessively deep, and we're probably going to make a tree that overfits to the training data, at the cost of very high error on the (hitherto unseen) test data. \n",
    "\n",
    "Sophisticated data scientists use methods like random search with cross-validation to systematically find a good depth for their tree. We'll start with picking 3, and see how that goes. "
   ]
  },
  {
   "cell_type": "code",
   "execution_count": 88,
   "metadata": {
    "colab": {},
    "colab_type": "code",
    "id": "cMiPjWClDuWt"
   },
   "outputs": [
    {
     "data": {
      "text/plain": [
       "DecisionTreeClassifier(criterion='entropy', max_depth=3, random_state=1234)"
      ]
     },
     "execution_count": 88,
     "metadata": {},
     "output_type": "execute_result"
    }
   ],
   "source": [
    "# Made a model as before, but call it entr_model2, and make the max_depth parameter equal to 3. \n",
    "# Execute the fitting, predicting, and Series operations as before\n",
    "entr_model2=tree.DecisionTreeClassifier(criterion='entropy', random_state=1234, max_depth=3)\n",
    "\n",
    "# Call fit() on entr_model\n",
    "entr_model2.fit(X_train, y_train)\n",
    "\n",
    "# Call predict() on entr_model with X_test passed to it, and assign the result to a variable y_pred \n",
    "y_pred=entr_model2.predict(X_test) \n",
    "\n",
    "# Call Series on our y_pred variable with the following: pd.Series(y_pred)\n",
    "y_pred=pd.Series(y_pred)\n",
    "\n",
    "# Check out entr_model\n",
    "entr_model2"
   ]
  },
  {
   "cell_type": "code",
   "execution_count": 89,
   "metadata": {
    "colab": {},
    "colab_type": "code",
    "id": "IRuw72VMDuWv"
   },
   "outputs": [
    {
     "data": {
      "image/png": "[encoded data removed]",
      "text/plain": [
       "<Figure size 432x288 with 1 Axes>"
      ]
     },
     "metadata": {
      "needs_background": "light"
     },
     "output_type": "display_data"
    }
   ],
   "source": [
    "# As before, we need to visualize the tree to grasp its nature\n",
    "_=tree.plot_tree(entr_model2) \n",
    "plt.show()"
   ]
  },
  {
   "cell_type": "code",
   "execution_count": 90,
   "metadata": {},
   "outputs": [
    {
     "data": {
      "image/svg+xml": [
       "<?xml version=\"1.0\" encoding=\"UTF-8\" standalone=\"no\"?>\r\n",
       "<!DOCTYPE svg PUBLIC \"-//W3C//DTD SVG 1.1//EN\"\r\n",
       " \"http://www.w3.org/Graphics/SVG/1.1/DTD/svg11.dtd\">\r\n",
       "<!-- Generated by graphviz version 2.38.0 (20140413.2041)\r\n",
       " -->\r\n",
       "<!-- Title: Tree Pages: 1 -->\r\n",
       "<svg width=\"540pt\" height=\"433pt\"\r\n",
       " viewBox=\"0.00 0.00 540.00 433.00\" xmlns=\"http://www.w3.org/2000/svg\" xmlns:xlink=\"http://www.w3.org/1999/xlink\">\r\n",
       "<g id=\"graph0\" class=\"graph\" transform=\"scale(1 1) rotate(0) translate(4 429)\">\r\n",
       "<title>Tree</title>\r\n",
       "<polygon fill=\"white\" stroke=\"none\" points=\"-4,4 -4,-429 536,-429 536,4 -4,4\"/>\r\n",
       "<!-- 0 -->\r\n",
       "<g id=\"node1\" class=\"node\"><title>0</title>\r\n",
       "<path fill=\"#abd6f4\" stroke=\"black\" d=\"M405.5,-425C405.5,-425 248.5,-425 248.5,-425 242.5,-425 236.5,-419 236.5,-413 236.5,-413 236.5,-354 236.5,-354 236.5,-348 242.5,-342 248.5,-342 248.5,-342 405.5,-342 405.5,-342 411.5,-342 417.5,-348 417.5,-354 417.5,-354 417.5,-413 417.5,-413 417.5,-419 411.5,-425 405.5,-425\"/>\r\n",
       "<text text-anchor=\"start\" x=\"244.5\" y=\"-409.8\" font-family=\"Helvetica,sans-Serif\" font-size=\"14.00\">spent_last_month ≤ 138.0</text>\r\n",
       "<text text-anchor=\"start\" x=\"277\" y=\"-394.8\" font-family=\"Helvetica,sans-Serif\" font-size=\"14.00\">entropy = 0.948</text>\r\n",
       "<text text-anchor=\"start\" x=\"279.5\" y=\"-379.8\" font-family=\"Helvetica,sans-Serif\" font-size=\"14.00\">samples = 355</text>\r\n",
       "<text text-anchor=\"start\" x=\"270\" y=\"-364.8\" font-family=\"Helvetica,sans-Serif\" font-size=\"14.00\">value = [130, 225]</text>\r\n",
       "<text text-anchor=\"start\" x=\"288\" y=\"-349.8\" font-family=\"Helvetica,sans-Serif\" font-size=\"14.00\">class = YES</text>\r\n",
       "</g>\r\n",
       "<!-- 1 -->\r\n",
       "<g id=\"node2\" class=\"node\"><title>1</title>\r\n",
       "<path fill=\"#fae6d7\" stroke=\"black\" d=\"M310,-306C310,-306 204,-306 204,-306 198,-306 192,-300 192,-294 192,-294 192,-235 192,-235 192,-229 198,-223 204,-223 204,-223 310,-223 310,-223 316,-223 322,-229 322,-235 322,-235 322,-294 322,-294 322,-300 316,-306 310,-306\"/>\r\n",
       "<text text-anchor=\"start\" x=\"203\" y=\"-290.8\" font-family=\"Helvetica,sans-Serif\" font-size=\"14.00\">Distance ≤ 3.524</text>\r\n",
       "<text text-anchor=\"start\" x=\"207\" y=\"-275.8\" font-family=\"Helvetica,sans-Serif\" font-size=\"14.00\">entropy = 0.991</text>\r\n",
       "<text text-anchor=\"start\" x=\"209.5\" y=\"-260.8\" font-family=\"Helvetica,sans-Serif\" font-size=\"14.00\">samples = 234</text>\r\n",
       "<text text-anchor=\"start\" x=\"200\" y=\"-245.8\" font-family=\"Helvetica,sans-Serif\" font-size=\"14.00\">value = [130, 104]</text>\r\n",
       "<text text-anchor=\"start\" x=\"222\" y=\"-230.8\" font-family=\"Helvetica,sans-Serif\" font-size=\"14.00\">class = NO</text>\r\n",
       "</g>\r\n",
       "<!-- 0&#45;&gt;1 -->\r\n",
       "<g id=\"edge1\" class=\"edge\"><title>0&#45;&gt;1</title>\r\n",
       "<path fill=\"none\" stroke=\"black\" d=\"M302.714,-341.907C297.447,-333.105 291.822,-323.703 286.383,-314.612\"/>\r\n",
       "<polygon fill=\"black\" stroke=\"black\" points=\"289.381,-312.805 281.243,-306.021 283.374,-316.399 289.381,-312.805\"/>\r\n",
       "<text text-anchor=\"middle\" x=\"275.149\" y=\"-326.567\" font-family=\"Helvetica,sans-Serif\" font-size=\"14.00\">True</text>\r\n",
       "</g>\r\n",
       "<!-- 8 -->\r\n",
       "<g id=\"node9\" class=\"node\"><title>8</title>\r\n",
       "<path fill=\"#399de5\" stroke=\"black\" d=\"M441.5,-298.5C441.5,-298.5 352.5,-298.5 352.5,-298.5 346.5,-298.5 340.5,-292.5 340.5,-286.5 340.5,-286.5 340.5,-242.5 340.5,-242.5 340.5,-236.5 346.5,-230.5 352.5,-230.5 352.5,-230.5 441.5,-230.5 441.5,-230.5 447.5,-230.5 453.5,-236.5 453.5,-242.5 453.5,-242.5 453.5,-286.5 453.5,-286.5 453.5,-292.5 447.5,-298.5 441.5,-298.5\"/>\r\n",
       "<text text-anchor=\"start\" x=\"355\" y=\"-283.3\" font-family=\"Helvetica,sans-Serif\" font-size=\"14.00\">entropy = 0.0</text>\r\n",
       "<text text-anchor=\"start\" x=\"349.5\" y=\"-268.3\" font-family=\"Helvetica,sans-Serif\" font-size=\"14.00\">samples = 121</text>\r\n",
       "<text text-anchor=\"start\" x=\"348.5\" y=\"-253.3\" font-family=\"Helvetica,sans-Serif\" font-size=\"14.00\">value = [0, 121]</text>\r\n",
       "<text text-anchor=\"start\" x=\"358\" y=\"-238.3\" font-family=\"Helvetica,sans-Serif\" font-size=\"14.00\">class = YES</text>\r\n",
       "</g>\r\n",
       "<!-- 0&#45;&gt;8 -->\r\n",
       "<g id=\"edge8\" class=\"edge\"><title>0&#45;&gt;8</title>\r\n",
       "<path fill=\"none\" stroke=\"black\" d=\"M351.286,-341.907C357.954,-330.763 365.196,-318.658 371.908,-307.439\"/>\r\n",
       "<polygon fill=\"black\" stroke=\"black\" points=\"375.026,-309.045 377.157,-298.667 369.019,-305.451 375.026,-309.045\"/>\r\n",
       "<text text-anchor=\"middle\" x=\"383.25\" y=\"-319.213\" font-family=\"Helvetica,sans-Serif\" font-size=\"14.00\">False</text>\r\n",
       "</g>\r\n",
       "<!-- 2 -->\r\n",
       "<g id=\"node3\" class=\"node\"><title>2</title>\r\n",
       "<path fill=\"#52aae8\" stroke=\"black\" d=\"M234.5,-187C234.5,-187 85.5,-187 85.5,-187 79.5,-187 73.5,-181 73.5,-175 73.5,-175 73.5,-116 73.5,-116 73.5,-110 79.5,-104 85.5,-104 85.5,-104 234.5,-104 234.5,-104 240.5,-104 246.5,-110 246.5,-116 246.5,-116 246.5,-175 246.5,-175 246.5,-181 240.5,-187 234.5,-187\"/>\r\n",
       "<text text-anchor=\"start\" x=\"81.5\" y=\"-171.8\" font-family=\"Helvetica,sans-Serif\" font-size=\"14.00\">spent_last_month ≤ 24.5</text>\r\n",
       "<text text-anchor=\"start\" x=\"110\" y=\"-156.8\" font-family=\"Helvetica,sans-Serif\" font-size=\"14.00\">entropy = 0.512</text>\r\n",
       "<text text-anchor=\"start\" x=\"116.5\" y=\"-141.8\" font-family=\"Helvetica,sans-Serif\" font-size=\"14.00\">samples = 79</text>\r\n",
       "<text text-anchor=\"start\" x=\"115.5\" y=\"-126.8\" font-family=\"Helvetica,sans-Serif\" font-size=\"14.00\">value = [9, 70]</text>\r\n",
       "<text text-anchor=\"start\" x=\"121\" y=\"-111.8\" font-family=\"Helvetica,sans-Serif\" font-size=\"14.00\">class = YES</text>\r\n",
       "</g>\r\n",
       "<!-- 1&#45;&gt;2 -->\r\n",
       "<g id=\"edge2\" class=\"edge\"><title>1&#45;&gt;2</title>\r\n",
       "<path fill=\"none\" stroke=\"black\" d=\"M223.346,-222.907C215.823,-213.832 207.771,-204.121 200.018,-194.769\"/>\r\n",
       "<polygon fill=\"black\" stroke=\"black\" points=\"202.671,-192.485 193.594,-187.021 197.282,-196.953 202.671,-192.485\"/>\r\n",
       "</g>\r\n",
       "<!-- 5 -->\r\n",
       "<g id=\"node6\" class=\"node\"><title>5</title>\r\n",
       "<path fill=\"#eca471\" stroke=\"black\" d=\"M433.5,-187C433.5,-187 276.5,-187 276.5,-187 270.5,-187 264.5,-181 264.5,-175 264.5,-175 264.5,-116 264.5,-116 264.5,-110 270.5,-104 276.5,-104 276.5,-104 433.5,-104 433.5,-104 439.5,-104 445.5,-110 445.5,-116 445.5,-116 445.5,-175 445.5,-175 445.5,-181 439.5,-187 433.5,-187\"/>\r\n",
       "<text text-anchor=\"start\" x=\"272.5\" y=\"-171.8\" font-family=\"Helvetica,sans-Serif\" font-size=\"14.00\">spent_last_month ≤ 101.0</text>\r\n",
       "<text text-anchor=\"start\" x=\"305\" y=\"-156.8\" font-family=\"Helvetica,sans-Serif\" font-size=\"14.00\">entropy = 0.759</text>\r\n",
       "<text text-anchor=\"start\" x=\"307.5\" y=\"-141.8\" font-family=\"Helvetica,sans-Serif\" font-size=\"14.00\">samples = 155</text>\r\n",
       "<text text-anchor=\"start\" x=\"302\" y=\"-126.8\" font-family=\"Helvetica,sans-Serif\" font-size=\"14.00\">value = [121, 34]</text>\r\n",
       "<text text-anchor=\"start\" x=\"320\" y=\"-111.8\" font-family=\"Helvetica,sans-Serif\" font-size=\"14.00\">class = NO</text>\r\n",
       "</g>\r\n",
       "<!-- 1&#45;&gt;5 -->\r\n",
       "<g id=\"edge5\" class=\"edge\"><title>1&#45;&gt;5</title>\r\n",
       "<path fill=\"none\" stroke=\"black\" d=\"M291.001,-222.907C298.602,-213.832 306.736,-204.121 314.569,-194.769\"/>\r\n",
       "<polygon fill=\"black\" stroke=\"black\" points=\"317.321,-196.934 321.059,-187.021 311.955,-192.439 317.321,-196.934\"/>\r\n",
       "</g>\r\n",
       "<!-- 3 -->\r\n",
       "<g id=\"node4\" class=\"node\"><title>3</title>\r\n",
       "<path fill=\"#e58139\" stroke=\"black\" d=\"M88,-68C88,-68 12,-68 12,-68 6,-68 0,-62 0,-56 0,-56 0,-12 0,-12 0,-6 6,-0 12,-0 12,-0 88,-0 88,-0 94,-0 100,-6 100,-12 100,-12 100,-56 100,-56 100,-62 94,-68 88,-68\"/>\r\n",
       "<text text-anchor=\"start\" x=\"8\" y=\"-52.8\" font-family=\"Helvetica,sans-Serif\" font-size=\"14.00\">entropy = 0.0</text>\r\n",
       "<text text-anchor=\"start\" x=\"10.5\" y=\"-37.8\" font-family=\"Helvetica,sans-Serif\" font-size=\"14.00\">samples = 8</text>\r\n",
       "<text text-anchor=\"start\" x=\"9.5\" y=\"-22.8\" font-family=\"Helvetica,sans-Serif\" font-size=\"14.00\">value = [8, 0]</text>\r\n",
       "<text text-anchor=\"start\" x=\"15\" y=\"-7.8\" font-family=\"Helvetica,sans-Serif\" font-size=\"14.00\">class = NO</text>\r\n",
       "</g>\r\n",
       "<!-- 2&#45;&gt;3 -->\r\n",
       "<g id=\"edge3\" class=\"edge\"><title>2&#45;&gt;3</title>\r\n",
       "<path fill=\"none\" stroke=\"black\" d=\"M119.04,-103.726C109.786,-94.5142 99.9636,-84.7364 90.7194,-75.5343\"/>\r\n",
       "<polygon fill=\"black\" stroke=\"black\" points=\"93.0081,-72.8741 83.4517,-68.2996 88.0696,-77.8351 93.0081,-72.8741\"/>\r\n",
       "</g>\r\n",
       "<!-- 4 -->\r\n",
       "<g id=\"node5\" class=\"node\"><title>4</title>\r\n",
       "<path fill=\"#3c9ee5\" stroke=\"black\" d=\"M222,-68C222,-68 130,-68 130,-68 124,-68 118,-62 118,-56 118,-56 118,-12 118,-12 118,-6 124,-0 130,-0 130,-0 222,-0 222,-0 228,-0 234,-6 234,-12 234,-12 234,-56 234,-56 234,-62 228,-68 222,-68\"/>\r\n",
       "<text text-anchor=\"start\" x=\"126\" y=\"-52.8\" font-family=\"Helvetica,sans-Serif\" font-size=\"14.00\">entropy = 0.107</text>\r\n",
       "<text text-anchor=\"start\" x=\"132.5\" y=\"-37.8\" font-family=\"Helvetica,sans-Serif\" font-size=\"14.00\">samples = 71</text>\r\n",
       "<text text-anchor=\"start\" x=\"131.5\" y=\"-22.8\" font-family=\"Helvetica,sans-Serif\" font-size=\"14.00\">value = [1, 70]</text>\r\n",
       "<text text-anchor=\"start\" x=\"137\" y=\"-7.8\" font-family=\"Helvetica,sans-Serif\" font-size=\"14.00\">class = YES</text>\r\n",
       "</g>\r\n",
       "<!-- 2&#45;&gt;4 -->\r\n",
       "<g id=\"edge4\" class=\"edge\"><title>2&#45;&gt;4</title>\r\n",
       "<path fill=\"none\" stroke=\"black\" d=\"M165.958,-103.726C167.171,-95.4263 168.45,-86.6671 169.675,-78.2834\"/>\r\n",
       "<polygon fill=\"black\" stroke=\"black\" points=\"173.152,-78.7006 171.134,-68.2996 166.225,-77.6885 173.152,-78.7006\"/>\r\n",
       "</g>\r\n",
       "<!-- 6 -->\r\n",
       "<g id=\"node7\" class=\"node\"><title>6</title>\r\n",
       "<path fill=\"#e6853f\" stroke=\"black\" d=\"M386,-68C386,-68 294,-68 294,-68 288,-68 282,-62 282,-56 282,-56 282,-12 282,-12 282,-6 288,-0 294,-0 294,-0 386,-0 386,-0 392,-0 398,-6 398,-12 398,-12 398,-56 398,-56 398,-62 392,-68 386,-68\"/>\r\n",
       "<text text-anchor=\"start\" x=\"290\" y=\"-52.8\" font-family=\"Helvetica,sans-Serif\" font-size=\"14.00\">entropy = 0.191</text>\r\n",
       "<text text-anchor=\"start\" x=\"292.5\" y=\"-37.8\" font-family=\"Helvetica,sans-Serif\" font-size=\"14.00\">samples = 102</text>\r\n",
       "<text text-anchor=\"start\" x=\"295.5\" y=\"-22.8\" font-family=\"Helvetica,sans-Serif\" font-size=\"14.00\">value = [99, 3]</text>\r\n",
       "<text text-anchor=\"start\" x=\"305\" y=\"-7.8\" font-family=\"Helvetica,sans-Serif\" font-size=\"14.00\">class = NO</text>\r\n",
       "</g>\r\n",
       "<!-- 5&#45;&gt;6 -->\r\n",
       "<g id=\"edge6\" class=\"edge\"><title>5&#45;&gt;6</title>\r\n",
       "<path fill=\"none\" stroke=\"black\" d=\"M349.415,-103.726C348.278,-95.4263 347.078,-86.6671 345.929,-78.2834\"/>\r\n",
       "<polygon fill=\"black\" stroke=\"black\" points=\"349.386,-77.732 344.562,-68.2996 342.451,-78.6821 349.386,-77.732\"/>\r\n",
       "</g>\r\n",
       "<!-- 7 -->\r\n",
       "<g id=\"node8\" class=\"node\"><title>7</title>\r\n",
       "<path fill=\"#c6e3f7\" stroke=\"black\" d=\"M520,-68C520,-68 428,-68 428,-68 422,-68 416,-62 416,-56 416,-56 416,-12 416,-12 416,-6 422,-0 428,-0 428,-0 520,-0 520,-0 526,-0 532,-6 532,-12 532,-12 532,-56 532,-56 532,-62 526,-68 520,-68\"/>\r\n",
       "<text text-anchor=\"start\" x=\"424\" y=\"-52.8\" font-family=\"Helvetica,sans-Serif\" font-size=\"14.00\">entropy = 0.979</text>\r\n",
       "<text text-anchor=\"start\" x=\"430.5\" y=\"-37.8\" font-family=\"Helvetica,sans-Serif\" font-size=\"14.00\">samples = 53</text>\r\n",
       "<text text-anchor=\"start\" x=\"425.5\" y=\"-22.8\" font-family=\"Helvetica,sans-Serif\" font-size=\"14.00\">value = [22, 31]</text>\r\n",
       "<text text-anchor=\"start\" x=\"435\" y=\"-7.8\" font-family=\"Helvetica,sans-Serif\" font-size=\"14.00\">class = YES</text>\r\n",
       "</g>\r\n",
       "<!-- 5&#45;&gt;7 -->\r\n",
       "<g id=\"edge7\" class=\"edge\"><title>5&#45;&gt;7</title>\r\n",
       "<path fill=\"none\" stroke=\"black\" d=\"M399.311,-103.726C409.422,-94.423 420.159,-84.5428 430.246,-75.2612\"/>\r\n",
       "<polygon fill=\"black\" stroke=\"black\" points=\"432.823,-77.6464 437.811,-68.2996 428.083,-72.4953 432.823,-77.6464\"/>\r\n",
       "</g>\r\n",
       "</g>\r\n",
       "</svg>\r\n"
      ],
      "text/plain": [
       "<graphviz.files.Source at 0x28aadaf96a0>"
      ]
     },
     "execution_count": 90,
     "metadata": {},
     "output_type": "execute_result"
    }
   ],
   "source": [
    "# Alternatively for class_names use entr_model2.classes_\n",
    "graph=graphviz.Source(tree.export_graphviz(entr_model2, out_file=None,\n",
    "                     feature_names=X.columns,  \n",
    "                      class_names=entr_model2.classes_,  \n",
    "                      filled=True, rounded=True,  \n",
    "                      special_characters=True))\n",
    "graph"
   ]
  },
  {
   "cell_type": "code",
   "execution_count": 91,
   "metadata": {
    "colab": {},
    "colab_type": "code",
    "id": "29f4vmmMDuWy"
   },
   "outputs": [
    {
     "name": "stdout",
     "output_type": "stream",
     "text": [
      "Model Entropy model max depth 3\n",
      "Accuracy: 0.907563025210084\n",
      "Balanced accuracy: 0.8658536585365854\n",
      "Precision score for \"Yes\" 0.8764044943820225\n",
      "Recall score for \"No\" 0.7317073170731707\n"
     ]
    }
   ],
   "source": [
    "# Run this block for model evaluation \n",
    "print(\"Model Entropy model max depth 3\")\n",
    "print(\"Accuracy:\", metrics.accuracy_score(y_test,y_pred))\n",
    "print(\"Balanced accuracy:\", metrics.balanced_accuracy_score(y_test,y_pred))\n",
    "print('Precision score for \"Yes\"' , metrics.precision_score(y_test,y_pred, pos_label = \"YES\"))\n",
    "print('Recall score for \"No\"' , metrics.recall_score(y_test,y_pred, pos_label = \"NO\"))"
   ]
  },
  {
   "cell_type": "markdown",
   "metadata": {
    "colab_type": "text",
    "id": "AG7S2YgUDuW4"
   },
   "source": [
    "So our accuracy decreased, but is this certainly an inferior tree to the max depth original tree we did with Model 1? Write your conclusions here:\n",
    "\n",
    "It seems this model is inferior tree to the max depth original tree because every score is reduced. But this tree may work on the unseen test data better because potentially the max depth original tree could be overfitted."
   ]
  },
  {
   "cell_type": "markdown",
   "metadata": {
    "colab_type": "text",
    "id": "FZTl4W3wDuW4"
   },
   "source": [
    "## Model 4: Gini impurity  model - max depth 3\n",
    "We're now going to try the same with the Gini impurity model. "
   ]
  },
  {
   "cell_type": "code",
   "execution_count": 92,
   "metadata": {
    "colab": {},
    "colab_type": "code",
    "id": "FJK1bkG3DuW5"
   },
   "outputs": [],
   "source": [
    "# As before, make a variable, but call it gini_model2, and ensure the max_depth parameter is set to 3\n",
    "gini_model2 = tree.DecisionTreeClassifier(criterion ='gini', random_state=1234, max_depth=3)\n",
    "\n",
    "# Do the fit, predict, and series transformations as before. \n",
    "gini_model2.fit(X_train, y_train)\n",
    "y_pred=pd.Series(gini_model2.predict(X_test))"
   ]
  },
  {
   "cell_type": "code",
   "execution_count": 93,
   "metadata": {
    "colab": {},
    "colab_type": "code",
    "id": "_UIWhKZBDuW7"
   },
   "outputs": [
    {
     "data": {
      "image/svg+xml": [
       "<?xml version=\"1.0\" encoding=\"UTF-8\" standalone=\"no\"?>\r\n",
       "<!DOCTYPE svg PUBLIC \"-//W3C//DTD SVG 1.1//EN\"\r\n",
       " \"http://www.w3.org/Graphics/SVG/1.1/DTD/svg11.dtd\">\r\n",
       "<!-- Generated by graphviz version 2.38.0 (20140413.2041)\r\n",
       " -->\r\n",
       "<!-- Title: Tree Pages: 1 -->\r\n",
       "<svg width=\"686pt\" height=\"373pt\"\r\n",
       " viewBox=\"0.00 0.00 685.50 373.00\" xmlns=\"http://www.w3.org/2000/svg\" xmlns:xlink=\"http://www.w3.org/1999/xlink\">\r\n",
       "<g id=\"graph0\" class=\"graph\" transform=\"scale(1 1) rotate(0) translate(4 369)\">\r\n",
       "<title>Tree</title>\r\n",
       "<polygon fill=\"white\" stroke=\"none\" points=\"-4,4 -4,-369 681.5,-369 681.5,4 -4,4\"/>\r\n",
       "<!-- 0 -->\r\n",
       "<g id=\"node1\" class=\"node\"><title>0</title>\r\n",
       "<polygon fill=\"none\" stroke=\"black\" points=\"395.5,-365 277.5,-365 277.5,-297 395.5,-297 395.5,-365\"/>\r\n",
       "<text text-anchor=\"middle\" x=\"336.5\" y=\"-349.8\" font-family=\"Times New Roman,serif\" font-size=\"14.00\">X[3] &lt;= 100.5</text>\r\n",
       "<text text-anchor=\"middle\" x=\"336.5\" y=\"-334.8\" font-family=\"Times New Roman,serif\" font-size=\"14.00\">gini = 0.464</text>\r\n",
       "<text text-anchor=\"middle\" x=\"336.5\" y=\"-319.8\" font-family=\"Times New Roman,serif\" font-size=\"14.00\">samples = 355</text>\r\n",
       "<text text-anchor=\"middle\" x=\"336.5\" y=\"-304.8\" font-family=\"Times New Roman,serif\" font-size=\"14.00\">value = [130, 225]</text>\r\n",
       "</g>\r\n",
       "<!-- 1 -->\r\n",
       "<g id=\"node2\" class=\"node\"><title>1</title>\r\n",
       "<polygon fill=\"none\" stroke=\"black\" points=\"328,-261 217,-261 217,-193 328,-193 328,-261\"/>\r\n",
       "<text text-anchor=\"middle\" x=\"272.5\" y=\"-245.8\" font-family=\"Times New Roman,serif\" font-size=\"14.00\">X[5] &lt;= 3.754</text>\r\n",
       "<text text-anchor=\"middle\" x=\"272.5\" y=\"-230.8\" font-family=\"Times New Roman,serif\" font-size=\"14.00\">gini = 0.411</text>\r\n",
       "<text text-anchor=\"middle\" x=\"272.5\" y=\"-215.8\" font-family=\"Times New Roman,serif\" font-size=\"14.00\">samples = 152</text>\r\n",
       "<text text-anchor=\"middle\" x=\"272.5\" y=\"-200.8\" font-family=\"Times New Roman,serif\" font-size=\"14.00\">value = [108, 44]</text>\r\n",
       "</g>\r\n",
       "<!-- 0&#45;&gt;1 -->\r\n",
       "<g id=\"edge1\" class=\"edge\"><title>0&#45;&gt;1</title>\r\n",
       "<path fill=\"none\" stroke=\"black\" d=\"M315.721,-296.884C310.3,-288.243 304.387,-278.819 298.723,-269.793\"/>\r\n",
       "<polygon fill=\"black\" stroke=\"black\" points=\"301.673,-267.91 293.394,-261.299 295.744,-271.63 301.673,-267.91\"/>\r\n",
       "<text text-anchor=\"middle\" x=\"287.815\" y=\"-281.969\" font-family=\"Times New Roman,serif\" font-size=\"14.00\">True</text>\r\n",
       "</g>\r\n",
       "<!-- 8 -->\r\n",
       "<g id=\"node9\" class=\"node\"><title>8</title>\r\n",
       "<polygon fill=\"none\" stroke=\"black\" points=\"457,-261 346,-261 346,-193 457,-193 457,-261\"/>\r\n",
       "<text text-anchor=\"middle\" x=\"401.5\" y=\"-245.8\" font-family=\"Times New Roman,serif\" font-size=\"14.00\">X[5] &lt;= 8.047</text>\r\n",
       "<text text-anchor=\"middle\" x=\"401.5\" y=\"-230.8\" font-family=\"Times New Roman,serif\" font-size=\"14.00\">gini = 0.193</text>\r\n",
       "<text text-anchor=\"middle\" x=\"401.5\" y=\"-215.8\" font-family=\"Times New Roman,serif\" font-size=\"14.00\">samples = 203</text>\r\n",
       "<text text-anchor=\"middle\" x=\"401.5\" y=\"-200.8\" font-family=\"Times New Roman,serif\" font-size=\"14.00\">value = [22, 181]</text>\r\n",
       "</g>\r\n",
       "<!-- 0&#45;&gt;8 -->\r\n",
       "<g id=\"edge8\" class=\"edge\"><title>0&#45;&gt;8</title>\r\n",
       "<path fill=\"none\" stroke=\"black\" d=\"M357.604,-296.884C363.11,-288.243 369.115,-278.819 374.867,-269.793\"/>\r\n",
       "<polygon fill=\"black\" stroke=\"black\" points=\"377.857,-271.614 380.28,-261.299 371.954,-267.852 377.857,-271.614\"/>\r\n",
       "<text text-anchor=\"middle\" x=\"385.688\" y=\"-282.007\" font-family=\"Times New Roman,serif\" font-size=\"14.00\">False</text>\r\n",
       "</g>\r\n",
       "<!-- 2 -->\r\n",
       "<g id=\"node3\" class=\"node\"><title>2</title>\r\n",
       "<polygon fill=\"none\" stroke=\"black\" points=\"208.5,-157 104.5,-157 104.5,-89 208.5,-89 208.5,-157\"/>\r\n",
       "<text text-anchor=\"middle\" x=\"156.5\" y=\"-141.8\" font-family=\"Times New Roman,serif\" font-size=\"14.00\">X[3] &lt;= 24.5</text>\r\n",
       "<text text-anchor=\"middle\" x=\"156.5\" y=\"-126.8\" font-family=\"Times New Roman,serif\" font-size=\"14.00\">gini = 0.324</text>\r\n",
       "<text text-anchor=\"middle\" x=\"156.5\" y=\"-111.8\" font-family=\"Times New Roman,serif\" font-size=\"14.00\">samples = 54</text>\r\n",
       "<text text-anchor=\"middle\" x=\"156.5\" y=\"-96.8\" font-family=\"Times New Roman,serif\" font-size=\"14.00\">value = [11, 43]</text>\r\n",
       "</g>\r\n",
       "<!-- 1&#45;&gt;2 -->\r\n",
       "<g id=\"edge2\" class=\"edge\"><title>1&#45;&gt;2</title>\r\n",
       "<path fill=\"none\" stroke=\"black\" d=\"M234.838,-192.884C224.404,-183.709 212.965,-173.65 202.13,-164.123\"/>\r\n",
       "<polygon fill=\"black\" stroke=\"black\" points=\"204.191,-161.274 194.37,-157.299 199.568,-166.531 204.191,-161.274\"/>\r\n",
       "</g>\r\n",
       "<!-- 5 -->\r\n",
       "<g id=\"node6\" class=\"node\"><title>5</title>\r\n",
       "<polygon fill=\"none\" stroke=\"black\" points=\"324.5,-157 226.5,-157 226.5,-89 324.5,-89 324.5,-157\"/>\r\n",
       "<text text-anchor=\"middle\" x=\"275.5\" y=\"-141.8\" font-family=\"Times New Roman,serif\" font-size=\"14.00\">X[5] &lt;= 4.0</text>\r\n",
       "<text text-anchor=\"middle\" x=\"275.5\" y=\"-126.8\" font-family=\"Times New Roman,serif\" font-size=\"14.00\">gini = 0.02</text>\r\n",
       "<text text-anchor=\"middle\" x=\"275.5\" y=\"-111.8\" font-family=\"Times New Roman,serif\" font-size=\"14.00\">samples = 98</text>\r\n",
       "<text text-anchor=\"middle\" x=\"275.5\" y=\"-96.8\" font-family=\"Times New Roman,serif\" font-size=\"14.00\">value = [97, 1]</text>\r\n",
       "</g>\r\n",
       "<!-- 1&#45;&gt;5 -->\r\n",
       "<g id=\"edge5\" class=\"edge\"><title>1&#45;&gt;5</title>\r\n",
       "<path fill=\"none\" stroke=\"black\" d=\"M273.474,-192.884C273.712,-184.778 273.971,-175.982 274.221,-167.472\"/>\r\n",
       "<polygon fill=\"black\" stroke=\"black\" points=\"277.725,-167.398 274.521,-157.299 270.728,-167.192 277.725,-167.398\"/>\r\n",
       "</g>\r\n",
       "<!-- 3 -->\r\n",
       "<g id=\"node4\" class=\"node\"><title>3</title>\r\n",
       "<polygon fill=\"none\" stroke=\"black\" points=\"91,-53 0,-53 0,-0 91,-0 91,-53\"/>\r\n",
       "<text text-anchor=\"middle\" x=\"45.5\" y=\"-37.8\" font-family=\"Times New Roman,serif\" font-size=\"14.00\">gini = 0.0</text>\r\n",
       "<text text-anchor=\"middle\" x=\"45.5\" y=\"-22.8\" font-family=\"Times New Roman,serif\" font-size=\"14.00\">samples = 8</text>\r\n",
       "<text text-anchor=\"middle\" x=\"45.5\" y=\"-7.8\" font-family=\"Times New Roman,serif\" font-size=\"14.00\">value = [8, 0]</text>\r\n",
       "</g>\r\n",
       "<!-- 2&#45;&gt;3 -->\r\n",
       "<g id=\"edge3\" class=\"edge\"><title>2&#45;&gt;3</title>\r\n",
       "<path fill=\"none\" stroke=\"black\" d=\"M117.678,-88.9485C106.61,-79.526 94.5669,-69.2731 83.546,-59.8906\"/>\r\n",
       "<polygon fill=\"black\" stroke=\"black\" points=\"85.6136,-57.0542 75.7304,-53.2367 81.0759,-62.3842 85.6136,-57.0542\"/>\r\n",
       "</g>\r\n",
       "<!-- 4 -->\r\n",
       "<g id=\"node5\" class=\"node\"><title>4</title>\r\n",
       "<polygon fill=\"none\" stroke=\"black\" points=\"207.5,-53 109.5,-53 109.5,-0 207.5,-0 207.5,-53\"/>\r\n",
       "<text text-anchor=\"middle\" x=\"158.5\" y=\"-37.8\" font-family=\"Times New Roman,serif\" font-size=\"14.00\">gini = 0.122</text>\r\n",
       "<text text-anchor=\"middle\" x=\"158.5\" y=\"-22.8\" font-family=\"Times New Roman,serif\" font-size=\"14.00\">samples = 46</text>\r\n",
       "<text text-anchor=\"middle\" x=\"158.5\" y=\"-7.8\" font-family=\"Times New Roman,serif\" font-size=\"14.00\">value = [3, 43]</text>\r\n",
       "</g>\r\n",
       "<!-- 2&#45;&gt;4 -->\r\n",
       "<g id=\"edge4\" class=\"edge\"><title>2&#45;&gt;4</title>\r\n",
       "<path fill=\"none\" stroke=\"black\" d=\"M157.2,-88.9485C157.374,-80.7153 157.561,-71.848 157.738,-63.4814\"/>\r\n",
       "<polygon fill=\"black\" stroke=\"black\" points=\"161.243,-63.3086 157.955,-53.2367 154.244,-63.1604 161.243,-63.3086\"/>\r\n",
       "</g>\r\n",
       "<!-- 6 -->\r\n",
       "<g id=\"node7\" class=\"node\"><title>6</title>\r\n",
       "<polygon fill=\"none\" stroke=\"black\" points=\"320,-53 229,-53 229,-0 320,-0 320,-53\"/>\r\n",
       "<text text-anchor=\"middle\" x=\"274.5\" y=\"-37.8\" font-family=\"Times New Roman,serif\" font-size=\"14.00\">gini = 0.444</text>\r\n",
       "<text text-anchor=\"middle\" x=\"274.5\" y=\"-22.8\" font-family=\"Times New Roman,serif\" font-size=\"14.00\">samples = 3</text>\r\n",
       "<text text-anchor=\"middle\" x=\"274.5\" y=\"-7.8\" font-family=\"Times New Roman,serif\" font-size=\"14.00\">value = [2, 1]</text>\r\n",
       "</g>\r\n",
       "<!-- 5&#45;&gt;6 -->\r\n",
       "<g id=\"edge6\" class=\"edge\"><title>5&#45;&gt;6</title>\r\n",
       "<path fill=\"none\" stroke=\"black\" d=\"M275.15,-88.9485C275.063,-80.7153 274.969,-71.848 274.881,-63.4814\"/>\r\n",
       "<polygon fill=\"black\" stroke=\"black\" points=\"278.378,-63.1991 274.772,-53.2367 271.378,-63.2732 278.378,-63.1991\"/>\r\n",
       "</g>\r\n",
       "<!-- 7 -->\r\n",
       "<g id=\"node8\" class=\"node\"><title>7</title>\r\n",
       "<polygon fill=\"none\" stroke=\"black\" points=\"436.5,-53 338.5,-53 338.5,-0 436.5,-0 436.5,-53\"/>\r\n",
       "<text text-anchor=\"middle\" x=\"387.5\" y=\"-37.8\" font-family=\"Times New Roman,serif\" font-size=\"14.00\">gini = 0.0</text>\r\n",
       "<text text-anchor=\"middle\" x=\"387.5\" y=\"-22.8\" font-family=\"Times New Roman,serif\" font-size=\"14.00\">samples = 95</text>\r\n",
       "<text text-anchor=\"middle\" x=\"387.5\" y=\"-7.8\" font-family=\"Times New Roman,serif\" font-size=\"14.00\">value = [95, 0]</text>\r\n",
       "</g>\r\n",
       "<!-- 5&#45;&gt;7 -->\r\n",
       "<g id=\"edge7\" class=\"edge\"><title>5&#45;&gt;7</title>\r\n",
       "<path fill=\"none\" stroke=\"black\" d=\"M314.672,-88.9485C325.84,-79.526 337.991,-69.2731 349.111,-59.8906\"/>\r\n",
       "<polygon fill=\"black\" stroke=\"black\" points=\"351.611,-62.3605 356.997,-53.2367 347.097,-57.0104 351.611,-62.3605\"/>\r\n",
       "</g>\r\n",
       "<!-- 9 -->\r\n",
       "<g id=\"node10\" class=\"node\"><title>9</title>\r\n",
       "<polygon fill=\"none\" stroke=\"black\" points=\"451.5,-149.5 347.5,-149.5 347.5,-96.5 451.5,-96.5 451.5,-149.5\"/>\r\n",
       "<text text-anchor=\"middle\" x=\"399.5\" y=\"-134.3\" font-family=\"Times New Roman,serif\" font-size=\"14.00\">gini = 0.0</text>\r\n",
       "<text text-anchor=\"middle\" x=\"399.5\" y=\"-119.3\" font-family=\"Times New Roman,serif\" font-size=\"14.00\">samples = 158</text>\r\n",
       "<text text-anchor=\"middle\" x=\"399.5\" y=\"-104.3\" font-family=\"Times New Roman,serif\" font-size=\"14.00\">value = [0, 158]</text>\r\n",
       "</g>\r\n",
       "<!-- 8&#45;&gt;9 -->\r\n",
       "<g id=\"edge9\" class=\"edge\"><title>8&#45;&gt;9</title>\r\n",
       "<path fill=\"none\" stroke=\"black\" d=\"M400.851,-192.884C400.641,-182.216 400.409,-170.352 400.196,-159.519\"/>\r\n",
       "<polygon fill=\"black\" stroke=\"black\" points=\"403.696,-159.449 400,-149.52 396.697,-159.587 403.696,-159.449\"/>\r\n",
       "</g>\r\n",
       "<!-- 10 -->\r\n",
       "<g id=\"node11\" class=\"node\"><title>10</title>\r\n",
       "<polygon fill=\"none\" stroke=\"black\" points=\"573.5,-157 469.5,-157 469.5,-89 573.5,-89 573.5,-157\"/>\r\n",
       "<text text-anchor=\"middle\" x=\"521.5\" y=\"-141.8\" font-family=\"Times New Roman,serif\" font-size=\"14.00\">X[3] &lt;= 140.5</text>\r\n",
       "<text text-anchor=\"middle\" x=\"521.5\" y=\"-126.8\" font-family=\"Times New Roman,serif\" font-size=\"14.00\">gini = 0.5</text>\r\n",
       "<text text-anchor=\"middle\" x=\"521.5\" y=\"-111.8\" font-family=\"Times New Roman,serif\" font-size=\"14.00\">samples = 45</text>\r\n",
       "<text text-anchor=\"middle\" x=\"521.5\" y=\"-96.8\" font-family=\"Times New Roman,serif\" font-size=\"14.00\">value = [22, 23]</text>\r\n",
       "</g>\r\n",
       "<!-- 8&#45;&gt;10 -->\r\n",
       "<g id=\"edge10\" class=\"edge\"><title>8&#45;&gt;10</title>\r\n",
       "<path fill=\"none\" stroke=\"black\" d=\"M440.461,-192.884C451.359,-183.62 463.318,-173.455 474.623,-163.845\"/>\r\n",
       "<polygon fill=\"black\" stroke=\"black\" points=\"476.972,-166.443 482.324,-157.299 472.438,-161.109 476.972,-166.443\"/>\r\n",
       "</g>\r\n",
       "<!-- 11 -->\r\n",
       "<g id=\"node12\" class=\"node\"><title>11</title>\r\n",
       "<polygon fill=\"none\" stroke=\"black\" points=\"561.5,-53 463.5,-53 463.5,-0 561.5,-0 561.5,-53\"/>\r\n",
       "<text text-anchor=\"middle\" x=\"512.5\" y=\"-37.8\" font-family=\"Times New Roman,serif\" font-size=\"14.00\">gini = 0.0</text>\r\n",
       "<text text-anchor=\"middle\" x=\"512.5\" y=\"-22.8\" font-family=\"Times New Roman,serif\" font-size=\"14.00\">samples = 22</text>\r\n",
       "<text text-anchor=\"middle\" x=\"512.5\" y=\"-7.8\" font-family=\"Times New Roman,serif\" font-size=\"14.00\">value = [22, 0]</text>\r\n",
       "</g>\r\n",
       "<!-- 10&#45;&gt;11 -->\r\n",
       "<g id=\"edge11\" class=\"edge\"><title>10&#45;&gt;11</title>\r\n",
       "<path fill=\"none\" stroke=\"black\" d=\"M518.352,-88.9485C517.559,-80.6238 516.705,-71.6509 515.9,-63.2027\"/>\r\n",
       "<polygon fill=\"black\" stroke=\"black\" points=\"519.384,-62.8598 514.951,-53.2367 512.415,-63.5235 519.384,-62.8598\"/>\r\n",
       "</g>\r\n",
       "<!-- 12 -->\r\n",
       "<g id=\"node13\" class=\"node\"><title>12</title>\r\n",
       "<polygon fill=\"none\" stroke=\"black\" points=\"677.5,-53 579.5,-53 579.5,-0 677.5,-0 677.5,-53\"/>\r\n",
       "<text text-anchor=\"middle\" x=\"628.5\" y=\"-37.8\" font-family=\"Times New Roman,serif\" font-size=\"14.00\">gini = 0.0</text>\r\n",
       "<text text-anchor=\"middle\" x=\"628.5\" y=\"-22.8\" font-family=\"Times New Roman,serif\" font-size=\"14.00\">samples = 23</text>\r\n",
       "<text text-anchor=\"middle\" x=\"628.5\" y=\"-7.8\" font-family=\"Times New Roman,serif\" font-size=\"14.00\">value = [0, 23]</text>\r\n",
       "</g>\r\n",
       "<!-- 10&#45;&gt;12 -->\r\n",
       "<g id=\"edge12\" class=\"edge\"><title>10&#45;&gt;12</title>\r\n",
       "<path fill=\"none\" stroke=\"black\" d=\"M558.923,-88.9485C569.592,-79.526 581.201,-69.2731 591.825,-59.8906\"/>\r\n",
       "<polygon fill=\"black\" stroke=\"black\" points=\"594.181,-62.4798 599.359,-53.2367 589.547,-57.2331 594.181,-62.4798\"/>\r\n",
       "</g>\r\n",
       "</g>\r\n",
       "</svg>\r\n"
      ],
      "text/plain": [
       "<graphviz.files.Source at 0x28aadaf5da0>"
      ]
     },
     "execution_count": 93,
     "metadata": {},
     "output_type": "execute_result"
    }
   ],
   "source": [
    "dot_data = StringIO()\n",
    "dot_data=tree.export_graphviz(gini_model2, out_file=None)\n",
    "graph=graphviz.Source(dot_data)\n",
    "graph"
   ]
  },
  {
   "cell_type": "code",
   "execution_count": 94,
   "metadata": {},
   "outputs": [
    {
     "data": {
      "image/svg+xml": [
       "<?xml version=\"1.0\" encoding=\"UTF-8\" standalone=\"no\"?>\r\n",
       "<!DOCTYPE svg PUBLIC \"-//W3C//DTD SVG 1.1//EN\"\r\n",
       " \"http://www.w3.org/Graphics/SVG/1.1/DTD/svg11.dtd\">\r\n",
       "<!-- Generated by graphviz version 2.38.0 (20140413.2041)\r\n",
       " -->\r\n",
       "<!-- Title: Tree Pages: 1 -->\r\n",
       "<svg width=\"765pt\" height=\"433pt\"\r\n",
       " viewBox=\"0.00 0.00 765.00 433.00\" xmlns=\"http://www.w3.org/2000/svg\" xmlns:xlink=\"http://www.w3.org/1999/xlink\">\r\n",
       "<g id=\"graph0\" class=\"graph\" transform=\"scale(1 1) rotate(0) translate(4 429)\">\r\n",
       "<title>Tree</title>\r\n",
       "<polygon fill=\"white\" stroke=\"none\" points=\"-4,4 -4,-429 761,-429 761,4 -4,4\"/>\r\n",
       "<!-- 0 -->\r\n",
       "<g id=\"node1\" class=\"node\"><title>0</title>\r\n",
       "<path fill=\"#abd6f4\" stroke=\"black\" d=\"M461,-425C461,-425 304,-425 304,-425 298,-425 292,-419 292,-413 292,-413 292,-354 292,-354 292,-348 298,-342 304,-342 304,-342 461,-342 461,-342 467,-342 473,-348 473,-354 473,-354 473,-413 473,-413 473,-419 467,-425 461,-425\"/>\r\n",
       "<text text-anchor=\"start\" x=\"300\" y=\"-409.8\" font-family=\"Helvetica,sans-Serif\" font-size=\"14.00\">spent_last_month ≤ 100.5</text>\r\n",
       "<text text-anchor=\"start\" x=\"345\" y=\"-394.8\" font-family=\"Helvetica,sans-Serif\" font-size=\"14.00\">gini = 0.464</text>\r\n",
       "<text text-anchor=\"start\" x=\"335\" y=\"-379.8\" font-family=\"Helvetica,sans-Serif\" font-size=\"14.00\">samples = 355</text>\r\n",
       "<text text-anchor=\"start\" x=\"325.5\" y=\"-364.8\" font-family=\"Helvetica,sans-Serif\" font-size=\"14.00\">value = [130, 225]</text>\r\n",
       "<text text-anchor=\"start\" x=\"343.5\" y=\"-349.8\" font-family=\"Helvetica,sans-Serif\" font-size=\"14.00\">class = YES</text>\r\n",
       "</g>\r\n",
       "<!-- 1 -->\r\n",
       "<g id=\"node2\" class=\"node\"><title>1</title>\r\n",
       "<path fill=\"#f0b48a\" stroke=\"black\" d=\"M361.5,-306C361.5,-306 261.5,-306 261.5,-306 255.5,-306 249.5,-300 249.5,-294 249.5,-294 249.5,-235 249.5,-235 249.5,-229 255.5,-223 261.5,-223 261.5,-223 361.5,-223 361.5,-223 367.5,-223 373.5,-229 373.5,-235 373.5,-235 373.5,-294 373.5,-294 373.5,-300 367.5,-306 361.5,-306\"/>\r\n",
       "<text text-anchor=\"start\" x=\"257.5\" y=\"-290.8\" font-family=\"Helvetica,sans-Serif\" font-size=\"14.00\">Distance ≤ 3.754</text>\r\n",
       "<text text-anchor=\"start\" x=\"274\" y=\"-275.8\" font-family=\"Helvetica,sans-Serif\" font-size=\"14.00\">gini = 0.411</text>\r\n",
       "<text text-anchor=\"start\" x=\"264\" y=\"-260.8\" font-family=\"Helvetica,sans-Serif\" font-size=\"14.00\">samples = 152</text>\r\n",
       "<text text-anchor=\"start\" x=\"258.5\" y=\"-245.8\" font-family=\"Helvetica,sans-Serif\" font-size=\"14.00\">value = [108, 44]</text>\r\n",
       "<text text-anchor=\"start\" x=\"276.5\" y=\"-230.8\" font-family=\"Helvetica,sans-Serif\" font-size=\"14.00\">class = NO</text>\r\n",
       "</g>\r\n",
       "<!-- 0&#45;&gt;1 -->\r\n",
       "<g id=\"edge1\" class=\"edge\"><title>0&#45;&gt;1</title>\r\n",
       "<path fill=\"none\" stroke=\"black\" d=\"M357.867,-341.907C352.525,-333.105 346.82,-323.703 341.303,-314.612\"/>\r\n",
       "<polygon fill=\"black\" stroke=\"black\" points=\"344.27,-312.754 336.09,-306.021 338.285,-316.386 344.27,-312.754\"/>\r\n",
       "<text text-anchor=\"middle\" x=\"330.148\" y=\"-326.604\" font-family=\"Helvetica,sans-Serif\" font-size=\"14.00\">True</text>\r\n",
       "</g>\r\n",
       "<!-- 8 -->\r\n",
       "<g id=\"node9\" class=\"node\"><title>8</title>\r\n",
       "<path fill=\"#51a9e8\" stroke=\"black\" d=\"M503.5,-306C503.5,-306 403.5,-306 403.5,-306 397.5,-306 391.5,-300 391.5,-294 391.5,-294 391.5,-235 391.5,-235 391.5,-229 397.5,-223 403.5,-223 403.5,-223 503.5,-223 503.5,-223 509.5,-223 515.5,-229 515.5,-235 515.5,-235 515.5,-294 515.5,-294 515.5,-300 509.5,-306 503.5,-306\"/>\r\n",
       "<text text-anchor=\"start\" x=\"399.5\" y=\"-290.8\" font-family=\"Helvetica,sans-Serif\" font-size=\"14.00\">Distance ≤ 8.047</text>\r\n",
       "<text text-anchor=\"start\" x=\"416\" y=\"-275.8\" font-family=\"Helvetica,sans-Serif\" font-size=\"14.00\">gini = 0.193</text>\r\n",
       "<text text-anchor=\"start\" x=\"406\" y=\"-260.8\" font-family=\"Helvetica,sans-Serif\" font-size=\"14.00\">samples = 203</text>\r\n",
       "<text text-anchor=\"start\" x=\"400.5\" y=\"-245.8\" font-family=\"Helvetica,sans-Serif\" font-size=\"14.00\">value = [22, 181]</text>\r\n",
       "<text text-anchor=\"start\" x=\"414.5\" y=\"-230.8\" font-family=\"Helvetica,sans-Serif\" font-size=\"14.00\">class = YES</text>\r\n",
       "</g>\r\n",
       "<!-- 0&#45;&gt;8 -->\r\n",
       "<g id=\"edge8\" class=\"edge\"><title>0&#45;&gt;8</title>\r\n",
       "<path fill=\"none\" stroke=\"black\" d=\"M407.133,-341.907C412.475,-333.105 418.18,-323.703 423.697,-314.612\"/>\r\n",
       "<polygon fill=\"black\" stroke=\"black\" points=\"426.715,-316.386 428.91,-306.021 420.73,-312.754 426.715,-316.386\"/>\r\n",
       "<text text-anchor=\"middle\" x=\"434.852\" y=\"-326.604\" font-family=\"Helvetica,sans-Serif\" font-size=\"14.00\">False</text>\r\n",
       "</g>\r\n",
       "<!-- 2 -->\r\n",
       "<g id=\"node3\" class=\"node\"><title>2</title>\r\n",
       "<path fill=\"#6cb6ec\" stroke=\"black\" d=\"M232,-187C232,-187 83,-187 83,-187 77,-187 71,-181 71,-175 71,-175 71,-116 71,-116 71,-110 77,-104 83,-104 83,-104 232,-104 232,-104 238,-104 244,-110 244,-116 244,-116 244,-175 244,-175 244,-181 238,-187 232,-187\"/>\r\n",
       "<text text-anchor=\"start\" x=\"79\" y=\"-171.8\" font-family=\"Helvetica,sans-Serif\" font-size=\"14.00\">spent_last_month ≤ 24.5</text>\r\n",
       "<text text-anchor=\"start\" x=\"120\" y=\"-156.8\" font-family=\"Helvetica,sans-Serif\" font-size=\"14.00\">gini = 0.324</text>\r\n",
       "<text text-anchor=\"start\" x=\"114\" y=\"-141.8\" font-family=\"Helvetica,sans-Serif\" font-size=\"14.00\">samples = 54</text>\r\n",
       "<text text-anchor=\"start\" x=\"109\" y=\"-126.8\" font-family=\"Helvetica,sans-Serif\" font-size=\"14.00\">value = [11, 43]</text>\r\n",
       "<text text-anchor=\"start\" x=\"118.5\" y=\"-111.8\" font-family=\"Helvetica,sans-Serif\" font-size=\"14.00\">class = YES</text>\r\n",
       "</g>\r\n",
       "<!-- 1&#45;&gt;2 -->\r\n",
       "<g id=\"edge2\" class=\"edge\"><title>1&#45;&gt;2</title>\r\n",
       "<path fill=\"none\" stroke=\"black\" d=\"M258.07,-222.907C245.409,-213.288 231.806,-202.953 218.824,-193.09\"/>\r\n",
       "<polygon fill=\"black\" stroke=\"black\" points=\"220.915,-190.283 210.835,-187.021 216.68,-195.857 220.915,-190.283\"/>\r\n",
       "</g>\r\n",
       "<!-- 5 -->\r\n",
       "<g id=\"node6\" class=\"node\"><title>5</title>\r\n",
       "<path fill=\"#e5823b\" stroke=\"black\" d=\"M357,-187C357,-187 274,-187 274,-187 268,-187 262,-181 262,-175 262,-175 262,-116 262,-116 262,-110 268,-104 274,-104 274,-104 357,-104 357,-104 363,-104 369,-110 369,-116 369,-116 369,-175 369,-175 369,-181 363,-187 357,-187\"/>\r\n",
       "<text text-anchor=\"start\" x=\"270\" y=\"-171.8\" font-family=\"Helvetica,sans-Serif\" font-size=\"14.00\">Distance ≤ 4.0</text>\r\n",
       "<text text-anchor=\"start\" x=\"282\" y=\"-156.8\" font-family=\"Helvetica,sans-Serif\" font-size=\"14.00\">gini = 0.02</text>\r\n",
       "<text text-anchor=\"start\" x=\"272\" y=\"-141.8\" font-family=\"Helvetica,sans-Serif\" font-size=\"14.00\">samples = 98</text>\r\n",
       "<text text-anchor=\"start\" x=\"271\" y=\"-126.8\" font-family=\"Helvetica,sans-Serif\" font-size=\"14.00\">value = [97, 1]</text>\r\n",
       "<text text-anchor=\"start\" x=\"280.5\" y=\"-111.8\" font-family=\"Helvetica,sans-Serif\" font-size=\"14.00\">class = NO</text>\r\n",
       "</g>\r\n",
       "<!-- 1&#45;&gt;5 -->\r\n",
       "<g id=\"edge5\" class=\"edge\"><title>1&#45;&gt;5</title>\r\n",
       "<path fill=\"none\" stroke=\"black\" d=\"M312.888,-222.907C313.173,-214.558 313.477,-205.671 313.773,-197.02\"/>\r\n",
       "<polygon fill=\"black\" stroke=\"black\" points=\"317.271,-197.135 314.115,-187.021 310.275,-196.895 317.271,-197.135\"/>\r\n",
       "</g>\r\n",
       "<!-- 3 -->\r\n",
       "<g id=\"node4\" class=\"node\"><title>3</title>\r\n",
       "<path fill=\"#e58139\" stroke=\"black\" d=\"M85,-68C85,-68 12,-68 12,-68 6,-68 0,-62 0,-56 0,-56 0,-12 0,-12 0,-6 6,-0 12,-0 12,-0 85,-0 85,-0 91,-0 97,-6 97,-12 97,-12 97,-56 97,-56 97,-62 91,-68 85,-68\"/>\r\n",
       "<text text-anchor=\"start\" x=\"19.5\" y=\"-52.8\" font-family=\"Helvetica,sans-Serif\" font-size=\"14.00\">gini = 0.0</text>\r\n",
       "<text text-anchor=\"start\" x=\"9\" y=\"-37.8\" font-family=\"Helvetica,sans-Serif\" font-size=\"14.00\">samples = 8</text>\r\n",
       "<text text-anchor=\"start\" x=\"8\" y=\"-22.8\" font-family=\"Helvetica,sans-Serif\" font-size=\"14.00\">value = [8, 0]</text>\r\n",
       "<text text-anchor=\"start\" x=\"13.5\" y=\"-7.8\" font-family=\"Helvetica,sans-Serif\" font-size=\"14.00\">class = NO</text>\r\n",
       "</g>\r\n",
       "<!-- 2&#45;&gt;3 -->\r\n",
       "<g id=\"edge3\" class=\"edge\"><title>2&#45;&gt;3</title>\r\n",
       "<path fill=\"none\" stroke=\"black\" d=\"M116.912,-103.726C107.742,-94.5142 98.0093,-84.7364 88.8492,-75.5343\"/>\r\n",
       "<polygon fill=\"black\" stroke=\"black\" points=\"91.183,-72.9176 81.6475,-68.2996 86.2219,-77.8561 91.183,-72.9176\"/>\r\n",
       "</g>\r\n",
       "<!-- 4 -->\r\n",
       "<g id=\"node5\" class=\"node\"><title>4</title>\r\n",
       "<path fill=\"#47a4e7\" stroke=\"black\" d=\"M208,-68C208,-68 127,-68 127,-68 121,-68 115,-62 115,-56 115,-56 115,-12 115,-12 115,-6 121,-0 127,-0 127,-0 208,-0 208,-0 214,-0 220,-6 220,-12 220,-12 220,-56 220,-56 220,-62 214,-68 208,-68\"/>\r\n",
       "<text text-anchor=\"start\" x=\"130\" y=\"-52.8\" font-family=\"Helvetica,sans-Serif\" font-size=\"14.00\">gini = 0.122</text>\r\n",
       "<text text-anchor=\"start\" x=\"124\" y=\"-37.8\" font-family=\"Helvetica,sans-Serif\" font-size=\"14.00\">samples = 46</text>\r\n",
       "<text text-anchor=\"start\" x=\"123\" y=\"-22.8\" font-family=\"Helvetica,sans-Serif\" font-size=\"14.00\">value = [3, 43]</text>\r\n",
       "<text text-anchor=\"start\" x=\"128.5\" y=\"-7.8\" font-family=\"Helvetica,sans-Serif\" font-size=\"14.00\">class = YES</text>\r\n",
       "</g>\r\n",
       "<!-- 2&#45;&gt;4 -->\r\n",
       "<g id=\"edge4\" class=\"edge\"><title>2&#45;&gt;4</title>\r\n",
       "<path fill=\"none\" stroke=\"black\" d=\"M161.224,-103.726C161.982,-95.4263 162.782,-86.6671 163.547,-78.2834\"/>\r\n",
       "<polygon fill=\"black\" stroke=\"black\" points=\"167.035,-78.5765 164.459,-68.2996 160.064,-77.9398 167.035,-78.5765\"/>\r\n",
       "</g>\r\n",
       "<!-- 6 -->\r\n",
       "<g id=\"node7\" class=\"node\"><title>6</title>\r\n",
       "<path fill=\"#f2c09c\" stroke=\"black\" d=\"M342,-68C342,-68 269,-68 269,-68 263,-68 257,-62 257,-56 257,-56 257,-12 257,-12 257,-6 263,-0 269,-0 269,-0 342,-0 342,-0 348,-0 354,-6 354,-12 354,-12 354,-56 354,-56 354,-62 348,-68 342,-68\"/>\r\n",
       "<text text-anchor=\"start\" x=\"268\" y=\"-52.8\" font-family=\"Helvetica,sans-Serif\" font-size=\"14.00\">gini = 0.444</text>\r\n",
       "<text text-anchor=\"start\" x=\"266\" y=\"-37.8\" font-family=\"Helvetica,sans-Serif\" font-size=\"14.00\">samples = 3</text>\r\n",
       "<text text-anchor=\"start\" x=\"265\" y=\"-22.8\" font-family=\"Helvetica,sans-Serif\" font-size=\"14.00\">value = [2, 1]</text>\r\n",
       "<text text-anchor=\"start\" x=\"270.5\" y=\"-7.8\" font-family=\"Helvetica,sans-Serif\" font-size=\"14.00\">class = NO</text>\r\n",
       "</g>\r\n",
       "<!-- 5&#45;&gt;6 -->\r\n",
       "<g id=\"edge6\" class=\"edge\"><title>5&#45;&gt;6</title>\r\n",
       "<path fill=\"none\" stroke=\"black\" d=\"M311.776,-103.726C311.018,-95.4263 310.218,-86.6671 309.453,-78.2834\"/>\r\n",
       "<polygon fill=\"black\" stroke=\"black\" points=\"312.936,-77.9398 308.541,-68.2996 305.965,-78.5765 312.936,-77.9398\"/>\r\n",
       "</g>\r\n",
       "<!-- 7 -->\r\n",
       "<g id=\"node8\" class=\"node\"><title>7</title>\r\n",
       "<path fill=\"#e58139\" stroke=\"black\" d=\"M465,-68C465,-68 384,-68 384,-68 378,-68 372,-62 372,-56 372,-56 372,-12 372,-12 372,-6 378,-0 384,-0 384,-0 465,-0 465,-0 471,-0 477,-6 477,-12 477,-12 477,-56 477,-56 477,-62 471,-68 465,-68\"/>\r\n",
       "<text text-anchor=\"start\" x=\"395.5\" y=\"-52.8\" font-family=\"Helvetica,sans-Serif\" font-size=\"14.00\">gini = 0.0</text>\r\n",
       "<text text-anchor=\"start\" x=\"381\" y=\"-37.8\" font-family=\"Helvetica,sans-Serif\" font-size=\"14.00\">samples = 95</text>\r\n",
       "<text text-anchor=\"start\" x=\"380\" y=\"-22.8\" font-family=\"Helvetica,sans-Serif\" font-size=\"14.00\">value = [95, 0]</text>\r\n",
       "<text text-anchor=\"start\" x=\"389.5\" y=\"-7.8\" font-family=\"Helvetica,sans-Serif\" font-size=\"14.00\">class = NO</text>\r\n",
       "</g>\r\n",
       "<!-- 5&#45;&gt;7 -->\r\n",
       "<g id=\"edge7\" class=\"edge\"><title>5&#45;&gt;7</title>\r\n",
       "<path fill=\"none\" stroke=\"black\" d=\"M356.088,-103.726C365.258,-94.5142 374.991,-84.7364 384.151,-75.5343\"/>\r\n",
       "<polygon fill=\"black\" stroke=\"black\" points=\"386.778,-77.8561 391.352,-68.2996 381.817,-72.9176 386.778,-77.8561\"/>\r\n",
       "</g>\r\n",
       "<!-- 9 -->\r\n",
       "<g id=\"node10\" class=\"node\"><title>9</title>\r\n",
       "<path fill=\"#399de5\" stroke=\"black\" d=\"M495,-179.5C495,-179.5 406,-179.5 406,-179.5 400,-179.5 394,-173.5 394,-167.5 394,-167.5 394,-123.5 394,-123.5 394,-117.5 400,-111.5 406,-111.5 406,-111.5 495,-111.5 495,-111.5 501,-111.5 507,-117.5 507,-123.5 507,-123.5 507,-167.5 507,-167.5 507,-173.5 501,-179.5 495,-179.5\"/>\r\n",
       "<text text-anchor=\"start\" x=\"421.5\" y=\"-164.3\" font-family=\"Helvetica,sans-Serif\" font-size=\"14.00\">gini = 0.0</text>\r\n",
       "<text text-anchor=\"start\" x=\"403\" y=\"-149.3\" font-family=\"Helvetica,sans-Serif\" font-size=\"14.00\">samples = 158</text>\r\n",
       "<text text-anchor=\"start\" x=\"402\" y=\"-134.3\" font-family=\"Helvetica,sans-Serif\" font-size=\"14.00\">value = [0, 158]</text>\r\n",
       "<text text-anchor=\"start\" x=\"411.5\" y=\"-119.3\" font-family=\"Helvetica,sans-Serif\" font-size=\"14.00\">class = YES</text>\r\n",
       "</g>\r\n",
       "<!-- 8&#45;&gt;9 -->\r\n",
       "<g id=\"edge9\" class=\"edge\"><title>8&#45;&gt;9</title>\r\n",
       "<path fill=\"none\" stroke=\"black\" d=\"M452.459,-222.907C452.185,-212.204 451.888,-200.615 451.61,-189.776\"/>\r\n",
       "<polygon fill=\"black\" stroke=\"black\" points=\"455.106,-189.574 451.35,-179.667 448.108,-189.753 455.106,-189.574\"/>\r\n",
       "</g>\r\n",
       "<!-- 10 -->\r\n",
       "<g id=\"node11\" class=\"node\"><title>10</title>\r\n",
       "<path fill=\"#f6fbfe\" stroke=\"black\" d=\"M694,-187C694,-187 537,-187 537,-187 531,-187 525,-181 525,-175 525,-175 525,-116 525,-116 525,-110 531,-104 537,-104 537,-104 694,-104 694,-104 700,-104 706,-110 706,-116 706,-116 706,-175 706,-175 706,-181 700,-187 694,-187\"/>\r\n",
       "<text text-anchor=\"start\" x=\"533\" y=\"-171.8\" font-family=\"Helvetica,sans-Serif\" font-size=\"14.00\">spent_last_month ≤ 140.5</text>\r\n",
       "<text text-anchor=\"start\" x=\"586.5\" y=\"-156.8\" font-family=\"Helvetica,sans-Serif\" font-size=\"14.00\">gini = 0.5</text>\r\n",
       "<text text-anchor=\"start\" x=\"572\" y=\"-141.8\" font-family=\"Helvetica,sans-Serif\" font-size=\"14.00\">samples = 45</text>\r\n",
       "<text text-anchor=\"start\" x=\"567\" y=\"-126.8\" font-family=\"Helvetica,sans-Serif\" font-size=\"14.00\">value = [22, 23]</text>\r\n",
       "<text text-anchor=\"start\" x=\"576.5\" y=\"-111.8\" font-family=\"Helvetica,sans-Serif\" font-size=\"14.00\">class = YES</text>\r\n",
       "</g>\r\n",
       "<!-- 8&#45;&gt;10 -->\r\n",
       "<g id=\"edge10\" class=\"edge\"><title>8&#45;&gt;10</title>\r\n",
       "<path fill=\"none\" stroke=\"black\" d=\"M509.705,-222.907C523.025,-213.288 537.334,-202.953 550.99,-193.09\"/>\r\n",
       "<polygon fill=\"black\" stroke=\"black\" points=\"553.337,-195.713 559.394,-187.021 549.238,-190.038 553.337,-195.713\"/>\r\n",
       "</g>\r\n",
       "<!-- 11 -->\r\n",
       "<g id=\"node12\" class=\"node\"><title>11</title>\r\n",
       "<path fill=\"#e58139\" stroke=\"black\" d=\"M622,-68C622,-68 541,-68 541,-68 535,-68 529,-62 529,-56 529,-56 529,-12 529,-12 529,-6 535,-0 541,-0 541,-0 622,-0 622,-0 628,-0 634,-6 634,-12 634,-12 634,-56 634,-56 634,-62 628,-68 622,-68\"/>\r\n",
       "<text text-anchor=\"start\" x=\"552.5\" y=\"-52.8\" font-family=\"Helvetica,sans-Serif\" font-size=\"14.00\">gini = 0.0</text>\r\n",
       "<text text-anchor=\"start\" x=\"538\" y=\"-37.8\" font-family=\"Helvetica,sans-Serif\" font-size=\"14.00\">samples = 22</text>\r\n",
       "<text text-anchor=\"start\" x=\"537\" y=\"-22.8\" font-family=\"Helvetica,sans-Serif\" font-size=\"14.00\">value = [22, 0]</text>\r\n",
       "<text text-anchor=\"start\" x=\"546.5\" y=\"-7.8\" font-family=\"Helvetica,sans-Serif\" font-size=\"14.00\">class = NO</text>\r\n",
       "</g>\r\n",
       "<!-- 10&#45;&gt;11 -->\r\n",
       "<g id=\"edge11\" class=\"edge\"><title>10&#45;&gt;11</title>\r\n",
       "<path fill=\"none\" stroke=\"black\" d=\"M602.84,-103.726C600.234,-95.3351 597.483,-86.4745 594.854,-78.0072\"/>\r\n",
       "<polygon fill=\"black\" stroke=\"black\" points=\"598.148,-76.8119 591.84,-68.2996 591.462,-78.8877 598.148,-76.8119\"/>\r\n",
       "</g>\r\n",
       "<!-- 12 -->\r\n",
       "<g id=\"node13\" class=\"node\"><title>12</title>\r\n",
       "<path fill=\"#399de5\" stroke=\"black\" d=\"M745,-68C745,-68 664,-68 664,-68 658,-68 652,-62 652,-56 652,-56 652,-12 652,-12 652,-6 658,-0 664,-0 664,-0 745,-0 745,-0 751,-0 757,-6 757,-12 757,-12 757,-56 757,-56 757,-62 751,-68 745,-68\"/>\r\n",
       "<text text-anchor=\"start\" x=\"675.5\" y=\"-52.8\" font-family=\"Helvetica,sans-Serif\" font-size=\"14.00\">gini = 0.0</text>\r\n",
       "<text text-anchor=\"start\" x=\"661\" y=\"-37.8\" font-family=\"Helvetica,sans-Serif\" font-size=\"14.00\">samples = 23</text>\r\n",
       "<text text-anchor=\"start\" x=\"660\" y=\"-22.8\" font-family=\"Helvetica,sans-Serif\" font-size=\"14.00\">value = [0, 23]</text>\r\n",
       "<text text-anchor=\"start\" x=\"665.5\" y=\"-7.8\" font-family=\"Helvetica,sans-Serif\" font-size=\"14.00\">class = YES</text>\r\n",
       "</g>\r\n",
       "<!-- 10&#45;&gt;12 -->\r\n",
       "<g id=\"edge12\" class=\"edge\"><title>10&#45;&gt;12</title>\r\n",
       "<path fill=\"none\" stroke=\"black\" d=\"M648.64,-103.726C655.979,-94.6966 663.76,-85.1235 671.109,-76.0816\"/>\r\n",
       "<polygon fill=\"black\" stroke=\"black\" points=\"673.843,-78.2672 677.435,-68.2996 668.411,-73.8521 673.843,-78.2672\"/>\r\n",
       "</g>\r\n",
       "</g>\r\n",
       "</svg>\r\n"
      ],
      "text/plain": [
       "<graphviz.files.Source at 0x28aad989c18>"
      ]
     },
     "execution_count": 94,
     "metadata": {},
     "output_type": "execute_result"
    }
   ],
   "source": [
    "# Alternatively for class_names use gini_model2.classes_\n",
    "graph=graphviz.Source(tree.export_graphviz(gini_model2, out_file=None,\n",
    "                     feature_names=X.columns,  \n",
    "                      class_names=gini_model2.classes_,  \n",
    "                      filled=True, rounded=True,  \n",
    "                      special_characters=True))\n",
    "graph"
   ]
  },
  {
   "cell_type": "code",
   "execution_count": 95,
   "metadata": {
    "colab": {},
    "colab_type": "code",
    "id": "R4t7e9-GDuW9"
   },
   "outputs": [
    {
     "name": "stdout",
     "output_type": "stream",
     "text": [
      "Gini impurity  model - max depth 3\n",
      "Accuracy: 0.9747899159663865\n",
      "Balanced accuracy: 0.9691994996873046\n",
      "Precision score 0.9746835443037974\n",
      "Recall score 0.9512195121951219\n"
     ]
    }
   ],
   "source": [
    "print(\"Gini impurity  model - max depth 3\")\n",
    "print(\"Accuracy:\", metrics.accuracy_score(y_test,y_pred))\n",
    "print(\"Balanced accuracy:\", metrics.balanced_accuracy_score(y_test,y_pred))\n",
    "print('Precision score' , metrics.precision_score(y_test,y_pred, pos_label = \"YES\"))\n",
    "print('Recall score' , metrics.recall_score(y_test,y_pred, pos_label = \"NO\"))"
   ]
  },
  {
   "cell_type": "markdown",
   "metadata": {
    "colab_type": "text",
    "id": "UzGThBXSDuW-"
   },
   "source": [
    "Now this is an elegant tree. Its accuracy might not be the highest, but it's still the best model we've produced so far. Why is that? Write your answer here:\n",
    "\n",
    "This tree is less risky to be overfitted, unlike the first max depth decision tree. And the accuracy is acceptable, especially the accuracy is much higer than the accuracy of enthopy model - max depth 3. Without the risk of overfitting, this is indeed the best model we've produced so far. "
   ]
  },
  {
   "cell_type": "markdown",
   "metadata": {
    "colab_type": "text",
    "id": "jS1niFlCDuW_"
   },
   "source": [
    "# 4. Evaluating and concluding\n",
    "## 4a. How many customers will buy Hidden Farm coffee? \n",
    "Let's first ascertain how many loyal customers claimed, in the survey, that they will purchase the Hidden Farm coffee. "
   ]
  },
  {
   "cell_type": "code",
   "execution_count": 47,
   "metadata": {
    "colab": {},
    "colab_type": "code",
    "id": "QPHXnHZvDuXC"
   },
   "outputs": [
    {
     "data": {
      "text/plain": [
       "YES    303\n",
       "NO     171\n",
       "Name: Decision, dtype: int64"
      ]
     },
     "execution_count": 47,
     "metadata": {},
     "output_type": "execute_result"
    }
   ],
   "source": [
    "# Call value_counts() on the 'Decision' column of the original coffeeData\n",
    "coffeeData['Decision'].value_counts()"
   ]
  },
  {
   "cell_type": "markdown",
   "metadata": {
    "colab_type": "text",
    "id": "kw_5g_ZEDuXD"
   },
   "source": [
    "Let's now determine the number of people that, according to the model, will be willing to buy the Hidden Farm coffee. \n",
    "1. First we subset the Prediction dataset into `new_X` considering all the variables except `Decision` \n",
    "2. Use that dataset to predict a new variable called `potential_buyers`"
   ]
  },
  {
   "cell_type": "code",
   "execution_count": 98,
   "metadata": {
    "colab": {},
    "colab_type": "code",
    "id": "mwypR8ymDuXE"
   },
   "outputs": [],
   "source": [
    "# Feature selection\n",
    "# Make a variable called feature_cols, and assign it a list containing all the column names except 'Decision'\n",
    "feature_cols=coffeeData.columns.drop('Decision')\n",
    "\n",
    "# Make a variable called new_X, and assign it the subset of Prediction, containing just the feature_cols \n",
    "new_X=Prediction[feature_cols]"
   ]
  },
  {
   "cell_type": "code",
   "execution_count": 99,
   "metadata": {
    "colab": {},
    "colab_type": "code",
    "id": "0ajvbeRSDuXG"
   },
   "outputs": [],
   "source": [
    "# Call get_dummies() on the Pandas object pd, with new_X plugged in, to one-hot encode all features in the training set\n",
    "new_X=pd.get_dummies(new_X)\n",
    "\n",
    "# Make a variable called potential_buyers, and assign it the result of calling predict() on a model of your choice; \n",
    "# don't forget to pass new_X to predict()\n",
    "potential_buyers=gini_model2.predict(new_X)"
   ]
  },
  {
   "cell_type": "code",
   "execution_count": 100,
   "metadata": {
    "colab": {},
    "colab_type": "code",
    "id": "-MO_KWT9DuXI"
   },
   "outputs": [
    {
     "data": {
      "text/plain": [
       "(array(['NO', 'YES'], dtype=object), array([ 45, 183], dtype=int64))"
      ]
     },
     "execution_count": 100,
     "metadata": {},
     "output_type": "execute_result"
    }
   ],
   "source": [
    "# Let's get the numbers of YES's and NO's in the potential buyers \n",
    "# Call unique() on np, and pass potential_buyers and return_counts=True \n",
    "np.unique(potential_buyers, return_counts=True)"
   ]
  },
  {
   "cell_type": "markdown",
   "metadata": {
    "colab_type": "text",
    "id": "3CB7HbiTDuXJ"
   },
   "source": [
    "The total number of potential buyers is 303 + 183 = 486"
   ]
  },
  {
   "cell_type": "code",
   "execution_count": 101,
   "metadata": {
    "colab": {},
    "colab_type": "code",
    "id": "9EGFQcTuDuXK"
   },
   "outputs": [
    {
     "name": "stdout",
     "output_type": "stream",
     "text": [
      "Total number of surveyed people is 702\n"
     ]
    }
   ],
   "source": [
    "# Print the total number of surveyed people \n",
    "print('Total number of surveyed people is {}'.format(coffeeData.shape[0]))"
   ]
  },
  {
   "cell_type": "code",
   "execution_count": 105,
   "metadata": {
    "colab": {},
    "colab_type": "code",
    "id": "22_KRMX4DuXM"
   },
   "outputs": [
    {
     "name": "stdout",
     "output_type": "stream",
     "text": [
      "The proportion of buyers is 0.6923\n"
     ]
    }
   ],
   "source": [
    "# Let's calculate the proportion of buyers\n",
    "print('The proportion of buyers is {:.4f}'.format(486/702)) "
   ]
  },
  {
   "cell_type": "code",
   "execution_count": 104,
   "metadata": {
    "colab": {},
    "colab_type": "code",
    "id": "xLMCDMpmDuXO"
   },
   "outputs": [
    {
     "name": "stdout",
     "output_type": "stream",
     "text": [
      "The precentage of people who want to buy the Hidden Farm coffee by our model is 69.23%\n"
     ]
    }
   ],
   "source": [
    "# Print the percentage of people who want to buy the Hidden Farm coffee, by our model \n",
    "print('The precentage of people who want to buy the Hidden Farm coffee by our model is {:.2f}%'.format(486/702*100))"
   ]
  },
  {
   "cell_type": "markdown",
   "metadata": {
    "colab_type": "text",
    "id": "9bRDyi6rDuXQ"
   },
   "source": [
    "## 4b. Decision\n",
    "Remember how you thought at the start: if more than 70% of the interviewed customers are likely to buy the Hidden Farm coffee, you will strike the deal with the local Hidden Farm farmers and sell the coffee. Otherwise, you won't strike the deal and the Hidden Farm coffee will remain in legends only. Well now's crunch time. Are you going to go ahead with that idea? If so, you won't be striking the deal with the Chinese farmers. \n",
    "\n",
    "They're called `decision trees`, aren't they? So where's the decision? What should you do? (Cue existential cat emoji). \n",
    "\n",
    "Ultimately, though, we can't write an algorithm to actually *make the business decision* for us. This is because such decisions depend on our values, what risks we are willing to take, the stakes of our decisions, and how important it us for us to *know* that we will succeed. What are you going to do with the models you've made? Are you going to risk everything, strike the deal with the *Hidden Farm* farmers, and sell the coffee? \n",
    "\n",
    "The philosopher of language Jason Stanley once wrote that the number of doubts our evidence has to rule out in order for us to know a given proposition depends on our stakes: the higher our stakes, the more doubts our evidence has to rule out, and therefore the harder it is for us to know things. We can end up paralyzed in predicaments; sometimes, we can act to better our situation only if we already know certain things, which we can only if our stakes were lower and we'd *already* bettered our situation. \n",
    "\n",
    "Data science and machine learning can't solve such problems. But what it can do is help us make great use of our data to help *inform* our decisions."
   ]
  },
  {
   "cell_type": "markdown",
   "metadata": {
    "colab_type": "text",
    "id": "crWWrpdox8i-"
   },
   "source": [
    "## 5. Random Forest\n",
    "You might have noticed an important fact about decision trees. Each time we run a given decision tree algorithm to make a prediction (such as whether customers will buy the Hidden Farm coffee) we will actually get a slightly different result. This might seem weird, but it has a simple explanation: machine learning algorithms are by definition ***stochastic***, in that their output is at least partly determined by randomness. \n",
    "\n",
    "To account for this variability and ensure that we get the most accurate prediction, we might want to actually make lots of decision trees, and get a value that captures the centre or average of the outputs of those trees. Luckily, there's a method for this, known as the ***Random Forest***. \n",
    "\n",
    "Essentially, Random Forest involves making lots of trees with similar properties, and then performing summary statistics on the outputs of those trees to reach that central value. Random forests are hugely powerful classifers, and they can improve predictive accuracy and control over-fitting. \n",
    "\n",
    "Why not try to inform your decision with random forest? You'll need to make use of the RandomForestClassifier function within the sklearn.ensemble module, found [here](https://scikit-learn.org/stable/modules/generated/sklearn.ensemble.RandomForestClassifier.html). "
   ]
  },
  {
   "cell_type": "markdown",
   "metadata": {
    "colab_type": "text",
    "id": "fI4fiVWq0IH9"
   },
   "source": [
    "### 5a. Import necessary modules"
   ]
  },
  {
   "cell_type": "code",
   "execution_count": 106,
   "metadata": {
    "colab": {},
    "colab_type": "code",
    "id": "vSRTnHnD0D-O"
   },
   "outputs": [],
   "source": [
    "from sklearn.ensemble import RandomForestClassifier\n",
    "from sklearn.datasets import make_classification"
   ]
  },
  {
   "cell_type": "markdown",
   "metadata": {
    "colab_type": "text",
    "id": "jKmFvvjb0WB9"
   },
   "source": [
    "### 5b. Model\n",
    "You'll use your X_train and y_train variables just as before.\n",
    "\n",
    "You'll then need to make a variable (call it firstRFModel) to store your new Random Forest model. You'll assign this variable the result of calling RandomForestClassifier().\n",
    "\n",
    "Then, just as before, you'll call fit() on that firstRFModel variable, and plug in X_train and y_train.\n",
    "\n",
    "Finally, you should make a variable called y_pred, and assign it the result of calling the predict() method on your new firstRFModel, with the X_test data passed to it. "
   ]
  },
  {
   "cell_type": "code",
   "execution_count": 109,
   "metadata": {
    "colab": {},
    "colab_type": "code",
    "id": "OQEeTiRG1aSm"
   },
   "outputs": [
    {
     "name": "stdout",
     "output_type": "stream",
     "text": [
      "Random Forest - max depth 3\n",
      "Accuracy: 0.9411764705882353\n",
      "Balanced accuracy: 0.9204190118824265\n",
      "Precision score for \"Yes\" 0.927710843373494\n",
      "Precision score for \"No\" 0.9722222222222222\n",
      "Recall score for \"Yes\" 0.9871794871794872\n",
      "Recall score for \"No\" 0.8536585365853658\n"
     ]
    }
   ],
   "source": [
    "# Plug in appropriate max_depth and random_state parameters \n",
    "firstRFModel=RandomForestClassifier(random_state=1234, max_depth=3)\n",
    "\n",
    "# Model and fit\n",
    "firstRFModel.fit(X_train, y_train)\n",
    "y_pred=pd.Series(firstRFModel.predict(X_test))\n",
    "print(\"Random Forest - max depth 3\")\n",
    "print(\"Accuracy:\", metrics.accuracy_score(y_test,y_pred))\n",
    "print(\"Balanced accuracy:\", metrics.balanced_accuracy_score(y_test,y_pred))\n",
    "print('Precision score for \"Yes\"' , metrics.precision_score(y_test,y_pred, pos_label = \"YES\"))\n",
    "print('Precision score for \"No\"' , metrics.precision_score(y_test,y_pred, pos_label = \"NO\"))\n",
    "print('Recall score for \"Yes\"' , metrics.recall_score(y_test,y_pred, pos_label = \"YES\"))\n",
    "print('Recall score for \"No\"' , metrics.recall_score(y_test,y_pred, pos_label = \"NO\"))"
   ]
  },
  {
   "cell_type": "code",
   "execution_count": 111,
   "metadata": {},
   "outputs": [
    {
     "data": {
      "text/plain": [
       "(array(['NO', 'YES'], dtype=object), array([ 39, 189], dtype=int64))"
      ]
     },
     "execution_count": 111,
     "metadata": {},
     "output_type": "execute_result"
    }
   ],
   "source": [
    "potential_buyers_RF=firstRFModel.predict(new_X)\n",
    "np.unique(potential_buyers_RF, return_counts=True)"
   ]
  },
  {
   "cell_type": "code",
   "execution_count": 117,
   "metadata": {},
   "outputs": [
    {
     "name": "stdout",
     "output_type": "stream",
     "text": [
      "The precentage of people who want to buy the Hidden Farm coffee by our model is 70.09%\n"
     ]
    }
   ],
   "source": [
    "print('The precentage of people who want to buy the Hidden Farm coffee by our model is {:.2f}%'.format(\n",
    "    ((coffeeData['Decision']=='YES').sum()+(potential_buyers_RF=='YES').sum())/702*100))"
   ]
  },
  {
   "cell_type": "markdown",
   "metadata": {
    "colab_type": "text",
    "id": "sCIt6pyn1zpb"
   },
   "source": [
    "### 5c. Revise conclusion\n",
    "\n",
    "Has your conclusion changed? Or is the result of executing random forest the same as your best model reached by a single decision tree? \n",
    "\n",
    "Whatever my conclusion will be, it is not going to be changed. Although my judgement criteria is 70%, however, the difference between my best model reached by a single decision tree (69.23%) and the random forest model (70.09%) is insiginficant. We cannot change our mind only because a better model is a little over 70% while the other model is a little under 70%. We can use this information from the data, while we have to use other knowledge and judegment to make the final call."
   ]
  }
 ],
 "metadata": {
  "colab": {
   "collapsed_sections": [],
   "name": "Springboard Decision Tree Specialty Coffee Case Study - Tier 3.ipynb",
   "provenance": []
  },
  "kernelspec": {
   "display_name": "Python 3",
   "language": "python",
   "name": "python3"
  },
  "language_info": {
   "codemirror_mode": {
    "name": "ipython",
    "version": 3
   },
   "file_extension": ".py",
   "mimetype": "text/x-python",
   "name": "python",
   "nbconvert_exporter": "python",
   "pygments_lexer": "ipython3",
   "version": "3.7.1"
  }
 },
 "nbformat": 4,
 "nbformat_minor": 4
}
